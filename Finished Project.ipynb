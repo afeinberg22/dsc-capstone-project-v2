{
 "cells": [
  {
   "cell_type": "markdown",
   "metadata": {},
   "source": [
    "# Capstone Project "
   ]
  },
  {
   "cell_type": "markdown",
   "metadata": {},
   "source": [
    "Twitter sentiment anaylsis to predict twitter sentiment analysis"
   ]
  },
  {
   "cell_type": "markdown",
   "metadata": {},
   "source": [
    "# Obtain "
   ]
  },
  {
   "cell_type": "code",
   "execution_count": 1,
   "metadata": {
    "collapsed": true
   },
   "outputs": [
    {
     "name": "stderr",
     "output_type": "stream",
     "text": [
      "[nltk_data] Downloading package stopwords to\n",
      "[nltk_data]     /Users/afeinberg/nltk_data...\n",
      "[nltk_data]   Package stopwords is already up-to-date!\n"
     ]
    },
    {
     "name": "stdout",
     "output_type": "stream",
     "text": [
      "\u001b[31mERROR: Could not open requirements file: [Errno 2] No such file or directory: 'requirements.txt'\u001b[0m\n",
      "\u001b[33mWARNING: You are using pip version 20.1.1; however, version 20.2 is available.\n",
      "You should consider upgrading via the '/Users/afeinberg/anaconda3/envs/learn-env/bin/python -m pip install --upgrade pip' command.\u001b[0m\n",
      "Obtaining twint from git+https://github.com/twintproject/twint.git@origin/master#egg=twint\n",
      "\u001b[31mERROR: Exception:\n",
      "Traceback (most recent call last):\n",
      "  File \"/Users/afeinberg/anaconda3/envs/learn-env/lib/python3.6/site-packages/pip/_internal/vcs/git.py\", line 293, in get_remote_url\n",
      "    found_remote = remotes[0]\n",
      "IndexError: list index out of range\n",
      "\n",
      "During handling of the above exception, another exception occurred:\n",
      "\n",
      "Traceback (most recent call last):\n",
      "  File \"/Users/afeinberg/anaconda3/envs/learn-env/lib/python3.6/site-packages/pip/_internal/cli/base_command.py\", line 188, in _main\n",
      "    status = self.run(options, args)\n",
      "  File \"/Users/afeinberg/anaconda3/envs/learn-env/lib/python3.6/site-packages/pip/_internal/cli/req_command.py\", line 185, in wrapper\n",
      "    return func(self, options, args)\n",
      "  File \"/Users/afeinberg/anaconda3/envs/learn-env/lib/python3.6/site-packages/pip/_internal/commands/install.py\", line 333, in run\n",
      "    reqs, check_supported_wheels=not options.target_dir\n",
      "  File \"/Users/afeinberg/anaconda3/envs/learn-env/lib/python3.6/site-packages/pip/_internal/resolution/legacy/resolver.py\", line 179, in resolve\n",
      "    discovered_reqs.extend(self._resolve_one(requirement_set, req))\n",
      "  File \"/Users/afeinberg/anaconda3/envs/learn-env/lib/python3.6/site-packages/pip/_internal/resolution/legacy/resolver.py\", line 362, in _resolve_one\n",
      "    abstract_dist = self._get_abstract_dist_for(req_to_install)\n",
      "  File \"/Users/afeinberg/anaconda3/envs/learn-env/lib/python3.6/site-packages/pip/_internal/resolution/legacy/resolver.py\", line 300, in _get_abstract_dist_for\n",
      "    return self.preparer.prepare_editable_requirement(req)\n",
      "  File \"/Users/afeinberg/anaconda3/envs/learn-env/lib/python3.6/site-packages/pip/_internal/operations/prepare.py\", line 529, in prepare_editable_requirement\n",
      "    req.update_editable(not self._download_should_save)\n",
      "  File \"/Users/afeinberg/anaconda3/envs/learn-env/lib/python3.6/site-packages/pip/_internal/req/req_install.py\", line 643, in update_editable\n",
      "    vcs_backend.obtain(self.source_dir, url=hidden_url)\n",
      "  File \"/Users/afeinberg/anaconda3/envs/learn-env/lib/python3.6/site-packages/pip/_internal/vcs/versioncontrol.py\", line 550, in obtain\n",
      "    existing_url = self.get_remote_url(dest)\n",
      "  File \"/Users/afeinberg/anaconda3/envs/learn-env/lib/python3.6/site-packages/pip/_internal/vcs/git.py\", line 295, in get_remote_url\n",
      "    raise RemoteNotFoundError\n",
      "pip._internal.vcs.versioncontrol.RemoteNotFoundError\u001b[0m\n",
      "\u001b[33mWARNING: You are using pip version 20.1.1; however, version 20.2 is available.\n",
      "You should consider upgrading via the '/Users/afeinberg/anaconda3/envs/learn-env/bin/python -m pip install --upgrade pip' command.\u001b[0m\n"
     ]
    }
   ],
   "source": [
    "import numpy as np\n",
    "import pandas as pd\n",
    "import re \n",
    "from nltk.classify import NaiveBayesClassifier\n",
    "from nltk.corpus import subjectivity\n",
    "from nltk.sentiment import SentimentAnalyzer\n",
    "from nltk.sentiment.util import *\n",
    "from sklearn.pipeline import Pipeline\n",
    "from sklearn.model_selection import train_test_split\n",
    "from sklearn.metrics import classification_report, confusion_matrix, accuracy_score\n",
    "from sklearn.naive_bayes import MultinomialNB\n",
    "from sklearn.model_selection import KFold, cross_val_score\n",
    "from sklearn.ensemble import RandomForestClassifier\n",
    "from sklearn.feature_extraction.text import CountVectorizer\n",
    "from sklearn.feature_extraction.text import TfidfTransformer\n",
    "from sklearn.model_selection import GridSearchCV\n",
    "from sklearn.externals import joblib\n",
    "from nltk.corpus import stopwords\n",
    "from nltk.tokenize import TweetTokenizer\n",
    "from wordcloud import WordCloud\n",
    "import matplotlib.pyplot as plt\n",
    "import nltk\n",
    "import seaborn as sns\n",
    "nltk.download('stopwords')\n",
    "from nltk import word_tokenize\n",
    "from nltk.corpus import stopwords\n",
    "stopword_list = stopwords.words('english')\n",
    "import matplotlib.pyplot as mlpt\n",
    "import tweepy\n",
    "import sys\n",
    "sys.path.append(\"twint/\")\n",
    "!pip install --user -r requirements.txt\n",
    "!pip install --upgrade --user -e git+https://github.com/twintproject/twint.git@origin/master#egg=twint\n",
    "%load_ext autoreload\n",
    "%autoreload 2\n",
    "import sys\n",
    "sys.path.append(\"twint/\")\n",
    "import twint \n",
    "import nest_asyncio\n",
    "import warnings\n",
    "warnings.filterwarnings('ignore')\n",
    "nest_asyncio.apply()"
   ]
  },
  {
   "cell_type": "markdown",
   "metadata": {},
   "source": [
    "### Using Twitter API"
   ]
  },
  {
   "cell_type": "markdown",
   "metadata": {},
   "source": [
    "I've recieved access to the twitter API, however I soon realized that the API only offers you 7 days of historical tweets. This is not enough data to predict stock price. Leaving the process and functions I used to get to this source of data, with the purpose of identifying it's limitations. \n",
    "\n",
    "Removed credentials for security purposes"
   ]
  },
  {
   "cell_type": "code",
   "execution_count": 2,
   "metadata": {},
   "outputs": [],
   "source": [
    "consumer_key = ###########\n",
    "consumer_secret = ########\n",
    "access_token = ##########\n",
    "access_token_secret = #########"
   ]
  },
  {
   "cell_type": "code",
   "execution_count": 3,
   "metadata": {},
   "outputs": [],
   "source": [
    "# Creating the authentication object\n",
    "auth = tweepy.OAuthHandler(consumer_key, consumer_secret)\n",
    "# Setting your access token and secret\n",
    "auth.set_access_token(access_token, access_token_secret)\n",
    "# Creating the API object while passing in auth information\n",
    "api = tweepy.API(auth) \n",
    " "
   ]
  },
  {
   "cell_type": "code",
   "execution_count": 4,
   "metadata": {},
   "outputs": [],
   "source": [
    "def get_result(company_name,company_ticker,no_of_tweets):\n",
    "\n",
    "    tweets = tweepy.Cursor(api.search,q=(company_name,company_ticker),lang=\"en\").items(no_of_tweets) #Getting no_of_tweets with the car_name\n",
    "    \n",
    "    all_tweets = [] \n",
    "    all_date = []\n",
    "    all_favourite_count = []\n",
    "    all_retweet_count = []\n",
    "    all_image_count = []\n",
    "    \n",
    "    \n",
    "    #Iterating through all the tweets\n",
    "    for tweet in tweets:\n",
    "        image_counter=0\n",
    "\n",
    "        all_tweets.append(tweet.text) #Getting the text of the tweet\n",
    "        all_date.append(tweet.created_at) #Getting the date of the tweet\n",
    "        all_favourite_count.append(tweet.favorite_count) #Getting the number of likes of the tweet\n",
    "        all_retweet_count.append(tweet.retweet_count) #Getting the number of retweets of the tweet\n",
    "\n",
    "\n",
    "        if 'media' in tweet.entities:  #Getting the number of images attached with the tweet\n",
    "            for image in  tweet.entities['media']:\n",
    "                image_counter = image_counter+1\n",
    "            all_image_count.append(image_counter) \n",
    "        else :\n",
    "            all_image_count.append(str(None))\n",
    "\n",
    "        \n",
    "\n",
    "    tweets = pd.DataFrame(list(zip(all_tweets, all_date,all_favourite_count,all_retweet_count,all_image_count)), columns =['Tweet', 'Date','No. of Likes','No. of Retweets','No. of Images'])\n",
    "    return tweets #Returns the output in a tabular format"
   ]
  },
  {
   "cell_type": "code",
   "execution_count": 5,
   "metadata": {},
   "outputs": [
    {
     "data": {
      "text/html": [
       "<div>\n",
       "<style scoped>\n",
       "    .dataframe tbody tr th:only-of-type {\n",
       "        vertical-align: middle;\n",
       "    }\n",
       "\n",
       "    .dataframe tbody tr th {\n",
       "        vertical-align: top;\n",
       "    }\n",
       "\n",
       "    .dataframe thead th {\n",
       "        text-align: right;\n",
       "    }\n",
       "</style>\n",
       "<table border=\"1\" class=\"dataframe\">\n",
       "  <thead>\n",
       "    <tr style=\"text-align: right;\">\n",
       "      <th></th>\n",
       "      <th>Tweet</th>\n",
       "      <th>Date</th>\n",
       "      <th>No. of Likes</th>\n",
       "      <th>No. of Retweets</th>\n",
       "      <th>No. of Images</th>\n",
       "    </tr>\n",
       "  </thead>\n",
       "  <tbody>\n",
       "    <tr>\n",
       "      <th>95</th>\n",
       "      <td>The fabled tech antitrust hearing occurred ear...</td>\n",
       "      <td>2020-07-31 20:26:54</td>\n",
       "      <td>0</td>\n",
       "      <td>0</td>\n",
       "      <td>None</td>\n",
       "    </tr>\n",
       "    <tr>\n",
       "      <th>96</th>\n",
       "      <td>RT @appleinsider: #Apple has overtaken oil gia...</td>\n",
       "      <td>2020-07-31 20:26:40</td>\n",
       "      <td>0</td>\n",
       "      <td>27</td>\n",
       "      <td>None</td>\n",
       "    </tr>\n",
       "    <tr>\n",
       "      <th>97</th>\n",
       "      <td>RT @11Graphs: 52w return (%) among largest #st...</td>\n",
       "      <td>2020-07-31 20:26:38</td>\n",
       "      <td>0</td>\n",
       "      <td>2</td>\n",
       "      <td>None</td>\n",
       "    </tr>\n",
       "    <tr>\n",
       "      <th>98</th>\n",
       "      <td>RT @CNBCnow: BREAKING: Apple announces 4-for-1...</td>\n",
       "      <td>2020-07-31 20:26:28</td>\n",
       "      <td>0</td>\n",
       "      <td>718</td>\n",
       "      <td>1</td>\n",
       "    </tr>\n",
       "    <tr>\n",
       "      <th>99</th>\n",
       "      <td>RT @CNBC: Stocks rise after Big Tech crushes e...</td>\n",
       "      <td>2020-07-31 20:26:23</td>\n",
       "      <td>0</td>\n",
       "      <td>8</td>\n",
       "      <td>None</td>\n",
       "    </tr>\n",
       "  </tbody>\n",
       "</table>\n",
       "</div>"
      ],
      "text/plain": [
       "                                                Tweet                Date  \\\n",
       "95  The fabled tech antitrust hearing occurred ear... 2020-07-31 20:26:54   \n",
       "96  RT @appleinsider: #Apple has overtaken oil gia... 2020-07-31 20:26:40   \n",
       "97  RT @11Graphs: 52w return (%) among largest #st... 2020-07-31 20:26:38   \n",
       "98  RT @CNBCnow: BREAKING: Apple announces 4-for-1... 2020-07-31 20:26:28   \n",
       "99  RT @CNBC: Stocks rise after Big Tech crushes e... 2020-07-31 20:26:23   \n",
       "\n",
       "    No. of Likes  No. of Retweets No. of Images  \n",
       "95             0                0          None  \n",
       "96             0               27          None  \n",
       "97             0                2          None  \n",
       "98             0              718             1  \n",
       "99             0                8          None  "
      ]
     },
     "execution_count": 5,
     "metadata": {},
     "output_type": "execute_result"
    }
   ],
   "source": [
    "tweets = get_result('Apple','aapl',100)\n",
    "tweets.tail()\n",
    "#Function to get the Final Results. "
   ]
  },
  {
   "cell_type": "markdown",
   "metadata": {},
   "source": [
    "### Using Twint for Twitter"
   ]
  },
  {
   "cell_type": "markdown",
   "metadata": {},
   "source": [
    "Twint utilizes Twitter’s search operators to let you scrape Tweets from specific users, and scrape Tweets relating to certain topics. It is the route we need to take as it allows you to pull a large volume of tweets and can access more outdated tweets. This will be helpful in building a predictive time series consisting of 30 days of tweets. "
   ]
  },
  {
   "cell_type": "code",
   "execution_count": 6,
   "metadata": {
    "scrolled": true
   },
   "outputs": [
    {
     "name": "stdout",
     "output_type": "stream",
     "text": [
      "Tweet id: 1100848143451807745 | Date: 2019-02-27 | Time: 15:00:24 | Tweet: Official iOS 12 adoption stats as published by Apple through February 24, 2019. $AAPL #Peerless pic.twitter.com/uF9f4SeS8y | Replies: 1\n",
      "Tweet id: 1100756422541766657 | Date: 2019-02-27 | Time: 08:55:56 | Tweet: Haha your not very informed it’s RIP $AAPL not $QCOM based on that trend you presented. #Qualcomm revenue will rise off this bottom with their chips, and modems fueling the Chinese OEMs recent growth into global markets. #APPLE isn’t a customer anymore using inferior $intc. | Replies: 1\n",
      "Tweet id: 1100745238316965888 | Date: 2019-02-27 | Time: 08:11:30 | Tweet: @FTC with #Huawei & #Apple as a star witness wants Judge Koh to free 6 billion Non-Americans from paying royalties for American 5G Innovation. Suits Huawei just fine don’t have China government stabbing them in the back! #qualcomm $qcom @POTUS @DOJPH #ftcqcom $mu $ge $aapl $intc https://twitter.com/newtgingrich/status/1100733935162716160 … | Replies: 0\n",
      "Tweet id: 1100562448510316546 | Date: 2019-02-26 | Time: 20:05:09 | Tweet: I would put most of it into Apple, Citigroup, Boeing or Johnson and Johnson stocks $AAPL $C $BA $JNJ , right @jimcramer ? | Replies: 0\n",
      "Tweet id: 1100464579228905474 | Date: 2019-02-26 | Time: 13:36:15 | Tweet: @lilaaron911 for your information $WARM is a the trading symbol for a company called Cool Technologies Inc. The $ sign is used on TWITTER in front of any stock trading name. For example Apple stock is $AAPL So you are sharing the name of a stock.  http://cooltechnologiesinc.com  | Replies: 0\n",
      "Tweet id: 1100456645719674880 | Date: 2019-02-26 | Time: 13:04:44 | Tweet: $AAPL Daily: #AAPL peculiarly stopped dead in its tracks again right at 175, when it should have coasted to 200MA after breakout like that. On a hunch added VBP... sure enough 😳 That is one MASSIVE VBP bar! Facing lot of resistance  #APPLE #Tech #Technology @PBratbyOfficial pic.twitter.com/XyjLuVtFO8 | Replies: 2\n",
      "Tweet id: 1100438811933396992 | Date: 2019-02-26 | Time: 11:53:52 | Tweet: I saw the show last night.  Great insight on $aapl Early clue to the new direction. The, again, I've been hammering the topic: Apple's gotta do something. Hoya Saxa. Brother Adami Slim.  ps. Which Fraternity did you belong to? S. | Replies: 0\n",
      "Tweet id: 1100432437857923073 | Date: 2019-02-26 | Time: 11:28:32 | Tweet: The updated listing suggests that @Apple could soon make @AppleMusic an available option for #GoogleAssistant-powered playback on #GoogleHome devices, much like it did with the @amazonecho.  $AAPL $GOOGL | Replies: 1\n",
      "Tweet id: 1100403623475916800 | Date: 2019-02-26 | Time: 09:34:03 | Tweet: MEGALODON  indicator is sending buy signals for: $AMD #AMD #AdvancedMicroDevices, $FIT #FIT #Fitbit, $AAPL #AAPL #APPLE, $DBX #DBX #Dropbox, $SPOT #SPOT #Spotify pic.twitter.com/Knvv0867kV | Replies: 0\n",
      "Tweet id: 1100400745273278464 | Date: 2019-02-26 | Time: 09:22:36 | Tweet: BUY NOW;— 🖼; @aapltrdng @twelvesouth @apple PencilSnap; $42 (N15,330)  @aapltrdng  — #aapl #aapltrdng #apple #twelvesouth #applepencil #pencilsnap #pencil #samsung #lg #panasonic #winter #Wintersales pic.twitter.com/4dBFLoM9kZ | Replies: 0\n",
      "Tweet id: 1100386829138911232 | Date: 2019-02-26 | Time: 08:27:18 | Tweet: My thoughts: -Tired of waiting for an MBP worth spending $3k+ on. -This would be the push needed to make the switch to some other non apple device -Short $AAPL. | Replies: 0\n",
      "Tweet id: 1100355824214597634 | Date: 2019-02-26 | Time: 06:24:06 | Tweet: I wish #AAPL would buy #TSLA, install same leadership and make the cars part of the Apple ecosystem.  How about it @tim_cook ? | Replies: 0\n",
      "Tweet id: 1100286228832944128 | Date: 2019-02-26 | Time: 01:47:33 | Tweet: About 15.49 million shares traded. Apple Inc. (NASDAQ:AAPL) has risen 0.17% since February 25, 2018 and is uptrending. It has outperformed by 0.17% the S&P500. $AAPL | Replies: 0\n",
      "Tweet id: 1100286227104751621 | Date: 2019-02-26 | Time: 01:47:33 | Tweet: Mitchell Capital Management Co who had been investing in Apple Inc for a number of months, seems to be bullish on the $823.57B market cap company. The stock increased 0.98% or $1.69 during the last trading session, reaching $174.66. $AAPL | Replies: 1\n",
      "Tweet id: 1100286223678144512 | Date: 2019-02-26 | Time: 01:47:32 | Tweet: Mitchell Capital Management Co increased its stake in Apple Inc (AAPL) by 459.6% based on its latest 2018Q3 regulatory filing with the SEC. Mitchell Capital Management Co bought 33,831 shares as the company’s stock declined 22.32% with the market. $AAPL | Replies: 1\n",
      "Tweet id: 1100285624240750592 | Date: 2019-02-26 | Time: 01:45:09 | Tweet: Tiedemann Wealth Management Llc who had been investing in Apple Inc for a number of months, seems to be bullish on the $815.60B market cap company. The stock increased 1.12% or $1.91 during the last trading session, reaching $172.97. About 15,105 shares traded. $AAPL | Replies: 1\n",
      "Tweet id: 1100285621040500736 | Date: 2019-02-26 | Time: 01:45:09 | Tweet: Tiedemann Wealth Management Llc increased its stake in Apple Inc (AAPL) by 11.12% based on its latest 2018Q3 regulatory filing with the SEC. Tiedemann Wealth Management Llc bought 6,453 shares as the company’s stock declined 22.32% with the market. $AAPL | Replies: 1\n",
      "Tweet id: 1100210038638084097 | Date: 2019-02-25 | Time: 20:44:48 | Tweet: BUY NOW;— @twelvesouth ActionSleeve ArmBand for Apple Watch (N13,000) @aapltrdng  — #aapl #aapltrdng #apple #twelvesouth #armband #applewatch #watch #gtx #gtxcommuter #fashion #luxury #iphonesia #cute #love #twelvesouth #winter #Wintersales pic.twitter.com/qqVxWPhsJh | Replies: 0\n",
      "Tweet id: 1100201424863023104 | Date: 2019-02-25 | Time: 20:10:35 | Tweet: On Apple buybacks $AAPL  pic.twitter.com/NJcRkfgY2V | Replies: 1\n",
      "Tweet id: 1100201423961231362 | Date: 2019-02-25 | Time: 20:10:34 | Tweet: On his interest in buying more Apple $AAPL  pic.twitter.com/UvB4HUQ4Da | Replies: 1\n",
      "Tweet id: 1100168637435047936 | Date: 2019-02-25 | Time: 18:00:17 | Tweet: @jimcramer hey jim. Why doesn’t $aapl buy $spot? I am a die hard apple fan but spotify is a far superior service and user experience imho. | Replies: 0\n",
      "Tweet id: 1100113012575424512 | Date: 2019-02-25 | Time: 14:19:15 | Tweet: $AAPL Daily: #AAPL attempting its run up to 200MA post resistance breakout....13MA/BC & Upper BB look strong  #APPLE #Tech #Technology pic.twitter.com/vxopKelgph | Replies: 3\n",
      "Tweet id: 1100082424053202945 | Date: 2019-02-25 | Time: 12:17:43 | Tweet: He shared his buying apple to stuff his IRA and 401k at its $aapl bottom and pple were not only pussies to buy, but ridiculing him then. | Replies: 0\n",
      "Tweet id: 1100032181576105984 | Date: 2019-02-25 | Time: 08:58:04 | Tweet: And if #Apple products were cheaper, we’d be buying THEM.   $AAPL | Replies: 0\n",
      "Tweet id: 1100023343875584001 | Date: 2019-02-25 | Time: 08:22:57 | Tweet: Yeah, interesting... \"Buffett was not responsible for selling $AAPL this last quarter. \"I've never sold a share of Apple... I can't see myself selling. As it goes lower, we'll buy more.\" #AskWarren\" | Replies: 1\n",
      "Tweet id: 1099898857016635393 | Date: 2019-02-25 | Time: 00:08:17 | Tweet: Apple fans will have to wait til 2023  for this probably at the earliest..that if Samsung even sells them the screens.  It took them 8 years to move to Oled..they are slower than your grandma to adopt to latest tech $AAPL Apple is a mess under @tim_cook | Replies: 0\n",
      "Tweet id: 1099823118103863299 | Date: 2019-02-24 | Time: 19:07:19 | Tweet: @SamsungMobile S10 has really put everything @AppleInc_AAPL has to offer till date to shame. Apple better innovate something worth this year rather than usual jumping on AX processor and usual display crap. | Replies: 0\n",
      "Tweet id: 1099793483659862017 | Date: 2019-02-24 | Time: 17:09:34 | Tweet: If I wasn't researching the stock market I wouldn't be here either.  You can search stocks with a $ like you can search terms and hashtags with a #  Like Apple stock is $AAPL, Netflix is $NFLX, Amazon is $AMZN, etc | Replies: 1\n",
      "Tweet id: 1099694440233488391 | Date: 2019-02-24 | Time: 10:36:00 | Tweet: So did $AAPL announce a foldable device and price point that rest of the world missed? Was pricing buried in the patent application? Or is Apple just in the headline for clicks...  pic.twitter.com/ha2zwcl6BL | Replies: 0\n",
      "Tweet id: 1099663716847681536 | Date: 2019-02-24 | Time: 08:33:55 | Tweet: @apple HomePod N180,000 @aapltrdng  Color; WHITE & SPACE GRAY In the Box; HomePod & Documentation  — #aapl #apple #aapltrdng #homepod #applemusic #itunes #beats1 #beats1radio #music #winter #wintersales #specialfinancing pic.twitter.com/OsdTGCDWuH | Replies: 0\n",
      "Tweet id: 1099543739905781761 | Date: 2019-02-24 | Time: 00:37:10 | Tweet: $aapl is basically on a 2-6 year innovation cycle.  iMac - 1998 Ipod - 2001 iPhone - 2007 iPad - 2010 Apple Watch - 2015  ???? - 2019 | Replies: 2\n",
      "Tweet id: 1099461221957492736 | Date: 2019-02-23 | Time: 19:09:16 | Tweet: @mdudas: '“Tim Cook applauds deeply bullish Apple report written by Goldman Sachs analyst screaming buy based on future products and with no ironclad guarantee value will accrue to $AAPL holders. They had a great dinner…  https://twitter.com/mdudas/status/1099266302311649281/photo/1 pic.twitter.com/H3IkmSgBqy , see more  http://tweetedtimes.com/topic/Gamification?s=tnp … | Replies: 0\n",
      "Tweet id: 1099386263654801408 | Date: 2019-02-23 | Time: 14:11:25 | Tweet: You know what that means. $AAPL @Apple is just around the corner with a $2,500 model. | Replies: 0\n",
      "Tweet id: 1099158740241129472 | Date: 2019-02-22 | Time: 23:07:19 | Tweet: Comman people buy apple iPhone Smart one buy $AAPL 😂😂😂 | Replies: 0\n"
     ]
    },
    {
     "name": "stdout",
     "output_type": "stream",
     "text": [
      "Tweet id: 1099018607684710402 | Date: 2019-02-22 | Time: 13:50:29 | Tweet: content that users create on Apple's Mac's, iPads, iPhones, etc.  Plus it gives Twitter the resources they need to continue to give everyone a voice but also to innovate faster, rely less on ads, improve the conversational health and make the platform more useful. $TWTR $AAPL  pic.twitter.com/bs9resNRyr | Replies: 1\n",
      "Tweet id: 1098921085582614528 | Date: 2019-02-22 | Time: 07:22:58 | Tweet: What we witnessed with Apple vs General Electric over the last decade was \"Creative Destruction\" at it's finest. $GE could have bought $AAPL for $2 billion USD in '96...  pic.twitter.com/k4uc8mtH84 | Replies: 0\n",
      "Tweet id: 1098834938713894912 | Date: 2019-02-22 | Time: 01:40:39 | Tweet: Growing global wealth/income disparity crushing demand for G&S ergo CapX. Wealth/income moves to lower propensity to consume classes = more savings for spec.  Instead of buying apples, they buy AAPL.  Feedback loop will turn into a \"doom loop\", IMHO + the political blowback. | Replies: 0\n",
      "Tweet id: 1098752977786032128 | Date: 2019-02-21 | Time: 20:14:58 | Tweet: “For Apple, it would streamline its App Store and potentially boost revenue by syndicating apps to all of its devices”  For me, it means I could buy less #Apple devices. Yay!   🍎 $AAPL | Replies: 0\n",
      "Tweet id: 1098665862482006016 | Date: 2019-02-21 | Time: 14:28:48 | Tweet: Looks much better with the Apple Watch 4... $AAPL is a fix for everything.  pic.twitter.com/MRBv26eMag | Replies: 0\n",
      "Tweet id: 1098661326346469378 | Date: 2019-02-21 | Time: 14:10:46 | Tweet: Second Target is reached. Deal with it.  $AAPL #Apple  pic.twitter.com/PbbAyBRfGN | Replies: 0\n",
      "Tweet id: 1098598266583900163 | Date: 2019-02-21 | Time: 10:00:12 | Tweet: Two-years-ahead-of-Apple, Folding-OLED  Love-that-phone, will-never-have-to-carry-a-laptop-again-if-it-works as-advertised  Game-changer  #Samsung $AMAT $AAPL | Replies: 11\n",
      "Tweet id: 1098594317990531076 | Date: 2019-02-21 | Time: 09:44:30 | Tweet: You contradict yourself #Qualcomm SEP royalty (3.25% X $400 capped ASP)  compared against- #Apple 30% charge to AP developers for use of AAPL’s iTunes platformNo Cap? + AAPL’s iTunes monthly subscriber charge of XXXXX | Replies: 0\n",
      "Tweet id: 1098494361724059649 | Date: 2019-02-21 | Time: 03:07:19 | Tweet: $AAPL: yes?  pic.twitter.com/u1Rhlsy0k0 | Replies: 1\n",
      "Tweet id: 1098435074045956096 | Date: 2019-02-20 | Time: 23:11:44 | Tweet: @AppleInc_AAPL an email received confirming transaction processed vide no P23166782093 for $100 which did not do. Trying to connect apple but not able to. Pls look into the matter and confirm if the same is fake email or id been miss used. | Replies: 0\n",
      "Tweet id: 1098330231625125893 | Date: 2019-02-20 | Time: 16:15:07 | Tweet: Not in touch with reality. Samsung have officially turned into Apple. $AAPL | Replies: 1\n",
      "Tweet id: 1098263688602095618 | Date: 2019-02-20 | Time: 11:50:42 | Tweet: Love it! Go work for Apple if you want a cushy job. $AAPL $TSLA | Replies: 0\n",
      "Tweet id: 1098221353855897601 | Date: 2019-02-20 | Time: 09:02:29 | Tweet: #AAPL gameplan Lie, Steal, & Cheat. Caught in a #lie Step & repeat. Apple’s misreading of the CFIUS letter exposes the fundamental flaw in all of its 5G-related contentions | Replies: 0\n",
      "Tweet id: 1098197374223114241 | Date: 2019-02-20 | Time: 07:27:12 | Tweet: All of a sudden $aapl Apple is trying to be $fit Fitbit? #stockstoWATCH | Replies: 1\n",
      "Tweet id: 1098037125587456000 | Date: 2019-02-19 | Time: 20:50:25 | Tweet: @FTC @FTCPhillips @RKSlaughterFTC @realDonaldTrump @POTUS @DOJPH @jimcramer @MadMoneyOnCNBC @sharatibken @schestowitz $qcom #qualcomm $aapl #apple $intc @JoeSimonsFTC @WallStJesus @KingJames @Mindwbw @Robostocks123 https://twitter.com/ks_dsp/status/1092897452875702272 … | Replies: 0\n",
      "Tweet id: 1097996365739765761 | Date: 2019-02-19 | Time: 18:08:28 | Tweet: So drugs too? AAPL wild asf | Replies: 1\n",
      "Tweet id: 1097960310252687360 | Date: 2019-02-19 | Time: 15:45:11 | Tweet: It’s long term investment, don’t sell - AAPL will hit (200 - 230) AMZN (1900 - 2000) Top 500 companies don’t go up or down in a short time  You need to wait at least 6 to 12 months | Replies: 2\n",
      "Tweet id: 1097960132800139264 | Date: 2019-02-19 | Time: 15:44:29 | Tweet: Cause $AAPL gonna copy them lol “Apple innovation” | Replies: 1\n",
      "Tweet id: 1097941760830001152 | Date: 2019-02-19 | Time: 14:31:29 | Tweet: $AAPL Daily: #AAPL consolidated after earnings bounce and is now looking like it wants to breakout once more to 200MA (Now down to $180.32). MACD/Stochs also looking one one more pop left, but just have to wait & see. 13MA did cross 50MA bullish. #APPLE #Tech #Technology pic.twitter.com/8aK19iRE7J | Replies: 1\n",
      "Tweet id: 1097915680072949760 | Date: 2019-02-19 | Time: 12:47:51 | Tweet: @AAPL #Apple recently acquired DataTiger, a digital marketing company specializing in customer journey tracking - looking to strike the balance of #CustomerJourney mapping #UserSat #dataprivacy | Replies: 0\n",
      "Tweet id: 1097895690481618950 | Date: 2019-02-19 | Time: 11:28:25 | Tweet: Answers in order:  1)  Not stupid. 2)  Have been paying close attention. 3)  Neither Google $GOOG nor Apple $AAPL is an auto OEM  4)  800 on the Math SAT every time, and a good reader too.  There's an exodus.  Lived in the Bay Area too.  Well versed professional. | Replies: 1\n",
      "Tweet id: 1097875314158403590 | Date: 2019-02-19 | Time: 10:07:27 | Tweet: If you get subscriptions via @AppleNews you would be able to cancel it any time. Not sure if these subscriptions can be used out of Apple News apps though.  I know it is not solving the problem, but perhaps reward $AAPL? | Replies: 0\n",
      "Tweet id: 1097733973055365120 | Date: 2019-02-19 | Time: 00:45:48 | Tweet: Next Tweet? Apple buys Twitter and destroys Putin’s Facebook? $FB $TWTR $AAPL | Replies: 0\n",
      "Tweet id: 1097520003371302912 | Date: 2019-02-18 | Time: 10:35:34 | Tweet: $AAPL Apple can’t even get Siri to work I can’t even imagine their autonomous decision to make any headway. All that cash and ego, they could dominate so many categories alas they lag | Replies: 0\n",
      "Tweet id: 1097362642115723269 | Date: 2019-02-18 | Time: 00:10:16 | Tweet: 12/03/2018 – Apple Will Acquire Magazine-Subscription Service Texture; 09/04/2018 – AAPL: Apple announces red iPhone 8 and iPhone 8 Plus, coming April 13th. – ! $AAPL | Replies: 1\n",
      "Tweet id: 1097362640534425601 | Date: 2019-02-18 | Time: 00:10:16 | Tweet: as locales for Apple; 05/03/2018 – Apple is reportedly planning to launch a cheaper 13-inch MacBook Air during the second quarter, according to KGI Securities; 17/04/2018 – KBRA Publishes CMBS Research: “Slowing Rents Bite the Big Apple, Part II”; $AAPL | Replies: 1\n",
      "Tweet id: 1097362637082558464 | Date: 2019-02-18 | Time: 00:10:15 | Tweet: 27/04/2018 – Watch Steve Jobs passionately defend his commitment to Apple in 1997; 15/05/2018 – APPLE-SAMSUNG BATTLE OVER SMARTPHONE PATENTS REVIVES 2011 FIGHT; 13/03/2018 – Apple’s Worldwide Developers Conference Kicks off June 4 in San Jose; 16/05/2018 – $AAPL | Replies: 1\n",
      "Tweet id: 1097362635421560833 | Date: 2019-02-18 | Time: 00:10:14 | Tweet: 26/04/2018 – Black lawmakers will visit Silicon Valley next week to talk to Apple, Square, PayPal and others about workplace diversity; 23/04/2018 – Apple opens slightly up after Friday’s plunge, but it’s still in the red for the year; $AAPL | Replies: 1\n",
      "Tweet id: 1097362632057737217 | Date: 2019-02-18 | Time: 00:10:14 | Tweet: About 24.63 million shares traded. Apple Inc. (NASDAQ:AAPL) has risen 0.17% since February 16, 2018 and is uptrending. It has outperformed by 0.17% the S&P500. Some Historical AAPL News: $AAPL | Replies: 1\n",
      "Tweet id: 1097362630459691008 | Date: 2019-02-18 | Time: 00:10:13 | Tweet: Sterling Investment Management Inc who had been investing in Apple Inc for a number of months, seems to be less bullish one the $803.58B market cap company. The stock decreased 0.22% or $0.38 during the last trading session, reaching $170.42. $AAPL | Replies: 1\n",
      "Tweet id: 1097362627376881664 | Date: 2019-02-18 | Time: 00:10:13 | Tweet: Sterling Investment Management Inc decreased its stake in Apple Inc (AAPL) by 9.76% based on its latest 2018Q3 regulatory filing with the SEC. Sterling Investment Management Inc sold 2,721 shares as the company’s stock declined 22.32% with the market. $AAPL | Replies: 1\n",
      "Tweet id: 1097362156742430721 | Date: 2019-02-18 | Time: 00:08:20 | Tweet: Sterling Investment Management Lowered Apple (AAPL) Position by $612,225; Share Price Declined; Exxon Mobil (XOM) Holding Has Boosted by American Investment Services Inc $AAPL | Replies: 1\n",
      "Tweet id: 1097362153470861312 | Date: 2019-02-18 | Time: 00:08:20 | Tweet: Formula:  Cash flow on Capex = Cash Flow from Operations / Capital Expenditure  The Cash Flow on Capex for Apple Inc. (AAPL) is 5.81642. $AAPL | Replies: 1\n",
      "Tweet id: 1097362147162628097 | Date: 2019-02-18 | Time: 00:08:18 | Tweet: Formula:  External finance ratio = (Total Assets−Total Assets y-1−Cash Flow from Operations) / Total Assets  Apple Inc. (AAPL) has an external finance ratio of -0.23796.  $AAPL | Replies: 1\n",
      "Tweet id: 1097362140812509185 | Date: 2019-02-18 | Time: 00:08:17 | Tweet: Looking at some ROIC (Return on Invested Capital) numbers, Apple Inc. (AAPL)’s ROIC is 1.119271. The ROIC 5 year average is 1.378644. $AAPL | Replies: 1\n",
      "Tweet id: 1097362139222851587 | Date: 2019-02-18 | Time: 00:08:16 | Tweet: The price to earnings ratio for Apple Inc. (AAPL) is 14.288833. This ratio is found by taking the current share price and dividing by earnings per share.  $AAPL | Replies: 1\n",
      "Tweet id: 1097362136198795264 | Date: 2019-02-18 | Time: 00:08:15 | Tweet: Price to cash flow ratio is a very helpful ratio in determining the valuation of a company. The Price to Cash Flow for Apple Inc. $AAPL is 10.450235. This ratio is calculated by dividing the market value of a company by cash from operating activities. | Replies: 1\n",
      "Tweet id: 1097362134684585986 | Date: 2019-02-18 | Time: 00:08:15 | Tweet: The Price to Cash For Apple Inc. ($AAPL) Placed Under Scrutiny as it Spins to 10.450235 $AAPL | Replies: 1\n",
      "Tweet id: 1097362131182383104 | Date: 2019-02-18 | Time: 00:08:14 | Tweet: 20/04/2018 – Apple hit by phone worries; 04/05/2018 – Apple’s $100bn share buyback plan; 17/05/2018 – Milberg Tadler Phillips Grossman LLP Appointed to Plaintiff’s Executive and Discovery  $AAPL | Replies: 1\n",
      "Tweet id: 1097362129643016192 | Date: 2019-02-18 | Time: 00:08:14 | Tweet: $AAPL; 12/03/2018 – Apple to Acquire Magazine-Subscription Service Texture; 07/04/2018 – HomePod has Siri inside, but will only play music from Apple Music; 25/04/2018 – TRUMP SAYS WILL TALK ABOUT TRADE WITH APPLE INC AAPL.O CEO COOK AT WHITE HOUSE TODAY -TWEET; $AAPL | Replies: 1\n",
      "Tweet id: 1097362127919239173 | Date: 2019-02-18 | Time: 00:08:13 | Tweet: the recycling robot; 14/05/2018 – TIAA-CREF Adds Aptiv, Exits Baidu, Cuts Apple: 13F; 28/03/2018 – U.S. Cellular to Offer New 9.7-inch iPad With Apple Pencil Support; 09/04/2018 – AAPL: Apple announces red iPhone 8 and iPhone 8 Plus, coming April 13th. – ! $AAPL | Replies: 1\n"
     ]
    },
    {
     "name": "stdout",
     "output_type": "stream",
     "text": [
      "Tweet id: 1097362126216269824 | Date: 2019-02-18 | Time: 00:08:13 | Tweet: About 24.63 million shares traded. Apple Inc. (NASDAQ:AAPL) has risen 0.17% since February 17, 2018 and is uptrending. It has outperformed by 0.17% the S&P500. Some Historical AAPL News: 19/04/2018 – Apple celebrates Earth Day by debuting Daisy, $AAPL | Replies: 1\n",
      "Tweet id: 1097362124643450880 | Date: 2019-02-18 | Time: 00:08:13 | Tweet: Boston Family Office Llc who had been investing in Apple Inc. for a number of months, seems to be less bullish one the $803.58 billion market cap company. The stock decreased 0.22% or $0.38 during the last trading session, reaching $170.42. $AAPL | Replies: 1\n",
      "Tweet id: 1097361170359558144 | Date: 2019-02-18 | Time: 00:04:25 | Tweet: Boston Family Office Llc decreased its stake in Apple Inc. (AAPL) by 5.6% based on its latest 2018Q3 regulatory filing with the SEC. Boston Family Office Llc sold 8,562 shares as the company’s stock declined 22.32% with the market. $AAPL | Replies: 0\n",
      "Tweet id: 1097361168681848832 | Date: 2019-02-18 | Time: 00:04:25 | Tweet: Boston Family Office Has Cut Its Holding in Apple (AAPL) by $1.93 Million as Shares Declined; Marsh & Mc Lennan (MMC) Shareholder Jlb & Associates Has Increased Its Position $AAPL | Replies: 1\n",
      "Tweet id: 1097361165238312960 | Date: 2019-02-18 | Time: 00:04:24 | Tweet: Apple has agreed to a number of movies and series already, including animated features, comedies, reality shows and dramas, most of which were compiled by Macworld here:  https://www.macworld.com/article/3245534/streaming-services/list-of-apple-tv-shows-and-series-news-actors-release-dates.html … $AAPL | Replies: 1\n",
      "Tweet id: 1097361163640287232 | Date: 2019-02-18 | Time: 00:04:24 | Tweet: Apple is planning to offer its original content free to device users, CNBC first reported in October. Apple planned to spend about $1 billion on originals last year, the Wall Street Journal reported. $AAPL | Replies: 1\n",
      "Tweet id: 1097361162080014336 | Date: 2019-02-18 | Time: 00:04:23 | Tweet: Apple's deal with Oprah Winfrey and other big entertainment names like Reese Witherspoon and Steven Spielberg will give Apple device owners access to both film and TV content for no additional charge. $AAPL | Replies: 1\n",
      "Tweet id: 1097361155264299008 | Date: 2019-02-18 | Time: 00:04:22 | Tweet: Apple has jostled with traditional media companies for years over getting access to their content. CEO Tim Cook previewed Apple's new offering on the company's earnings conference call last month.  $AAPL | Replies: 1\n",
      "Tweet id: 1097361153632681984 | Date: 2019-02-18 | Time: 00:04:21 | Tweet: Spokespeople at Apple, CBS, HBO, Hulu, Netflix, Starz and Viacom declined to comment.  $AAPL | Replies: 1\n",
      "Tweet id: 1097361151984320513 | Date: 2019-02-18 | Time: 00:04:21 | Tweet: Netflix and Hulu aren't part of Amazon Prime Video Channels and aren't expected to be a part of Apple's product either, according to people familiar with the matter.  $AAPL | Replies: 1\n",
      "Tweet id: 1097361150306590720 | Date: 2019-02-18 | Time: 00:04:20 | Tweet: Currently, Apple takes a 15 percentcut on revenue from customers that sign up to HBO Now, Netflix, and other streaming apps through the App Store, two people said. $AAPL | Replies: 1\n",
      "Tweet id: 1097361148708638720 | Date: 2019-02-18 | Time: 00:04:20 | Tweet: Apple is pushing for a 30 percent cut on every customer that subscribes to an over-the-top video service through its streaming service, three of the people said.  $AAPL | Replies: 1\n",
      "Tweet id: 1097361146892484608 | Date: 2019-02-18 | Time: 00:04:20 | Tweet: For instance, The Wall Street Journal reported Tuesday that Apple is pushing to take nearly 50 percent of revenue derived from a new subscription news service it's planning to launch later this year.  $AAPL | Replies: 1\n",
      "Tweet id: 1097361145277620224 | Date: 2019-02-18 | Time: 00:04:19 | Tweet: While the exact disagreement between Apple and HBO isn't known, media companies have been concerned about data sharing and revenue splits as Apple tries to aggregate existing services in new ways. $AAPL | Replies: 1\n",
      "Tweet id: 1097361143612477441 | Date: 2019-02-18 | Time: 00:04:19 | Tweet: HBO may join its premium network brethren but isn't as far along in discussions with Apple, one of the people said. Apple hasn't offered HBO the same terms that Amazon offered, said the person.  $AAPL | Replies: 1\n",
      "Tweet id: 1097361142001922048 | Date: 2019-02-18 | Time: 00:04:18 | Tweet: Lions Gate's Starz; CBS, which owns Showtime; and Viacom are expected to offer subscription streaming services on the Apple platform, according to people familiar with the matter, who asked not to be named because the discussions are private.  $AAPL | Replies: 1\n",
      "Tweet id: 1097361140399652864 | Date: 2019-02-18 | Time: 00:04:18 | Tweet: Apple wants to simplify the viewing experience for those who watch video on their mobile devices by housing content in one application instead of a variety of company-specific apps.  $AAPL | Replies: 1\n",
      "Tweet id: 1097361138814255104 | Date: 2019-02-18 | Time: 00:04:18 | Tweet: Apple is aiming to launch service in April or early May. It will allow customers to sign up for existing digital streaming products and watch them in the iOS TV application, similar to Amazon's Prime Video Channels. $AAPL | Replies: 1\n",
      "Tweet id: 1097361135492362240 | Date: 2019-02-18 | Time: 00:04:17 | Tweet: February 13, 2019 ( http://Investorideas.com  Newswire) Apple is in the final stages of preparing its new streaming video service, which will feature free original content for device owners and a subscription platform for existing digital services. $AAPL | Replies: 1\n",
      "Tweet id: 1097361133839806464 | Date: 2019-02-18 | Time: 00:04:16 | Tweet: HBO hasn't signed on to the service due to a disagreement over revenue sharing with Apple. Netflix and Hulu aren't expected to be a part of the \"Channels\" service. $AAPL | Replies: 1\n",
      "Tweet id: 1097361132019478528 | Date: 2019-02-18 | Time: 00:04:16 | Tweet: Apple is targeting April to debut a new streaming product that will include original content free for Apple device owners and a platform to subscribe to other digital media services. $AAPL | Replies: 1\n",
      "Tweet id: 1097227665222848513 | Date: 2019-02-17 | Time: 15:13:55 | Tweet: I have way more confidence in selling Apple >$200 for a double or triple over a few years than buying IBM or AAPL (at a big markup vs Ted's price) or anything else Buffett himself has done recently beyond banks and airlines | Replies: 0\n",
      "Tweet id: 1097153019341225985 | Date: 2019-02-17 | Time: 10:17:18 | Tweet: Apple is bigger still. And the truth is I’m very long Disney. I really like Disney $dis $aapl | Replies: 2\n",
      "Tweet id: 1097152811584765953 | Date: 2019-02-17 | Time: 10:16:29 | Tweet: It’s about 3%. And they used to call me the Apple guy. Happy to be the Tesla guy this decade. $aapl $tsla | Replies: 2\n",
      "Tweet id: 1097069491236810753 | Date: 2019-02-17 | Time: 04:45:23 | Tweet: He also called the iPhone \"enormously underpriced,\" saying that it's worth far more than the $1,000 Apple charges. \"I have a plane that costs me a lot, a million dollars a year or something of the sort. If I used the iPhone, I would rather give up the plane,\" he said. AAPL 220$ | Replies: 1\n",
      "Tweet id: 1096970423919628289 | Date: 2019-02-16 | Time: 22:11:44 | Tweet: For me add to those 3 things; iPad Pro, Apple Pencil, HomePod, Apple Music, and a heavy dose of AAPL stock.  I’m in and I love it.  Apple (for those who own shares and stay in the ecosystem) is essentially the largest co-op in the world. | Replies: 0\n",
      "Tweet id: 1096818105869754369 | Date: 2019-02-16 | Time: 12:06:28 | Tweet: /2 And here's $AAPL, just for giggles.  Absolutely nothing -- I mean *nothing* -- looks good in this market to me.  Positions: short Apple, short $QQQ, short $DIA, short $SPY. pic.twitter.com/KdO9AxvYyM | Replies: 1\n",
      "Tweet id: 1096780862924836865 | Date: 2019-02-16 | Time: 09:38:29 | Tweet: Perhaps better news story for past week regarding blockchain & Apple.   Happy to also hear WB trim $aapl position recently too. This new story is disgusting.  Long $btc short everything associated with banks/fraud. | Replies: 0\n",
      "Tweet id: 1096777727091331073 | Date: 2019-02-16 | Time: 09:26:01 | Tweet: It’s for financial Twitter. Stock tickers after the $ like $cbs $aapl $tsla $msft CBS Apple Tesla Microsoft if you don’t actively follow the stock market your not missing much. | Replies: 0\n",
      "Tweet id: 1096596974298554370 | Date: 2019-02-15 | Time: 21:27:47 | Tweet: Two flagship stores 10 years late in bunch of its most loyal markets. Fair to say it's been ignoring and mistreating these markets. Now in 2019 is no wonder #AAPL gets annihilated when Chinese phones pack same specs for third of the price. | Replies: 0\n",
      "Tweet id: 1096584781121421313 | Date: 2019-02-15 | Time: 20:39:20 | Tweet: Today I was in the Apple store and everything AAPL I own is 2 years old. Not a single new item was lighter or faster. Further I get no reply from them when I suggest improvements. However, the store was packed with kids. | Replies: 0\n",
      "Tweet id: 1096494889309745152 | Date: 2019-02-15 | Time: 14:42:08 | Tweet: Robin-  It is a serious mistake to generalize about All Big Corporations.  Microsoft & Apple R very different from big rust belt corp.  The CEO's who invented MSFT &  AAPL R, like Bezos, are brilliant  & progressive.  AMZN pays a  $15 min  wage & exc benefits to all workers. | Replies: 0\n",
      "Tweet id: 1096458984796704769 | Date: 2019-02-15 | Time: 12:19:27 | Tweet: Buffett first announced  buying Apple in February 2017 despite his usual aversion to tech stocks. On Feb. 1, 2017, Apple's shares were around $129 , 2018 Q1 he bought 79 million more! If they started to trim , 1% is peanuts, and they are to heavy in $aapl after Eiffeltower chart | Replies: 0\n",
      "Tweet id: 1096401106765340672 | Date: 2019-02-15 | Time: 08:29:28 | Tweet: I have no position and don’t think Apple stock is expensive or anything. But I do think $AAPL is not being managed well (think it’s similar to $MSFT under Ballmer) and I think they’re losing in the new key growth areas of next decade | Replies: 0\n",
      "Tweet id: 1096384649927032835 | Date: 2019-02-15 | Time: 07:24:05 | Tweet: Like the article (and other places) said, Google, Microsoft, Apple, they’ve all expanded without a “game show” like year long circus, why did Amazon choose to do it that way? $AMZN $GOOGL $AAPL $MSFT | Replies: 0\n",
      "Tweet id: 1096375872247025664 | Date: 2019-02-15 | Time: 06:49:12 | Tweet: Buffett still owns 255 million shares of Apple $AAPL - sold 2.8 million shares in Q4.  (2) | Replies: 1\n",
      "Tweet id: 1096363342535503872 | Date: 2019-02-15 | Time: 05:59:24 | Tweet: Fund-flows-showed-a-Net-outflow-from-Equities-to-Bonds-in-Q4,  13Fs-showing-serious-reductions-in-Technology-holdings  Bershire's-13F Shows-Buffett-liquidated-Oracle-and-reduced-Apple-Stake  Steve Mandel’s Lone Pine Capital sold its $1 billion stake in $GOOGL $ORCL $AAPL $BRKA | Replies: 2\n",
      "Tweet id: 1096180057092038656 | Date: 2019-02-14 | Time: 17:51:06 | Tweet: was a loyal customer but now i feel like cheated and i must say Investing money on apple is waste of money. Will never buy again or recommend anyone. @AppleInc_AAPL | Replies: 2\n"
     ]
    },
    {
     "name": "stdout",
     "output_type": "stream",
     "text": [
      "Tweet id: 1096172085251096576 | Date: 2019-02-14 | Time: 17:19:25 | Tweet: my guess on the Apple activity is that Ted/Todd also had some AAPL in their portfolios and they sold their position. Likely Buffett did not sell any. Just a guess. | Replies: 2\n",
      "Tweet id: 1096168548827836422 | Date: 2019-02-14 | Time: 17:05:22 | Tweet: No-news-from-@CNBC-regarding-Warren-Buffett-and-Berkshire-reducing-their-Apple-stake-this-quarter  Cut-stake-by-1.1%  #13F #Berkshire $AAPL $BRKA @jimcramer @CNBCFastMoney | Replies: 0\n",
      "Tweet id: 1096151968576352258 | Date: 2019-02-14 | Time: 15:59:29 | Tweet: 3) @Apple continues to advertise prominently on the Grammys🍎  Memoji ads featuring Ariana Grande, Florida Georgia Line and Khalid were pretty cool  $AAPL  https://www.digitalmusicnews.com/2019/02/08/apple-music-memoji-ariana-grande-khalid-florida-georgia-line/ … | Replies: 1\n",
      "Tweet id: 1096138734909775872 | Date: 2019-02-14 | Time: 15:06:54 | Tweet: 2-investments-by-Amazon $AMZN-in-EV-firms-in-the-past-two-weeks  Where-is-the-Love-for-Elon?  They-are-coming-after-him Smells-like-it  Agree-with-article  Surprised-Apple-didn't-do-this  $TSLA $AMZN $AAPL $GOOGL | Replies: 0\n",
      "Tweet id: 1096083770032025600 | Date: 2019-02-14 | Time: 11:28:29 | Tweet: I like to show clients like that the stock trends of MSFT and AAPL and ask them why Apple went stratospheric... what was the differentiator between those companies? And let them figure it out. | Replies: 0\n",
      "Tweet id: 1096034636004642816 | Date: 2019-02-14 | Time: 08:13:15 | Tweet: Uhhh... take a look at Apple (AAPL) stock just before the iPod was released. Also in 2008/09 just before the iPhone swept the planet.   Ever look at the stock travails of the 1st 7 or so years of AMZN?   Need I continue?  I can if you insist. | Replies: 1\n",
      "Tweet id: 1095834397209739264 | Date: 2019-02-13 | Time: 18:57:34 | Tweet: $FUSZD - @VerbTech_Co #TaggCRM App with 49 Five ⭐️⭐️⭐️⭐️⭐️ User Reviews already on #Apple @AppStore $CRM $MSFT $ORCL $ADBE $IT $FB $SAP $AAPL $GOOG #Partnerships w/ #Salesforce #Microsoft #Adobe #Oracle #Netsuite #Facebook #Odoo #Instagram #SAP #Gartner pic.twitter.com/FNwFEFIk90 | Replies: 0\n",
      "Tweet id: 1095832125155274752 | Date: 2019-02-13 | Time: 18:48:32 | Tweet: Buybacks-are-the-reason-Apple-doesn't-own-Disney-Netflix-and/or-Tesla  $AAPL $DIS $NFLX $TSLA | Replies: 0\n",
      "Tweet id: 1095787369557561344 | Date: 2019-02-13 | Time: 15:50:42 | Tweet: $10 million in #AAPL stock and  @markgurman @robinsonmatt on Apple’s Insider-Trading charge  https://www.bloomberg.com/news/articles/2019-02-13/ex-top-apple-lawyer-levoff-accused-by-sec-of-insider-trading … | Replies: 0\n",
      "Tweet id: 1095724163799498752 | Date: 2019-02-13 | Time: 11:39:32 | Tweet: Amazon want electric trucks not cars. They only care about delivery and costs. Different goal. Apple should be investing in Tesla. They have nothing going on but ripping off magazines. $aapl $tsla | Replies: 0\n",
      "Tweet id: 1095721383386992640 | Date: 2019-02-13 | Time: 11:28:29 | Tweet: $Aapl Apple CEO Tim Cook under investigation for securities fraud by SEC. Coordinated comments with Short positions, FED announcement. Supply chain disruptions from #TradeWar #CHINA #SEC #Apple #SupplyChain | Replies: 0\n",
      "Tweet id: 1095697349240807424 | Date: 2019-02-13 | Time: 09:52:59 | Tweet: 📣$FUSZD NEWZ OUT! VERB ’s TaggCRM Interactive Video-Based Mobile App Now Available in Apple, $AAPL App Store and Google, $GOOG, Play Store 👉 http://bit.ly/2ti4O99  ♥NASDAQ LISTING THIS MONTH ♥PARTNERSHIPS WITH $AAPL $MSFT $CRM $ORCL $SAP $FB $ADBE $GOOG... ♥SHORT SQUEEZE pic.twitter.com/0oIPaAGr4T | Replies: 1\n",
      "Tweet id: 1095552238938923009 | Date: 2019-02-13 | Time: 00:16:22 | Tweet: @__pony__ Where did My Little Pony go. $AAPL $SQ took you for a ride today that ending was great Apple was so boring today. | Replies: 0\n",
      "Tweet id: 1095506984395145216 | Date: 2019-02-12 | Time: 21:16:33 | Tweet: 2/2 The point of today’s bebate is Charlie. He’s an influencer of $ltc, he’s a Managing Dir of $ltc, n he owns zilch of $ltc. Would Tim Cook use a Samsung n owning zilch of $AAPL trying to influence Apple/iPhone? Makes sense? He could, but questionable. That’s all. Thanks! ✌️ | Replies: 0\n",
      "Tweet id: 1095439936080236544 | Date: 2019-02-12 | Time: 16:50:07 | Tweet: RIGHT! It’s like, they are focused on ONLY Buybacks! Nobody has $AAPL TV! A buyout would make Apple RELEVANT in TV | Replies: 0\n",
      "Tweet id: 1095434925329793025 | Date: 2019-02-12 | Time: 16:30:13 | Tweet: $AAPL Apple with all that cash💰on hand should step in &just by $ROKU. But Tim Cook is so clueless it will Never Happen. | Replies: 1\n",
      "Tweet id: 1095388817639567360 | Date: 2019-02-12 | Time: 13:27:00 | Tweet: Counter-example is $AAPL in Q3 (and a bit in Q4) where guidance wasn't quite up to par, and the stock dropped. HOWEVER, note that Apple was able to recover fairly quickly as well, thanks to decent earnings. #earnings #stockmarket #stockmarketnews | Replies: 1\n",
      "Tweet id: 1095387836440825856 | Date: 2019-02-12 | Time: 13:23:06 | Tweet: 100% correct apple maps are subpar to google but they do have the money to burn, waze maybe 🤷‍♂️ but they are way behind aapl googl | Replies: 0\n",
      "Tweet id: 1095371342256504837 | Date: 2019-02-12 | Time: 12:17:33 | Tweet: Given #AAPL’s cash position (they clearly have enough to weather an economic downturn) this is a strong indication that management believes in Apple’s long term prospects. | Replies: 1\n",
      "Tweet id: 1095255920861270017 | Date: 2019-02-12 | Time: 04:38:55 | Tweet: However, Cramer doesn't think China will punish Starbucks (SBUX - Get Report) or Apple (AAPL - Get Report) when it comes to trade retaliation. | Replies: 0\n",
      "Tweet id: 1095182098028158976 | Date: 2019-02-11 | Time: 23:45:34 | Tweet: That is a graph of Apple Inc. revenue growth in China, and it isn’t pretty for those who are long AAPL... | Replies: 1\n",
      "Tweet id: 1095137858329956352 | Date: 2019-02-11 | Time: 20:49:46 | Tweet: I’m being facetious. Their service revenue is $11B. But here’s one analysis you can be the judge. Apple Services: The Future Growth And Revenue Machine $AAPL  https://seekingalpha.com/article/4239896  | Replies: 0\n",
      "Tweet id: 1095034557567586304 | Date: 2019-02-11 | Time: 13:59:17 | Tweet: @BillGriffeth U said \"very clear that Apple has hit a price wall going to 4 digits on an iPhone price.\" AAPL sells 4 iPhone models-the 7@$449, the 8@$599, the XR@$749-best sellr & the XS@$999 there R models w/ bigger memory or larger screen & will be >$1,000 but mssage misleading | Replies: 0\n",
      "Tweet id: 1094994584478928899 | Date: 2019-02-11 | Time: 11:20:27 | Tweet: Working with the US Department of Veterans Affairs (VA), Apple announced that the Health Records on iPhone feature will be available soon to veterans. $AAPL  https://www.apple.com/newsroom/2019/02/apple-announces-health-records-feature-coming-to-veterans/ … | Replies: 1\n",
      "Tweet id: 1094980720420900864 | Date: 2019-02-11 | Time: 10:25:22 | Tweet: Global-Economic-Slowdown  Not-Apple-specific  $AAPL | Replies: 0\n",
      "Tweet id: 1094946564454473729 | Date: 2019-02-11 | Time: 08:09:38 | Tweet: @CNBCFastMoney $AAPL---Apple saw a 19.9 percent drop in smartphone shipments in China during the fourth quarter, according to a report in the South China Morning Post. | Replies: 0\n",
      "Tweet id: 1094919610804117504 | Date: 2019-02-11 | Time: 06:22:32 | Tweet: It would only take one fatal malfunctioning iWatch or data breach of Apple's ecosystem involving a health record to see billions wiped from $AAPL.   Chipotle like.  Not thinking this through. Its a dumb idea. | Replies: 0\n",
      "Tweet id: 1094842872564772864 | Date: 2019-02-11 | Time: 01:17:36 | Tweet: More interesting news about Apple Inc. (NASDAQ:AAPL) were released by:  http://Seekingalpha.com  and their article: “Why Apple Won’t Be The Next BlackBerry – Seeking Alpha” published on January 11, 2019 as well as  http://Seekingalpha.com ‘s news article titled: “Apple Earnings: | Replies: 1\n",
      "Tweet id: 1094842870744403968 | Date: 2019-02-11 | Time: 01:17:36 | Tweet: Pre-Market Most Active for Jan 30, 2019 : VALE, SID, AMD, T, BABA, AAPL, PHG, FHB, ABB, SQQQ, ACIU, QQQ – Nasdaq” published on January 30, 2019,  http://Seekingalpha.com  published: “Apple: Valuation Vs. Sentiment – Seeking Alpha” on January 11, 2019. | Replies: 1\n",
      "Tweet id: 1094842340928311296 | Date: 2019-02-11 | Time: 01:15:29 | Tweet: Synovus Financial Corp reported 372,369 shares. Edmp reported 8.49% in Apple Inc. (NASDAQ:AAPL). Cadence Capital Management Limited Com holds 0.18% or 14,402 shares. | Replies: 0\n",
      "Tweet id: 1094842339342905344 | Date: 2019-02-11 | Time: 01:15:29 | Tweet: Connecticut-based Tuttle Tactical has invested 2.44% in Apple Inc. (NASDAQ:AAPL). Bruce invested in 85,600 shares or 3.74% of the stock. Bath Savings stated it has 105,557 shares or 5.2% of all its holdings. Augustine Asset Management Incorporated owns 63,967 shares. | Replies: 1\n",
      "Tweet id: 1094842337761607680 | Date: 2019-02-11 | Time: 01:15:29 | Tweet: Intrepid Capital invested 1.48% of its portfolio in Apple Inc. (NASDAQ:AAPL). Dearborn Ltd Company reported 196,053 shares. Economic Planning Grp Inc Adv accumulated 0.61% or 7,636 shares. Riverbridge Prtnrs Ltd Llc holds 0.07% or 17,512 shares in its portfolio. | Replies: 1\n",
      "Tweet id: 1094842336083886080 | Date: 2019-02-11 | Time: 01:15:28 | Tweet: from 2.77 billion shares in 2018Q2 were reported. Eaton Vance Mngmt reported 3.41% in Apple Inc. (NASDAQ:AAPL). 56,974 were accumulated by Usca Ria. Hall Laurie J Trustee reported 2.59% stake. Fiduciary Svcs Of The Southwest Tx, a Texas-based fund reported 28,995 shares. | Replies: 1\n",
      "Tweet id: 1094842332904636416 | Date: 2019-02-11 | Time: 01:15:28 | Tweet: Citigroup maintained Apple Inc. (NASDAQ:AAPL) rating on Friday, November 3. Citigroup has “Buy” rating and $200 target. Oppenheimer maintained Apple Inc. (NASDAQ:AAPL) on Tuesday, August 1 with “Hold” rating. | Replies: 1\n",
      "Tweet id: 1094842331310817280 | Date: 2019-02-11 | Time: 01:15:27 | Tweet: On Friday, August 28 the stock rating was maintained by Piper Jaffray with “Overweight”. The company was maintained on Wednesday, October 26 by Barclays Capital. Robert W. Baird maintained Apple Inc. (NASDAQ:AAPL) on Tuesday, September 22 with “Buy” rating. | Replies: 1\n",
      "Tweet id: 1094842328043401216 | Date: 2019-02-11 | Time: 01:15:26 | Tweet: As per Wednesday, August 2, the company rating was maintained by Maxim Group. CLSA maintained Apple Inc. (NASDAQ:AAPL) rating on Friday, September 16. CLSA has “Buy” rating and $130 target. The company was maintained on Friday, January 12 by Piper Jaffray. | Replies: 1\n",
      "Tweet id: 1094842326428585985 | Date: 2019-02-11 | Time: 01:15:26 | Tweet: Among 58 analysts covering Apple Inc. (NASDAQ:AAPL), 31 have Buy rating, 1 Sell and 26 Hold. Therefore 53% are positive. Apple Inc. had 477 analyst reports since July 21, 2015 according to SRatingsIntel. | Replies: 1\n",
      "Tweet id: 1094842320061640704 | Date: 2019-02-11 | Time: 01:15:24 | Tweet: Google takes aim at Apple and Spotify with paid-for music streaming service; 19/04/2018 – AAPL: Canal will announce next week a “new deal” with Apple #AGVivendi – ! $AAPL; 29/03/2018 – Apple’s Cook Has Pointed Advice for Facebook’s Zuckerberg — Barron’s Blog; | Replies: 1\n",
      "Tweet id: 1094842316873965568 | Date: 2019-02-11 | Time: 01:15:24 | Tweet: Some Historical AAPL News: 01/05/2018 – Apple accounts for 20 percent of Cognex revenues, according to Campling; 09/05/2018 – The Silicon Valley venture capitalist says Apple is a massive generator of cash, | Replies: 1\n",
      "Tweet id: 1094842315183656960 | Date: 2019-02-11 | Time: 01:15:23 | Tweet: The stock increased 0.12% or $0.2 during the last trading session, reaching $170.41. About 23.82M shares traded. Apple Inc. (NASDAQ:AAPL) has risen 0.17% since February 10, 2018 and is uptrending. It has outperformed by 0.17% the S&P500. | Replies: 1\n"
     ]
    },
    {
     "name": "stdout",
     "output_type": "stream",
     "text": [
      "Tweet id: 1094842310402154496 | Date: 2019-02-11 | Time: 01:15:22 | Tweet: Coastline Trust Co decreased its stake in Apple Inc (AAPL) by 11.3% based on its latest 2018Q3 regulatory filing with the SEC. Coastline Trust Co sold 5,280 shares as the company’s stock declined 22.32% with the market. | Replies: 1\n",
      "Tweet id: 1094730083078729728 | Date: 2019-02-10 | Time: 17:49:25 | Tweet: Exactly!  Plus, Apple would rather you spend $1000 on an iPhone then buy $1000 in AAPL.    For economy, spending > investing. | Replies: 0\n",
      "Tweet id: 1094649361093611522 | Date: 2019-02-10 | Time: 12:28:39 | Tweet: I like your optimism on #Apple watch but it would be a very long road ahead to accomplish this. Apple watch, as of now, is probably the most overhyped smart wearable device in the market. Among runners, for example, Apple watch has no chance against #Garmin etc. $AAPL $GRMN | Replies: 0\n",
      "Tweet id: 1094410532210335745 | Date: 2019-02-09 | Time: 20:39:38 | Tweet: No doubt that smartphone growth is slowing, but Apple Pay is growing 100% YOY and services are growing a strong rate.  With such a massive cash hoard it's in $AAPL's best interest to be patient and wait for a market crash to make a major acquisition. | Replies: 2\n",
      "Tweet id: 1094346075538968576 | Date: 2019-02-09 | Time: 16:23:31 | Tweet: Apple $AAPL will never get my face into their database .  Ever. | Replies: 0\n",
      "Tweet id: 1094293907024855040 | Date: 2019-02-09 | Time: 12:56:13 | Tweet: You mean all 2 of them?...........Apple when its down and Apple when its up.  $AAPL | Replies: 0\n",
      "Tweet id: 1094135611168976896 | Date: 2019-02-09 | Time: 02:27:12 | Tweet: sure, he might be right, having recently been chastened (like a lot of us) by Apple's earnings warning...  https://www.ped30.com/2018/10/24/sacconaghi-hikes-apple-target-225/ …  but it's not terribly difficult to see the general direction of his revised $AAPL thesis, either | Replies: 0\n",
      "Tweet id: 1093999240655790080 | Date: 2019-02-08 | Time: 17:25:19 | Tweet: The truth is $AAPL should hire Ron back. He made beautiful stores and if we’re honest Apple hasn’t done much to change them since Ron left. | Replies: 0\n",
      "Tweet id: 1093961240991346689 | Date: 2019-02-08 | Time: 14:54:19 | Tweet: /2 The $AAPL ABC retracement now meets the minimum requirements for a complete Elliott wave count, imo. It could continue higher from here (to, say, >$170)... but the time is nigh for all good short sellers to consider shorting #Apple. Sharp down from here, could be wrong, #DYOR pic.twitter.com/4dv0UWYdHR | Replies: 2\n",
      "Tweet id: 1093890425151119362 | Date: 2019-02-08 | Time: 10:12:55 | Tweet: The FED is another arm of the DNC. It has been used strategically to disrupt @POTUS economic resurgence. #AbolishFED $Aapl Apple CEO Tim Cook along with the FED stripped American retirement accounts of $10Trillion dollars in less than 3 months. #FireCook #SEC #TradeWar #FED | Replies: 0\n",
      "Tweet id: 1093888766056443905 | Date: 2019-02-08 | Time: 10:06:19 | Tweet: The dumbing down of corporate America. Progressives think they’re owed something later in life. Look at the faces involved, all middle management with nothing to add. #AtlasShrugged #AynRand $Aapl #Apple #FireCook #AbolishFED #Cook | Replies: 0\n",
      "Tweet id: 1093835750989332480 | Date: 2019-02-08 | Time: 06:35:40 | Tweet: A lesson for @amazon , @Apple , @facebook and @Google , everyone values their privacy....#privacy #GDPR $AAPL $GOOGL $MSFT $AMZN $IBM $ORCL $CRM $TSLA $SNAP $FB $BB @WSJ @business @Reuters @BGR @BlackBerry | Replies: 0\n",
      "Tweet id: 1093721375737401344 | Date: 2019-02-07 | Time: 23:01:10 | Tweet: $AAPL #Apple \"Filling\" Edition - First gap filled as expected. - May have a little S/R flip here - Would expect second gap to fill if overall market continues bearish trend  pic.twitter.com/OUawaZ1Asw | Replies: 0\n",
      "Tweet id: 1093691982457851904 | Date: 2019-02-07 | Time: 21:04:23 | Tweet: A lesson for @amazon , @Apple , @facebook and @Google , everyone values their privacy....#privacy #GDPR $AAPL $GOOGL $MSFT $AMZN $IBM $ORCL $CRM $TSLA $SNAP $FB $BB @WSJ @business @Reuters @BGR @BlackBerry | Replies: 0\n",
      "Tweet id: 1093629885455699969 | Date: 2019-02-07 | Time: 16:57:38 | Tweet: What percent of $TSLAQ members also failed to see the phenomenon that was happening right in front of them with the rise of Apple? My guess is 100%.   They will miss the TSLA boat as they missed the AAPL boat. Same mindset of trying to deny the wave 🌊 exists instead of riding it | Replies: 1\n",
      "Tweet id: 1093601621580398592 | Date: 2019-02-07 | Time: 15:05:19 | Tweet: @Apple will pay Grant Thompson for discovering FaceTime bug. Will also make gift for his education $AAPL  https://reut.rs/2I0m3pu  | Replies: 0\n",
      "Tweet id: 1093589944730189824 | Date: 2019-02-07 | Time: 14:18:55 | Tweet: I would say more of a SHORT play by very large and corrupt interested parties. Complicit financial news media, Hedge fund managers, FED and CEO’s. Ruin @POTUS economy resurgence.  $Aapl Apple is the most widely held retirement fund stock #Cook #Apple #HedgeFund #AbolishFED | Replies: 0\n",
      "Tweet id: 1093553521109041153 | Date: 2019-02-07 | Time: 11:54:11 | Tweet: $Aapl APPLE, China Trade wars painful for suppliers. Innovation & supply chain disruption. #Cook #FireCook #SEC | Replies: 1\n",
      "Tweet id: 1093341422961324032 | Date: 2019-02-06 | Time: 21:51:23 | Tweet: A. Anyone who believes that APPLE's moat remains intact. Many $aapl users still swear by its products, they're just taking a longer time to upgrade coz 1. New iPhone cost more than before 2. Older iPhone can be stopped from slowing down. 3. Old batteries can be replaced | Replies: 0\n",
      "Tweet id: 1093286972184018945 | Date: 2019-02-06 | Time: 18:15:01 | Tweet: Well.... at least you have your Apple Watch so you don’t miss important calls and texts.... | Replies: 2\n",
      "Tweet id: 1093208085017939968 | Date: 2019-02-06 | Time: 13:01:32 | Tweet: $Aapl Apple stock takes a hit, signaled by CEO’s slowdown warning, Trade War rumors, supplier shortages. Now, top exec’s scurrying to the door.  #Apple @businessinsider #Cook #Recession #TradeWar | Replies: 0\n",
      "Tweet id: 1093199276832829440 | Date: 2019-02-06 | Time: 12:26:32 | Tweet: Apple stock hit hard by trade war talk, CEO’s announcement of critical iPhone supplier shortfall. #ChinaTrade #Cook $Aapl | Replies: 0\n",
      "Tweet id: 1093192039414427650 | Date: 2019-02-06 | Time: 11:57:47 | Tweet: I honestly think $DIS should drop their streaming plans and go with an exclusive licensing and revenue sharing model with $AAPL and get exclusive access to Apple’s 1.4B installed base. I’m sure Cook will gladly pay several billion a year to outsource content creation to $DIS. | Replies: 1\n",
      "Tweet id: 1093167490547494913 | Date: 2019-02-06 | Time: 10:20:14 | Tweet: U can’t put amzn in with goog & aapl. Apple & Goog have billions of debt free cash on hand.All of amzn’s cash on hand is tied to debt.They have no debt free cash in their coffers. In fact,if amzn had 2 pay off their debt they wouldn’t have the money 2do so.Alexa can u say Chap13 | Replies: 0\n",
      "Tweet id: 1093139415940169728 | Date: 2019-02-06 | Time: 08:28:40 | Tweet: Netflix ($NFLX) closed at $351.34 a reaction to the JPMorgan suggestion that Apple ($aapl)could purchase them as well as Activision Blizzard ($ATVI). | Replies: 1\n",
      "Tweet id: 1093116936861483009 | Date: 2019-02-06 | Time: 06:59:21 | Tweet: AAPL is a single platform company.  They aren’t going but an epic and have to support Windows Android Non-Safari browsers, etc…   Apple has been historically awful in this space.  And no healthcare org will buy into a iOS / MacOS only solution. | Replies: 0\n",
      "Tweet id: 1093023749874409472 | Date: 2019-02-06 | Time: 00:49:04 | Tweet: @Apple profit looking maxed. Only dollar pool large enough to move the dial is global subscription TV. @Disney rolling up their rights to launch streaming and @RobertIger needs an exit...maybe time for @Tim_Cook and #AAPL to “reach a net cash neutral position” and buy #DIS | Replies: 0\n",
      "Tweet id: 1092958346733178881 | Date: 2019-02-05 | Time: 20:29:10 | Tweet: Disney 𝙋𝙖𝙧𝙩𝙣𝙚𝙧𝙨 with aapl to bundle subscriptions and target apples installed base of hundreds of millions, synergy. Disney easily exceeds nflx content quality and quantity in long run | Replies: 0\n",
      "Tweet id: 1092920386667319296 | Date: 2019-02-05 | Time: 17:58:20 | Tweet: @FastCompany is this one of the companies people are recommending for Apple to buy?It shows why Apple is a very smart company,I stick by prediction aapl should take a 20% stake in tesla, 20% in Netflix, 20% and Dis,, eventually buying all 3 companies .  pic.twitter.com/tDjaYwAtow | Replies: 0\n",
      "Tweet id: 1092912706422599680 | Date: 2019-02-05 | Time: 17:27:49 | Tweet: Jobs was a salesman like Musk, Tim is a operating behind the scenes guy. I love when Tim tries to get passionate about something.  It's so forced. I would fire all the top people at Apple at this point. $AAPL | Replies: 2\n",
      "Tweet id: 1092912426805149696 | Date: 2019-02-05 | Time: 17:26:42 | Tweet: Tim doesn't think apple should have to sell anyone anything. The commercials are a farce. people in colors running, I dont get it at all. Apple needs a why to upgrade campaign! $AAPL | Replies: 0\n",
      "Tweet id: 1092912392974057472 | Date: 2019-02-05 | Time: 17:26:34 | Tweet: We have made amazing progress. If we break $175 tomorrow, we have a few micro resistances in olace, but we are in our way to $182 in the very near future! $aapl #apple #stocks pic.twitter.com/yamqGoMdiP | Replies: 0\n",
      "Tweet id: 1092905167295574016 | Date: 2019-02-05 | Time: 16:57:51 | Tweet: Now that Jim is backing AAPL up I am scared,, please keep you price target to 120,, but Jim is the only one loves Apple though,, all he has to do is keep the PT to $120,, Jim saved Apple price decline by doing Tcooks interview | Replies: 0\n",
      "Tweet id: 1092900640135688192 | Date: 2019-02-05 | Time: 16:39:52 | Tweet: #MORE $AAPL retook spot as the most valuable US company with a market valuation of $821.7 billion.   Amazon, Microsoft and Apple have traded off as most valuable company since Apple and Amazon hit $1T last year.  $AMZN current market cap at $815.1 billion, $MSFT  $817.4 billion | Replies: 0\n",
      "Tweet id: 1092899597633101825 | Date: 2019-02-05 | Time: 16:35:43 | Tweet: @Hipster_Trader it seems things are awesome at $aapl Apple's retail chief Angela Ahrendts to leave the company in April -  https://www.cnbc.com/2019/02/05/apples-retail-chief-angela-ahrendts-to-leave-the-company-in-april.html … | Replies: 0\n"
     ]
    },
    {
     "name": "stdout",
     "output_type": "stream",
     "text": [
      "Tweet id: 1092880254157365248 | Date: 2019-02-05 | Time: 15:18:51 | Tweet: @here $AAPL news \"Apple wins ruling on pre-suit damages in Qualcomm patent case\" - #Bloomberg | Replies: 0\n",
      "Tweet id: 1092837597099876352 | Date: 2019-02-05 | Time: 12:29:21 | Tweet: Of course Jim.  Us and Berkshire. $aapl Said it on #CNBC. Apple is worth $180 at worst. | Replies: 4\n",
      "Tweet id: 1092818690003873798 | Date: 2019-02-05 | Time: 11:14:13 | Tweet: $AAPL Daily: #AAPL 13MA never recrossed BC, it then exploded upward into earnings (reversing Upper BB). Since then it has been chasing Upper BB as fast as it possibly can. Next major resistance 200MA @ 182 currently.  #APPLE #Tech #Technology pic.twitter.com/umsNnyPKrC | Replies: 1\n",
      "Tweet id: 1092805729323544576 | Date: 2019-02-05 | Time: 10:22:43 | Tweet: AAPL goes well, That’s enough to Apple. | Replies: 0\n",
      "Tweet id: 1092798891253288964 | Date: 2019-02-05 | Time: 09:55:33 | Tweet: Apple is biggest  Health Tech anticipation  Yes, innovators  ————— $AAPL Haiku  Booyah @jimcramer | Replies: 0\n",
      "Tweet id: 1092776814919979013 | Date: 2019-02-05 | Time: 08:27:50 | Tweet: It’s all in the charts. Algorithms are telling to buy now. It will change and reverse at $175 ish. Cramer is just trying to boost $AAPL due to his misguided “hold Apple” advise last October. Resorting to rumors, Genius?  pic.twitter.com/D4KFLtdJND | Replies: 0\n",
      "Tweet id: 1092604007653113856 | Date: 2019-02-04 | Time: 21:01:09 | Tweet: $aapl is buying $shop, $w, $sq, $nflx, $nvda, Yahoo, $tsla, $twlo, $roku, bitcoin, UST...   My personal opinion, Apple should just buy $spx and we get QE:4.1 with @neelkashkari running Its fund. | Replies: 0\n",
      "Tweet id: 1092600266304688128 | Date: 2019-02-04 | Time: 20:46:17 | Tweet: Roku. Don’t let Roku grow and challenge #Apple later on or another competitor to acquire #Roku.   $ROKU $AAPL | Replies: 0\n",
      "Tweet id: 1092565729935671299 | Date: 2019-02-04 | Time: 18:29:03 | Tweet: Apple should buy Tesla. Apple is already trying to make a car. Apple needs an Elon and Tesla needs a Tim. Similar brand positioning. Tesla has an exciting product roadmap and may become the iPhone of electric cars. $AAPL + $TSLA makes way more sense. | Replies: 0\n",
      "Tweet id: 1092562944792150016 | Date: 2019-02-04 | Time: 18:17:59 | Tweet: @jimcramer I like your healthcare strategy for Apple. In addition, what do you think of a bundling alliance between Disney and aapl? Bundle Disney content with aapl products and also target aapl’s installed base with Disney content. Synergy for both. | Replies: 0\n",
      "Tweet id: 1092562787992248320 | Date: 2019-02-04 | Time: 18:17:22 | Tweet: @RiskReversal like the suggestion of Apple’s next acquisition. Siri and Sirius goes hand in hand $siri $aapl | Replies: 1\n",
      "Tweet id: 1092546153739157507 | Date: 2019-02-04 | Time: 17:11:16 | Tweet: I think $AAPL should buy @Tanium (information technology/ #security) to enhance their #AI #cybersecurity offerings for #APPLE devices & services & also consider @SoFi (#fintech) for their niche in helping to reduce #debt (a bolt-on for #APPLEPAY)  😉#PAYITFORWARD   @SharesMagDan pic.twitter.com/KtFCHiT3wq | Replies: 0\n",
      "Tweet id: 1092537046919507970 | Date: 2019-02-04 | Time: 16:35:04 | Tweet: @HFTAlert please provide info buybacks don't work Example Apple From spring to almost winter 2018 Who was buying $AAPL  Company and Buffet From 150 to 231 | Replies: 0\n",
      "Tweet id: 1092513344773337088 | Date: 2019-02-04 | Time: 15:00:53 | Tweet: $AAPL Apple: decade long wining streak, performs at highest competition and wins, cult like - people love it or hate it, wins so much it’s almost boring. May be near end of main product life cycle but will have other off shoot avenues of income. Fast, slim and good looking. | Replies: 0\n",
      "Tweet id: 1092477134696701952 | Date: 2019-02-04 | Time: 12:37:00 | Tweet: $AAPL $NFLX $ROKU $IQ Apple  — Shares of the tech giant jumped 2.5 percent midday Monday, bringing  its year-to-date gains to 8.2 percent. The move higher comes after J.P.  Morgan said Apple could acquire a major media player like Netflix. | Replies: 1\n",
      "Tweet id: 1092451407721058306 | Date: 2019-02-04 | Time: 10:54:47 | Tweet: Apple could buy a super-majority stake in Netflix No need to blend the businesses & ruin two good operations $AAPL $NFLX | Replies: 0\n",
      "Tweet id: 1092259016628027393 | Date: 2019-02-03 | Time: 22:10:17 | Tweet: Microsoft and Apple too have blacklisted them.  MSFT -   https://cloudblogs.microsoft.com/microsoftsecure/2018/10/04/microsoft-partners-with-digicert-to-begin-deprecating-symantec-tls-certificates/ … AAPL -  https://support.apple.com/en-us/HT208860   Guess @NCIIPC and @IndianCERT don't consider it their job to proactively get govt. sites to update their certs.. | Replies: 1\n",
      "Tweet id: 1092194793944317952 | Date: 2019-02-03 | Time: 17:55:05 | Tweet: That’s why it’s my only other investment out side of Bitcoin and I loaded the boat on Jan 4th at 142 a share! #Apple @stocks_AAPL | Replies: 1\n",
      "Tweet id: 1092179196846243841 | Date: 2019-02-03 | Time: 16:53:06 | Tweet: I’m waiting for the ICE raid of Amazon, Google and Apple. That should be good for stocks. $AMZN $GOOG $AAPL | Replies: 0\n",
      "Tweet id: 1092177173039988742 | Date: 2019-02-03 | Time: 16:45:04 | Tweet: Apple. (AAPL) | Replies: 0\n",
      "Tweet id: 1092120684115959810 | Date: 2019-02-03 | Time: 13:00:36 | Tweet:  https://nfusz.com/  Tick tock tick tock $FUSZD $VERB #TAGG #VERB #Nfusz @VerbTech_Co #taggCRM #CRM #APPS #Apple #Google @GooglePlay @apple #Gamechanger Will B Available Shortly Folks! #BuyNow #CallNow #Click #Schedule #Website #Interactive #Video #SaaS #taggCRM $MSFT $AAPL  pic.twitter.com/G2BO01I2fI | Replies: 0\n",
      "Tweet id: 1091858714125090816 | Date: 2019-02-02 | Time: 19:39:37 | Tweet: @AppleSupport hey Apple ... phone acting up... even restarted phone... #apple $aapl  pic.twitter.com/axv0KYcwZb | Replies: 1\n",
      "Tweet id: 1091720572306894848 | Date: 2019-02-02 | Time: 10:30:42 | Tweet: Apple is not above the law...... $AAPL | Replies: 0\n",
      "Tweet id: 1091467835585499137 | Date: 2019-02-01 | Time: 17:46:25 | Tweet: $PYPL or $AAPL could change that.  Apple would have a potential cold storage advantage.  PayPal has much better user base to tap.  If crypto is the currency for the apocalypse, probably needs to work without internet - advantage to Apple.  Both require power.  Long way to go. | Replies: 0\n",
      "Tweet id: 1091413443368779776 | Date: 2019-02-01 | Time: 14:10:17 | Tweet: He just sold $5 million AAPL options. He's on the Apple board. | Replies: 0\n",
      "Tweet id: 1091406203081633795 | Date: 2019-02-01 | Time: 13:41:30 | Tweet: That’s not a problem new or unique to digital assets though.   Any country can at any time say your AAPL or MSFT is “not recognized”.  The issuer is what matters & if Apple says something digital is a share you have enforceability of ownership same as a paper share.  Same system | Replies: 0\n",
      "Tweet id: 1091349745140944897 | Date: 2019-02-01 | Time: 09:57:10 | Tweet: Example: Android OEMs spend gobs of ad money on sites like CNET but $AAPL spends little— so tech “reviewer” sites UN-objectively give Android phones a free pass in reviews and constantly undersell Apple’s innovations. Most all media has bias— therefore dangerous U on rite track. | Replies: 0\n",
      "Tweet id: 1091171433189961728 | Date: 2019-01-31 | Time: 22:08:37 | Tweet: #ProjectRaven also targeted Americans, and the Apple Inc iPhones of embassy staff for France, Australia and the United Kingdom, according to former operatives and program documents reviewed by @Reuters.  $AAPL #Karma https://reut.rs/2HHpDoA  | Replies: 0\n",
      "Tweet id: 1091166236916891648 | Date: 2019-01-31 | Time: 21:47:58 | Tweet: Combine that with incoming competition from the likes of Disney (DIS) and Apple (AAPL) along with already existing market players Amazon (AMZN) and Hulu and Netflix looks to have a conundrum on their hands. $NFLX | Replies: 1\n",
      "Tweet id: 1091105203942772738 | Date: 2019-01-31 | Time: 17:45:27 | Tweet: only thing is that they are in diff sectors and while amzn is firing on all cylinders and more, apple needs to research a new direction with dwindling iphone sales.  perhaps aapl needs to buy something to jumpstart.  amzn is a like a mutual fund, on roids. | Replies: 0\n",
      "Tweet id: 1091100717933154304 | Date: 2019-01-31 | Time: 17:27:37 | Tweet: Amazon sales growth in holiday quarter: +19.7% Apple: -4.5%  $AMZN profit growth in holiday quarter: +63.4% $AAPL: -0.5%. Stocks trade on forward prospects and Wall ST. likes the consumer friendly business over the (declining) premium margin play of AAPL. | Replies: 0\n",
      "Tweet id: 1091075221824593921 | Date: 2019-01-31 | Time: 15:46:18 | Tweet: #Apple said iPhone Worldwide Active #SmartPhones Users were 0.9B, >1/3 of the 2018’s 2.53B Total, per @StatistaCharts. Apple sold 209M—15% Market Share, in a market down 4.1% to 1,405M units. Great news for $AAPL shareholders! Apple holds >2X Active Users vs Sales Market Share  pic.twitter.com/XcQANsU2BG | Replies: 0\n"
     ]
    },
    {
     "name": "stdout",
     "output_type": "stream",
     "text": [
      "Tweet id: 1091020235023343616 | Date: 2019-01-31 | Time: 12:07:48 | Tweet: Rolled half of my 170c for 5 bagger gain into 172.50.  Any purchase by $aapl can boost the price. No one wants to hold cash including apple. | Replies: 1\n",
      "Tweet id: 1090999806787547137 | Date: 2019-01-31 | Time: 10:46:38 | Tweet: Come on Walt ... you are increasing your stock purchases of AAPL and shorting FB as Apple will eventually    launch its own version of  social media to take on FB . You Kara and Roger have been over the top on negative FB reporting in NYT. | Replies: 4\n",
      "Tweet id: 1090990985012805633 | Date: 2019-01-31 | Time: 10:11:35 | Tweet: @JBoorstin I used to do #SecretShopping just for fun. a month back I got a request to do it for APPLE STORES in NYC area. I can't - android.  $aapl was TOO quick to pull an app that did ONLY that Secret Shop. This is just more silliness. qtr proves. it  @SquawkAlley @jonfortt | Replies: 0\n",
      "Tweet id: 1090974908300042240 | Date: 2019-01-31 | Time: 09:07:42 | Tweet: Luca-at-Apple $AAPL | Replies: 0\n",
      "Tweet id: 1090970191926882304 | Date: 2019-01-31 | Time: 08:48:57 | Tweet: This is where you continue not understanding the $AAPL problems. If you read between the lines, they are rated low on innovation and low on value add. You can only charge a premium if you provide true innovation and value.  Apple is not doing that  pic.twitter.com/faM0ojmsto | Replies: 0\n",
      "Tweet id: 1090969199348932609 | Date: 2019-01-31 | Time: 08:45:01 | Tweet: FBI arrest Two more Chinese IP spy’s have been caught at Apple $AAPL this week with thousands of files containing manuals, schematics, even pictures of office diagrams. Ready to open mimic company in China. #ChineseMoles in USA | Replies: 0\n",
      "Tweet id: 1090964401874644992 | Date: 2019-01-31 | Time: 08:25:57 | Tweet: Thing is, this is a favorite and erroneous argument made by critics. Apple has been offering less expensive iPhones for many product cycles. The iPhone 7: $449 and iPhone 8: $599 are currently on offer alongside the too \"expensive\" iPhones (source: $AAPL September 2018 event). | Replies: 1\n",
      "Tweet id: 1090929620080357376 | Date: 2019-01-31 | Time: 06:07:44 | Tweet: just one month later! #apple #AAPL #stockstowatch #stocks #trade #trading #Trader #tradingiseasy pic.twitter.com/Lz2UYtc56F | Replies: 2\n",
      "Tweet id: 1090890388418805760 | Date: 2019-01-31 | Time: 03:31:51 | Tweet: @Apple may soup up #cameras, boost #AR capabilities in new #iPhones: report  https://on.mktw.net/2GckItg  $AAPL #Smartphones #NYC #Beirut | Replies: 0\n",
      "Tweet id: 1090815084857868288 | Date: 2019-01-30 | Time: 22:32:37 | Tweet: $AAPL Apple Inc.  http://bit.ly/HWLvmJ   Support      164.00   162.70   161.92   159.53   159.36   158.90 Resistance   165.89   166.72   170.26   170.59   172.90   173.01 Watch for🚀  157.34🐣 156.29🐤 155.38🐥 153.69🐦 163.54🦅 190.17👑  Watch 159! Now above 50MA pic.twitter.com/sLXyGVK9Ud | Replies: 1\n",
      "Tweet id: 1090803780562636800 | Date: 2019-01-30 | Time: 21:47:42 | Tweet: @TheStreet @jimcramer $AAPL of course! Brady was named the starter in September 2001. The IPod was first released in October 2001. The Patriots won the Super Bowl that season. People love to hate the Pats & Apple yet both always come back strong! @SquawkStreet | Replies: 1\n",
      "Tweet id: 1090749899040272389 | Date: 2019-01-30 | Time: 18:13:35 | Tweet: Glad to see THE apple kept it's spot! Appropriate today as well...how do you like them $AAPL's ;-) | Replies: 0\n",
      "Tweet id: 1090723562128920576 | Date: 2019-01-30 | Time: 16:28:56 | Tweet: #Google’s also peddling a data collector through @Apple's back door. But unlike @Facebook, @Google is much upfront about how its #data collection programs work and what’s collected. $GOOGL $FB $AAPL #Privacy By @zackwhittaker @JoshConstine @ingridlunden >  https://tcrn.ch/2CZwR1k  pic.twitter.com/OLtXbKLIiw | Replies: 0\n",
      "Tweet id: 1090713075093770241 | Date: 2019-01-30 | Time: 15:47:16 | Tweet: Apple is going to launch new products this year... go figure. $AAPL  https://www.bloomberg.com/news/articles/2019-01-30/apple-is-said-to-prep-new-3-d-camera-for-2020-iphones-in-ar-push … | Replies: 1\n",
      "Tweet id: 1090697112931782657 | Date: 2019-01-30 | Time: 14:43:50 | Tweet: reached 165$ almost 15% up in like 25 days 🥳👊💪 #YOLO #aapl #apple $aapl | Replies: 0\n",
      "Tweet id: 1090694628934701056 | Date: 2019-01-30 | Time: 14:33:58 | Tweet: (Reuters) - Apple Inc (AAPL.O) said on Wednesday it had banned Facebook Inc (FB.O) from a program designed to let businesses control iPhones used by their employees, saying the social networking company had improperly used it to track the web-browsing habits of teenagers. | Replies: 0\n",
      "Tweet id: 1090688416499597312 | Date: 2019-01-30 | Time: 14:09:17 | Tweet: Apple-tripled-since-it's-7:1-split Netflix-quadrupled-since-it's-7:1-split  All-in-the-last-5-years  We-like-Splits  $AAPL $NFLX $BA $AMZN | Replies: 1\n",
      "Tweet id: 1090672842650370053 | Date: 2019-01-30 | Time: 13:07:24 | Tweet: Three former operatives said they understood #Karma to rely, at least in part, on a flaw in Apple’s messaging system, iMessage. $AAPL #iOS  https://reut.rs/2TotY11  | Replies: 1\n",
      "Tweet id: 1090668286860238848 | Date: 2019-01-30 | Time: 12:49:17 | Tweet: It's-why-people-shouldn't-upgrade-phones-or-update-software  #iOs #Apple $FB $AAPL | Replies: 0\n",
      "Tweet id: 1090663621364015104 | Date: 2019-01-30 | Time: 12:30:45 | Tweet: Apple worker Secret theft for Chinese robocar firm uhmm that’s good for AAPL | Replies: 0\n",
      "Tweet id: 1090662132600000513 | Date: 2019-01-30 | Time: 12:24:50 | Tweet: There’s a lot of talk about how FB is this giant monopolistic force that will crush anything in its path.  But this saga shows who really has the power in tech: underlying platforms (in this case Apple)  AAPL just ground FB's internal development to a halt over a policy violation | Replies: 22\n",
      "Tweet id: 1090647437646020609 | Date: 2019-01-30 | Time: 11:26:27 | Tweet: 40% gain on those options   $AAPL The Pattern in Apple That Triggers Right After an Earnings Beat  http://www.cmlviz.com/2019/01/29/AAPL/the-pattern-in-apple-that-triggers-right-after-an-earnings-beat.html#.XFHQJFsiAfM.twitter … | Replies: 1\n",
      "Tweet id: 1090629857082556417 | Date: 2019-01-30 | Time: 10:16:35 | Tweet: @CNBC To be fair, the services are now available without the need for an iOS device. $AAPL a move from the only our ecosystem for success rhetoric, but people can subscribe to apple music on an android now. | Replies: 0\n",
      "Tweet id: 1090626370621882368 | Date: 2019-01-30 | Time: 10:02:44 | Tweet: Early buying interest may be generated in reaction to earnings news from big-name companies like #Boeing (BA) and #Apple (AAPL). | Replies: 1\n",
      "Tweet id: 1090625071788556290 | Date: 2019-01-30 | Time: 09:57:34 | Tweet: I own both $aapl $Fb and @tim_cook is making a HUGE mistake. Apple uses Secret Shoppers for its stores - should we bash Apple for that. $FB VPN is Secret Shoppers for the internet.   https://twitter.com/apppro1/status/1090624091634180096 … @CNBCJosh @jonfortt @SquawkStreet @SquawkAlley | Replies: 0\n",
      "Tweet id: 1090619055768244224 | Date: 2019-01-30 | Time: 09:33:40 | Tweet: There is a broker around here notorious for putting the Apple Hospitality REIT in IRAs and most clients think they own AAPL | Replies: 0\n",
      "Tweet id: 1090618010145034240 | Date: 2019-01-30 | Time: 09:29:30 | Tweet: $AAPL While iPhone biz is lucrative butdown Y/Y, Services & Accessories bright spots.  Services = Crosses $10B /qtr runrate. Leveraging 1.4B Apple devices base= More Apple Care, Licensing & App Store $$  Accessories/Others = Bigger than Macs or iPads!! Apple Watch the key driver!  pic.twitter.com/dNkp2xufqc | Replies: 1\n",
      "Tweet id: 1090616423636885504 | Date: 2019-01-30 | Time: 09:23:12 | Tweet: $AAPL Healthy margins a bright spot - Hallmark of Apple's biz  ✂️Gross margins continue to be healthy and stable, depicting efficient supply chain though down from peak of 40% levels  ✂️Operating margins also fairly stable at 28% levels, despite Y/Y rise in OPEX, R&D and SG&A  pic.twitter.com/u8QPXV5UIh | Replies: 1\n",
      "Tweet id: 1090615564421160960 | Date: 2019-01-30 | Time: 09:19:47 | Tweet: Thanks for pointing this out. Apple product revenue, which makes up 87% of sales, dropped 7%. $AAPL #Apple | Replies: 0\n",
      "Tweet id: 1090614529388613632 | Date: 2019-01-30 | Time: 09:15:41 | Tweet: Apple bans Facebook research app that collects users' information, Recode says  $AAPL @theflynews @Recode | Replies: 0\n",
      "Tweet id: 1090603610004770821 | Date: 2019-01-30 | Time: 08:32:17 | Tweet: Apple's challenges in China will persist, says Wells Fargo  $AAPL | Replies: 1\n",
      "Tweet id: 1090598542354333701 | Date: 2019-01-30 | Time: 08:12:09 | Tweet: Apple outlook not worse than expected, not particularly good, says KeyBanc $AAPL | Replies: 1\n",
      "Tweet id: 1090572268965634049 | Date: 2019-01-30 | Time: 06:27:45 | Tweet: @GDPRReport This is not the first time that Apple did not report a breach. Is Aple too big to report? $AAPL $MSFT $GOOGL $AMZN $IBM $ORCL $CRM $TSLA $SNAP $FB @WSJ @business @Reuters @BGR @BlackBerry @CNBC | Replies: 0\n",
      "Tweet id: 1090571546056364032 | Date: 2019-01-30 | Time: 06:24:53 | Tweet: Lol 😂. Majority of people around the world want an Apple iPhone and/or Apple products, they just have to be able to afford one. $AAPL, there is no other phone out there that can replace it. | Replies: 0\n",
      "Tweet id: 1090554965427404800 | Date: 2019-01-30 | Time: 05:18:59 | Tweet: ....unlike the real Apple bulls who are still stuck with their $233 shares.  Gloating what ever nonsense you are down here, is the ridiculous clown show.  There remains risk to the $AAPL sp and we hope your \"homework\" becomes more legit than bear bashing, pumping, and preening. | Replies: 0\n",
      "Tweet id: 1090549671628623872 | Date: 2019-01-30 | Time: 04:57:57 | Tweet: Good piece on Apple in India. This is a big opportunity given the huge population. But need lower prices. $AAPL  https://www.forbes.com/sites/petercohan/2018/12/19/5-reasons-apples-india-strategy-is-an-epic-fail/#3f4fbb422edc … | Replies: 0\n"
     ]
    },
    {
     "name": "stdout",
     "output_type": "stream",
     "text": [
      "Tweet id: 1090545336861495298 | Date: 2019-01-30 | Time: 04:40:44 | Tweet: Apple shares rose 6% in after-hours trading.  The shares had seen a 30% drop since November on concerns about declining iPhone sales and a general weakening in high-tech stocks. #sabcnews #AAPL | Replies: 0\n",
      "Tweet id: 1090533222813974529 | Date: 2019-01-30 | Time: 03:52:36 | Tweet: Apple shares have fallen 27% over the past three months, while the Dow Jones Industrial Average DJIA, +0.21% of which Apple is a component, has gained 0.6%. $AAPL | Replies: 1\n",
      "Tweet id: 1090533220993650689 | Date: 2019-01-30 | Time: 03:52:35 | Tweet: This marked the first quarter in which Apple disclosed the gross margin of its services segment: 62.8%, up from 58.3% a year earlier.  $AAPL | Replies: 1\n",
      "Tweet id: 1090533219248812032 | Date: 2019-01-30 | Time: 03:52:35 | Tweet: Opinion: When the going gets tough, Apple hides its numbers  Apple’s services revenue exceeded expectations by a hair, coming it at $10.9 billion, compared with estimates for $10.8 billion. $AAPL | Replies: 1\n",
      "Tweet id: 1090533217600487424 | Date: 2019-01-30 | Time: 03:52:34 | Tweet: Apple stopped disclosing unit-sales metrics or average selling prices for its devices, beginning with this quarter’s report.  $AAPL | Replies: 1\n",
      "Tweet id: 1090533213980815360 | Date: 2019-01-30 | Time: 03:52:33 | Tweet: He said Apple has an installed base of 1.4 billion devices, “an all-time high.”  As expected, China proved a weak point during the quarter. Greater China accounted for $13.2 billion of the company’s revenue in the period, compared with nearly $18 billion a year earlier.  $AAPL | Replies: 1\n",
      "Tweet id: 1090533212223406086 | Date: 2019-01-30 | Time: 03:52:33 | Tweet: Chief Executive Tim Cook said in Apple’s release that while he was disappointed the company fell short of its initial revenue forecast for the holiday period, “this quarter’s results demonstrate that the underlying strength of our business runs deep and wide.” $AAPL | Replies: 1\n",
      "Tweet id: 1090533206737240064 | Date: 2019-01-30 | Time: 03:52:32 | Tweet: The company reported $4.18 per share in earnings for the December quarter on revenue of $84.3 billion. Apple had preannounced the top-line number, calling for $84 billion in a letter to investors that it issued in early January. $AAPL | Replies: 1\n",
      "Tweet id: 1090533203247550465 | Date: 2019-01-30 | Time: 03:52:31 | Tweet: The key metric in Apple’s AAPL, -1.04%  fiscal first-quarter release was its March-quarter revenue outlook, which came in at $55 billion to $59 billion. $AAPL | Replies: 1\n",
      "Tweet id: 1090533201448181760 | Date: 2019-01-30 | Time: 03:52:31 | Tweet: Apple Inc. shares were higher in after-hours trading Tuesday, though the company issued a forecast that fell short of already lowered expectations.  $AAPL | Replies: 1\n",
      "Tweet id: 1090525410620833792 | Date: 2019-01-30 | Time: 03:21:33 | Tweet: China will retaliate against Apple all that has befallen Huawei. #China is coming for Apple. Sounds pedestrian? $AAPL | Replies: 0\n",
      "Tweet id: 1090521151477035008 | Date: 2019-01-30 | Time: 03:04:38 | Tweet: Apple will further detail the results shortly in an earnings call with analysts and media.  $AAPL | Replies: 0\n",
      "Tweet id: 1090520861713592320 | Date: 2019-01-30 | Time: 03:03:28 | Tweet: For fiscal Q2 2019, Apple is offering a revenue guidance range between $55 billion and $59 billion, with gross margin between 37 and 38 percent, a notable dip from its normal 38 to 38.5 percent range. $AAPL | Replies: 0\n",
      "Tweet id: 1090520859922624512 | Date: 2019-01-30 | Time: 03:03:28 | Tweet: Apple’s board of directors declared a cash dividend of $0.73 per share of common stock, payable February 14 to shareholders of record as of the close of business on February 11.  $AAPL | Replies: 1\n",
      "Tweet id: 1090520853559824384 | Date: 2019-01-30 | Time: 03:03:27 | Tweet: Apart from disappointing sales, the last quarter capped off a roller-coaster year for Apple’s stock. Despite well-publicized issues over software slowdowns of aging iOS devices, $AAPL | Replies: 1\n",
      "Tweet id: 1090520848480505856 | Date: 2019-01-30 | Time: 03:03:25 | Tweet: “While it was disappointing to miss our revenue guidance, we manage Apple for the long term,” said Apple CEO Tim Cook, “and this quarter’s results demonstrate that the underlying strength of our business runs deep and wide. $AAPL | Replies: 1\n",
      "Tweet id: 1090520846920306688 | Date: 2019-01-30 | Time: 03:03:25 | Tweet: as well as benefiting from gifting of recently debuted iPhone XS and Series 4 Apple Watches. Apple’s revenues were goosed by price increases on almost every new product introduced for the holidays.  $AAPL | Replies: 1\n",
      "Tweet id: 1090520845372583936 | Date: 2019-01-30 | Time: 03:03:25 | Tweet: As for prior-quarter comparisons, Apple always experiences surges during the holiday quarter, which this year saw the release of the iPhone XR, third-generation iPad Pro, Retina MacBook Air, and an upgraded Mac Mini, $AAPL | Replies: 1\n",
      "Tweet id: 1090520842277134336 | Date: 2019-01-30 | Time: 03:03:24 | Tweet: Apple noted that its revenues from everything apart from the iPhone grew by 19 percent, while iPhone revenue was down by 15 percent. $AAPL | Replies: 1\n",
      "Tweet id: 1090520838976221184 | Date: 2019-01-30 | Time: 03:03:23 | Tweet: Looking at revenues rather than unit sales, which Apple is no longer reporting, fiscal Q1 2019’s numbers were generally up over the year-ago quarter. $AAPL | Replies: 1\n",
      "Tweet id: 1090520835838885888 | Date: 2019-01-30 | Time: 03:03:22 | Tweet: In a letter to investors, Apple cited weakening sales in China, an issue subsequently noted by other smartphone makers, as well as fewer iPhone upgrades than expected, $AAPL | Replies: 1\n",
      "Tweet id: 1090520831128715269 | Date: 2019-01-30 | Time: 03:03:21 | Tweet: Thanks to growing sales of iPods, then iPhones, iPads, and related services, Apple continued to achieve record quarterly and annual results on an almost interrupted basis until last year. $AAPL | Replies: 1\n",
      "Tweet id: 1090520829543231489 | Date: 2019-01-30 | Time: 03:03:21 | Tweet: As contrasted with Q1 2018’s record $88.3 billion in revenues, today’s result constitutes Apple’s first year-over-year holiday sales decline since 2001 — the year the company introduced the original iPod. $AAPL | Replies: 1\n",
      "Tweet id: 1090520827924234240 | Date: 2019-01-30 | Time: 03:03:20 | Tweet: Following Apple’s revisions, analysts had projected total revenues in the $84 to $85 billion range.  $AAPL | Replies: 1\n",
      "Tweet id: 1090520824573054976 | Date: 2019-01-30 | Time: 03:03:20 | Tweet: After slashing its fiscal first quarter 2019 earnings forecast earlier this month, Apple today announced quarterly revenues of $84.3 billion, $AAPL | Replies: 1\n",
      "Tweet id: 1090519120330850304 | Date: 2019-01-30 | Time: 02:56:33 | Tweet: ☑#Apple reports a 15% decline in iPhone sales and a 18% increase in services revenue  ☑After-hours trading found $AAPL trading higher after its shares had already been beaten down following fears over China's slowdown   ☑#TimCook appears optimistic about the US-China #tradewar pic.twitter.com/YEFI8IWzMk | Replies: 0\n",
      "Tweet id: 1090512275096559616 | Date: 2019-01-30 | Time: 02:29:21 | Tweet: #GrowthSlowing $AAPL Apple’s iPhone revenue declined 15% year over year to $51.9 billion. The company’s shares rose 6 percent to $163.50 in after-hours trading. They had fallen more than 30 percent since November on concerns about weak iPhone sales.   https://www.reuters.com/article/us-apple-results/apple-services-business-grows-ceo-cook-sees-china-tensions-ease-idUSKCN1PN2WF … | Replies: 1\n",
      "Tweet id: 1090470035477323777 | Date: 2019-01-29 | Time: 23:41:31 | Tweet: @CNBC @MelissaLeeCNBC @petenajarian @jonnajarian It was 1020AM Hawaii and 320 PM NY. I did not bet on AAPL put option.  Apple is dying. I called it Microsoft Moment when Bill Gates left the building.   https://m.youtube.com/watch?v=FcYPxAPCUSY … | Replies: 1\n",
      "Tweet id: 1090466521535729664 | Date: 2019-01-29 | Time: 23:27:33 | Tweet: Sure some will do. But the $aapl brand attracts a higher end clientele as well as teenagers. Honestly, Apple doesn’t have “issues” other than market penetration in China/India and other emerging markets. Fixing iPhone prices is trickier for these markets. | Replies: 1\n",
      "Tweet id: 1090445648082731008 | Date: 2019-01-29 | Time: 22:04:36 | Tweet: Ponzi scheme? At some point music will stop for $AAPL Apple AND $AMZN Amazon   Buy #therealthing #theoneandonly $SNE SONY who owns the content and components music, video,  games,movies, sensors #NIKKEI | Replies: 0\n",
      "Tweet id: 1090433414824685569 | Date: 2019-01-29 | Time: 21:16:00 | Tweet: Or maybe #AAPL could actually #Innovate 💥💥💥 RT@jennablan: APPLE CEO COOK SAYS COMPANY WILL REVERT TO SETTING IPHONES PRICES IN LOCAL CURRENCY IN FOREIGN MARKETS 'IN HOPES OF HELPING THE SALES' THERE - INTERVIEW via @StephenNellis | Replies: 0\n",
      "Tweet id: 1090425147683614720 | Date: 2019-01-29 | Time: 20:43:08 | Tweet: Is he on via $AAPL iPhone FaceTime?  ⚠️ WARNING — Dear #iPhone Users, Turn OFF \"FaceTime\" App Immediately.  A New Apple #FaceTime Privacy Bug Lets Callers Hear and See You Even If You Don't Accept the Call. (It's Unpatched)   https://thehackernews.com/2019/01/apple-?m=1 … | Replies: 0\n",
      "Tweet id: 1090424578680057857 | Date: 2019-01-29 | Time: 20:40:53 | Tweet: Apple banned Facebook’s VPN app: Onavo last year, now we are waiting to hear if Apple will revoke Facebook’s internal use only enterprise certificate for sidestepping the App Store, this could heat up Zuck vs. Cook tensions $FB $AAPL | Replies: 1\n",
      "Tweet id: 1090424069491707904 | Date: 2019-01-29 | Time: 20:38:51 | Tweet: So basically @Apple $AAPL couldn't even beat already lowered earnings which ironically it lowered itself! | Replies: 1\n",
      "Tweet id: 1090410222122864640 | Date: 2019-01-29 | Time: 19:43:50 | Tweet: \"Can\" is different from \"should\". Why buy Tesla when it could buy @zoox, @Ford, and @panasonic for about the same price? Besides, Apple's biggest ever acquisition was just $4 billion (back in 2014). Don't hold your breath for a $50+ billion buyout!  $AAPL $TSLA $TSLAQ $F $PCRFY | Replies: 1\n",
      "Tweet id: 1090403049087090689 | Date: 2019-01-29 | Time: 19:15:20 | Tweet: 11/01/18 AAPL closed 222 01/29/19 AAPL closed 154  So @ 164? Wouldn’t say the Apple shareholder are celebrating 🥳 | Replies: 0\n",
      "Tweet id: 1090401462058856449 | Date: 2019-01-29 | Time: 19:09:01 | Tweet: @jimcramer   Should $AAPL get sued for that spying bug?  Also, China will never support Apple like they once did... That is bad for the company/stock | Replies: 0\n",
      "Tweet id: 1090393015166926848 | Date: 2019-01-29 | Time: 18:35:27 | Tweet: Growth worries; $AAPL obviously remains a great company but where is the growth at Apple’s scale going to come from; iPhone sale down; China sale down; | Replies: 0\n"
     ]
    },
    {
     "name": "stdout",
     "output_type": "stream",
     "text": [
      "Tweet id: 1090392723381764096 | Date: 2019-01-29 | Time: 18:34:18 | Tweet: Cramer: sell those 3% CDs I told you to buy last month, when AAPL was at 145, and buy buy buy Apple in AM, and stick with Cramer! | Replies: 0\n",
      "Tweet id: 1090381563076857856 | Date: 2019-01-29 | Time: 17:49:57 | Tweet: I don’t follow $AAPL too closely but with Hauwei becoming the #2 phone seller worldwide, surpassing Apple it’s no wonder their “sales have slowed in China” | Replies: 0\n",
      "Tweet id: 1090379561639051265 | Date: 2019-01-29 | Time: 17:42:00 | Tweet: Apple has committed to contributing $350 billion to the U.S. over five years beginning in 2018. #aapl 💰 | Replies: 0\n",
      "Tweet id: 1090374962035281921 | Date: 2019-01-29 | Time: 17:23:43 | Tweet: Last but not least Ross again fantasized about $AAPL buying $TSLA for “autonomous cars”.  Never mind that Apple could buy dozens of companies from A like Argo (in case $F agrees) to Z like Zoox - all of them more focused on autonomy AND for a $ valuation at a fraction of Tesla! | Replies: 3\n",
      "Tweet id: 1090374778576297984 | Date: 2019-01-29 | Time: 17:23:00 | Tweet: $AAPL #Apple CEO Tim Cook on the call: \"Apple innovates like no other company on earth. And we are not taking our foot off the gas. We will continue to invest through near term headwinds, just as we always have, and will emerge stronger as a result.\" #TicTocNews | Replies: 0\n",
      "Tweet id: 1090374169982889986 | Date: 2019-01-29 | Time: 17:20:34 | Tweet: Maybe a good thing for iPhone? Cook says Apple's working to roll out the option for hardware installment payments to more geographies. $AAPL | Replies: 0\n",
      "Tweet id: 1090373958262616064 | Date: 2019-01-29 | Time: 17:19:44 | Tweet: $AAPL's @tim_cook: \"Apple innovates like no other company on earth, and we are not taking our foot off the gas\" | Replies: 1\n",
      "Tweet id: 1090373649545285632 | Date: 2019-01-29 | Time: 17:18:30 | Tweet: Cook talking up Apple's work on silicon. Interesting given the spat with @Qualcomm.  $AAPL | Replies: 1\n",
      "Tweet id: 1090373562169315328 | Date: 2019-01-29 | Time: 17:18:10 | Tweet: $AAPL's @tim_cook: Now talking about Apple's lead in silicon. Pointing out how AI is being built into the technology. \"It does all this while keeping personal information private.\"  No mention of FaceTime Bug though while banging the privacy drum. | Replies: 2\n",
      "Tweet id: 1090372550365007876 | Date: 2019-01-29 | Time: 17:14:08 | Tweet: (2/3) These phones are giving Samsung and Apple hard competition for half the money. $AAPL needs to innovate, something lacking since Jobs left. Smart phones seen little innovation the past year (for AAPL and Samsung) and now it's showing in the bottom line. | Replies: 1\n",
      "Tweet id: 1090371434071896064 | Date: 2019-01-29 | Time: 17:09:42 | Tweet: Fast Money trying to talk down $AAPL because mrkt probably won't retest lower without apple leading lower? @jimcramer | Replies: 0\n",
      "Tweet id: 1090371222855069696 | Date: 2019-01-29 | Time: 17:08:52 | Tweet: Interesting on ASPs.  iPhone ASP in #India $633 Compared With $125 ASP For a Smartphone... @Bloomberg Senior analyst @John_Butler25 says more broadly: Apple hit a wall \"pretty hard\" on pricing $AAPL #Apple #TicTocNews | Replies: 1\n",
      "Tweet id: 1090370407176302594 | Date: 2019-01-29 | Time: 17:05:37 | Tweet: Kurs Apple $AAPL w notowaniach after-hours +3,70%. | Replies: 1\n",
      "Tweet id: 1090368524760035329 | Date: 2019-01-29 | Time: 16:58:09 | Tweet: Apple is selling less iPhones and is struggling, especially in the Chinese market It will consider different pricing outside of the US to ramp up sales, but will obviously impact profit margins. #Apple $AAPL #AAPL #Earnings #Stocks #Investing #Trading #Market | Replies: 0\n",
      "Tweet id: 1090367460803375104 | Date: 2019-01-29 | Time: 16:53:55 | Tweet: $AAPL's game tape suggests that a big acquisition people seem to think \"should\" happen won't be happening. Apple's said over and over the goal is net-cash neutral and it's been working towards this through its buyback program and dividends. | Replies: 0\n",
      "Tweet id: 1090366891720208384 | Date: 2019-01-29 | Time: 16:51:39 | Tweet: 2 years ago, $AAPL projected tax rate of 26%; today, 17% or 9% less tax revenue. Apple guidance for fiscal 2017 2d quarter: revenue  $51.5-$53.5 billion gross margin between 38-39 % operating expenses between $6.5-$6.6 billionother income/(expense) of $400 million tax rate of 26% | Replies: 0\n",
      "Tweet id: 1090366735096709121 | Date: 2019-01-29 | Time: 16:51:02 | Tweet: MORE: $AAPL says revenue from services - including Apple Music, the App Store and others - reached $10.8 billion, in line with Wall Street estimates  https://reut.rs/2Ge6hES  pic.twitter.com/PUFW1MmriR | Replies: 1\n",
      "Tweet id: 1090366450932506624 | Date: 2019-01-29 | Time: 16:49:54 | Tweet: Good point from @markgurman - iPhone was only product segment to see YoY rev. decline. All other product segments saw growth - the iPad segment saw rev growth of ~$1 billion #TicTocNews $AAPL #Apple | Replies: 1\n",
      "Tweet id: 1090365611522359297 | Date: 2019-01-29 | Time: 16:46:34 | Tweet: Apple's $AAPL China revenue was down 27%. | Replies: 0\n",
      "Tweet id: 1090365354516332544 | Date: 2019-01-29 | Time: 16:45:33 | Tweet: MORE: Apple reports that quarterly revenue from iPhone declined 15 percent from prior year  https://reut.rs/2Ge6hES  $AAPL  pic.twitter.com/wGtiOxjrVX | Replies: 3\n",
      "Tweet id: 1090364841657860096 | Date: 2019-01-29 | Time: 16:43:30 | Tweet: #Apple gross margin in its Services segment was a whopping 62.8% -- much higher than the 38% margin for its iPhone business. Bodes well for a future in which Services make up a bigger % of $AAPL's business. | Replies: 1\n",
      "Tweet id: 1090363841492455425 | Date: 2019-01-29 | Time: 16:39:32 | Tweet: @realmoney I shorted (small) Apple after the earnings report (basically in line with revised forecast and guide) at $159.75 Also, I put out some QQQ on the short side at $162.32.  $AAPL $QQQ | Replies: 1\n",
      "Tweet id: 1090363693882376197 | Date: 2019-01-29 | Time: 16:38:57 | Tweet: MORE: Apple forecasts revenue between $55 billion and $59 billion for the current quarter ending in March compared with analysts' average estimate of $58.83 billion  https://reut.rs/2DIpPzK  $AAPL  pic.twitter.com/A22YOk5Miv | Replies: 2\n",
      "Tweet id: 1090360463680884736 | Date: 2019-01-29 | Time: 16:26:07 | Tweet: That's why I was always skeptical about an AAPL bug bounty: Apple can't even manage the bugs filed by engineers, forget external reports. | Replies: 0\n",
      "Tweet id: 1090352409749053440 | Date: 2019-01-29 | Time: 15:54:06 | Tweet: You're right busy week. Good eye on the $AAPL calls. After a decade of Apple guiding low before earnings can't help thinking maybe this time Tim \"under\" sandbagged. Risk/Reward though like it. | Replies: 0\n",
      "Tweet id: 1090351666962980864 | Date: 2019-01-29 | Time: 15:51:09 | Tweet: Apple has already pre-announced a revenue miss, and $AAPL took the hit for that. There is still plenty of intrigue left in this report, tho.  https://on.mktw.net/2Ws3td7  | Replies: 1\n",
      "Tweet id: 1090332117001752576 | Date: 2019-01-29 | Time: 14:33:28 | Tweet: Apple fans : aNDrOid iS LEsS seCuRE tHaT's whY we ChoOsE AAPL | Replies: 1\n",
      "Tweet id: 1090331069000400896 | Date: 2019-01-29 | Time: 14:29:18 | Tweet: #TechnicalAnalysis #Apple hourly chart $aapl > a Bear/Bull fight ... 🤔  pic.twitter.com/IGImN4MNyc | Replies: 1\n",
      "Tweet id: 1090291830342615040 | Date: 2019-01-29 | Time: 11:53:23 | Tweet: Like this chart from @acinko... The media may be obsessed with  $AAPL #Apple, but investors are moving on. There are other #tech and communications #stocks out there, and they're bucking #iPhone maker's downward trend. G 326921 on @TheTerminal pic.twitter.com/iChBlVvQEa | Replies: 0\n",
      "Tweet id: 1090289435218980864 | Date: 2019-01-29 | Time: 11:43:52 | Tweet: $AAPL #Apple preview from @markgurman @jwittenstein https://www.bloomberg.com/news/articles/2019-01-29/apple-s-next-forecast-will-likely-show-sales-are-still-falling?srnd=technology-vp … | Replies: 1\n",
      "Tweet id: 1090263727847366657 | Date: 2019-01-29 | Time: 10:01:43 | Tweet: If I had the money, it would be buy buy buy. I’d love to increase my position in AAPL while it’s depressed. In 5 years time, how many players will be left in high dollar content streaming business? I don’t know either, but I’m 100% Apple will be one of them & at top of revenue. | Replies: 0\n",
      "Tweet id: 1090260655809155072 | Date: 2019-01-29 | Time: 09:49:31 | Tweet: Apple and Aetna. $AAPL  https://www.cnbc.com/2019/01/28/apple-aetna-team-up-on-attain-health-tracking-app.html … | Replies: 1\n",
      "Tweet id: 1090249789248290817 | Date: 2019-01-29 | Time: 09:06:20 | Tweet: Apple-Facetime-security-breach-story-on-Earnings-day?  $AAPL  Smells-fishy, Like-Shorts-paid-Reporters-to-wait-until-last-night-to-release-it  #Rigged @tim_cook @NotaBubble @VendbienJon @daesr1 @7wtc | Replies: 1\n",
      "Tweet id: 1090221243373142017 | Date: 2019-01-29 | Time: 07:12:54 | Tweet: Apples to oranges... $AAPL trading volume was north of ~$2.0 trillion last year compared to ~$1.12 trillion in adjusted tx volume for $BTC almost all of which was some derivation of trading (e.g., @BitPay saw $1.0bn in tx in 2018). | Replies: 1\n",
      "Tweet id: 1090184706530787330 | Date: 2019-01-29 | Time: 04:47:43 | Tweet: @AppleSupport $AAPL Can Apple create a sloth emoji? It could really help many users like me with self-expression or be used to accurately describe DMV wait times. | Replies: 0\n"
     ]
    },
    {
     "name": "stdout",
     "output_type": "stream",
     "text": [
      "Tweet id: 1090135284505894912 | Date: 2019-01-29 | Time: 01:31:20 | Tweet: #Apple's #Earnings : preview $aapl  >    https://www.marketwatch.com/story/apple-earnings-where-does-apple-go-from-here-2019-01-25 … | Replies: 1\n",
      "Tweet id: 1090106646250975234 | Date: 2019-01-28 | Time: 23:37:32 | Tweet: The $AAPL fans asked for new features and I guess Apple delivered. #Innovation | Replies: 0\n",
      "Tweet id: 1090004408430223363 | Date: 2019-01-28 | Time: 16:51:16 | Tweet: I think tomorrow with $aapl guide is key for $LITE....could be make or break.  $LITE seems tied tightly with apple even though 3D is a <25% | Replies: 2\n",
      "Tweet id: 1089999641964437505 | Date: 2019-01-28 | Time: 16:32:20 | Tweet: @CNBC is outright projecting that $AAPL $MSFT $AMZN $AMD and others reporting this week will disappoint and report dire forecasts for upcoming QTRs.  Stocks could be in for a sharper decline as Apple and other big tech firms report  https://cnb.cx/2Wt3T38  | Replies: 1\n",
      "Tweet id: 1089963112210579457 | Date: 2019-01-28 | Time: 14:07:11 | Tweet: Will Apple throw a curve ball? $AAPL $GOOG $FB https://www.fastcompany.com/90297662/nows-the-perfect-time-for-apple-to-bring-messages-to-android?utm_source=postup&utm_medium=email&utm_campaign=Fast%20Company%20Daily&position=7&partner=newsletter&campaign_date=01282019 … | Replies: 0\n",
      "Tweet id: 1089931900582543360 | Date: 2019-01-28 | Time: 12:03:09 | Tweet: The lack of innovation in aapl is amazing. They wait for google/Samsung to release something. If it works Apple says it’s new when they do to. It’s not Bluetooth, it’s apples W1 chip. Stupid. | Replies: 0\n",
      "Tweet id: 1089910661499535361 | Date: 2019-01-28 | Time: 10:38:45 | Tweet: I read this piece & thought it was too harsh on $AAPL. You need to look way beyond 5 yrs to see how resilient this stock is. Apple has the best hardware and no real competition (Samsung = exploding batteries). It can monetise this with services and new products. PE ratio just 12. | Replies: 0\n",
      "Tweet id: 1089897295372582914 | Date: 2019-01-28 | Time: 09:45:39 | Tweet: Thinking-Another-$20-30-after-the-earnings?  Mistake-to-pre-announce-today Now-you-get-the-double-whammy  Same-with-Apple $AAPL $NVDA | Replies: 0\n",
      "Tweet id: 1089890602127306753 | Date: 2019-01-28 | Time: 09:19:03 | Tweet: Dips like this could happen again. 🧐🧐 #Earnings #Amazon $AMZN, #Apple $AAPL, #AMD $AMD, #Facebook $FB, #Microsoft⁠ ⁠⁠ ⁠ $MSFT, #Alibaba $BABA, #Tesla $TSLA, #Caterpillar $CAT, #GeneralElectric $GE, #Boeing #BA.  #Stocks #StockMarket #EarningsWeek #WallStreet #Finance pic.twitter.com/WfG1MHu0r1 | Replies: 0\n",
      "Tweet id: 1089890341166112773 | Date: 2019-01-28 | Time: 09:18:01 | Tweet: Who sold #Bitcoin to buy the dip in stocks? Earnings for the week. #Amazon $AMZN, #Apple $AAPL, #AMD $AMD, #Facebook $FB, #Microsoft⁠ ⁠⁠ ⁠ $MSFT, #Alibaba $BABA, #Tesla $TSLA, #Caterpillar $CAT, #GeneralElectric $GE, #Boeing #BA #StockMarket #EarningsWeek #WallStreet | Replies: 0\n",
      "Tweet id: 1089886871679913984 | Date: 2019-01-28 | Time: 09:04:13 | Tweet: Final point: the Apple walled garden is not so walled. My sons switched to Android in 20 minutes and prefer Google assistant and best of breed storage. If this becomes trend then $aapl will be challenged. | Replies: 0\n",
      "Tweet id: 1089877900483063809 | Date: 2019-01-28 | Time: 08:28:35 | Tweet: Apple cut with precision like a surgeon to fix the part that is broken.  Tesla took a knife like a butcher and cut across many teams and disciplines.  Not quite the same thing.  $TSLA $AAPL | Replies: 0\n",
      "Tweet id: 1089758425653772288 | Date: 2019-01-28 | Time: 00:33:50 | Tweet: (5)>> #Zip95014 |  #AdministrativeContact: Counsel - #Trademark, #Copyright and #Domains Apple #1InfiniteLoop #CupertinoCA #Zip95014, ngtld-apple@cscglobal.com || ( @AppleInc_AAPL @AppleNews @appleinc_update )  Technical Contact:  Senior Director, #DNSinfrastructure Group, >>6) | Replies: 1\n",
      "Tweet id: 1089686453393723392 | Date: 2019-01-27 | Time: 19:47:50 | Tweet: @DowJones @barronsonline mentioned $AAPL 156 7 times this weekend, all bearish. Their @WSJ heard on the street column, also bearish on $AAPL  This ahead Apple earnings this Tuesday   @jimcramer pic.twitter.com/QqRtuRPRkE | Replies: 0\n",
      "Tweet id: 1089635769524936709 | Date: 2019-01-27 | Time: 16:26:26 | Tweet: According to this, I’m ruling out Tesla $TSLA Herbalife $HLF Apple $AAPL Facebook $FB United Airlines $UAL | Replies: 0\n",
      "Tweet id: 1089592227855245312 | Date: 2019-01-27 | Time: 13:33:25 | Tweet: Not to dispute your larger point, but I bot the first version of the IPad only to find Apple stopped updating its software just a few years later. Won’t buy another. Own other aapl produce tho. But software just as key, so product life less definable up front. | Replies: 0\n",
      "Tweet id: 1089563231083999232 | Date: 2019-01-27 | Time: 11:38:12 | Tweet: I’ve had to upgrade. They are amazingly better after waiting a few years. #ipad $aapl #apple | Replies: 0\n",
      "Tweet id: 1089557538356580352 | Date: 2019-01-27 | Time: 11:15:34 | Tweet: @jimcramer Hey  Jim. Big fan of you. Watching ur show . Big fan off# AAPL as well.   Had some investment in Apple stocks. Wanted to buy more. Do u think should I wait till earning on Jan 30th. What's bottom price for apple. | Replies: 0\n",
      "Tweet id: 1089547296436568065 | Date: 2019-01-27 | Time: 10:34:52 | Tweet: AAPL is planning to grow through its up-incoming service sector.  With Apple Care, ApplePay, and the App Store they saw a 31% jump in revenues in the last calendar year . It is expected to only go up from here as they are not only putting resources into iPhone upgrades #Fin2209 | Replies: 0\n",
      "Tweet id: 1089511299883634688 | Date: 2019-01-27 | Time: 08:11:50 | Tweet: The days when Apple invented things people would crave. The Steve Jobs days. The distant past. $aapl | Replies: 1\n",
      "Tweet id: 1089421515257466880 | Date: 2019-01-27 | Time: 02:15:04 | Tweet: While not all Cryptocurrencies are alike, BITCOIN that lacks technological applications (used only for savings) it is the leader and moves the entire Market, like APPLE $AAPL moves the US market and perhaps others.  We will concentrate on TOP 6, today they are all down, max 2%. | Replies: 1\n",
      "Tweet id: 1089403465711915008 | Date: 2019-01-27 | Time: 01:03:21 | Tweet: @AppleInc_AAPL @AppleSupport Dear Apple.  When Jobs died did your innovation die with him? Wtf?  Siri still is worthless and even the XR is a dinosaur compared to the Galaxy.  This might be my last iPhone.  #innovate #iloveAlexa #sirineedshelp | Replies: 0\n",
      "Tweet id: 1089375550345494528 | Date: 2019-01-26 | Time: 23:12:25 | Tweet: Aapl will go up 10% and hold it next week long Apple | Replies: 0\n",
      "Tweet id: 1089365098165096454 | Date: 2019-01-26 | Time: 22:30:53 | Tweet: @tim_cook @AppleSupport My dad had a AFib yesterday and it was detected by my Apple Watch.  Our Cardiologist was glad I took him immediately.  A billion Thanx to Apple and the developer community who made it happen.  It’s a JOKE if people think Innovation is not happening at AAPL | Replies: 0\n",
      "Tweet id: 1089231002919145472 | Date: 2019-01-26 | Time: 13:38:02 | Tweet: Welp, someone has to pay for that parabolic blowoff top. 😅 #Apple $AAPL #Hyperwave 📉 pic.twitter.com/VV7zDEtnaN | Replies: 1\n",
      "Tweet id: 1089197982732435456 | Date: 2019-01-26 | Time: 11:26:50 | Tweet: Apple to a stockbroker could be either aapl or appl | Replies: 1\n",
      "Tweet id: 1088967855553609728 | Date: 2019-01-25 | Time: 20:12:23 | Tweet: For all you $AAPL nuts out there, that means that *if* apple will be making their next gen phone chips at TSMC this year, it will use roughly the same process, meaning the chips should be cheaper to make. | Replies: 1\n",
      "Tweet id: 1088900541617442816 | Date: 2019-01-25 | Time: 15:44:54 | Tweet: I don’t think so. I don’t think $AAPL want payment company , they already have their own Apple Pay system . They would better spend money in a company like $BEAT . $SQ BO should be minimum 45bn . They won’t spend that money . | Replies: 0\n",
      "Tweet id: 1088888004490465280 | Date: 2019-01-25 | Time: 14:55:05 | Tweet: Alway$aapl to the rescue, or to add to the fire. The thing is, Apple doesn’t need $sq technology for its payment ecosystem to go after$pypl. It can work out a better deal with the banks to push its Apple Pay. | Replies: 0\n",
      "Tweet id: 1088841963607085056 | Date: 2019-01-25 | Time: 11:52:08 | Tweet: @ReformedBroker @terranovajoe @HalftimeReport AAPL: Buy Apple ahead of priced-in earnings, says Morgan Stanley - Algo to UPSIDE b/c it in like 50 ETFS?? | Replies: 0\n",
      "Tweet id: 1088840455968694272 | Date: 2019-01-25 | Time: 11:46:09 | Tweet: @jimcramer @carlquintanilla AAPL: Buy Apple ahead of priced-in earnings, says Morgan Stanley??? WOW that could cause a massive buy program to come in? | Replies: 0\n"
     ]
    },
    {
     "name": "stdout",
     "output_type": "stream",
     "text": [
      "Tweet id: 1088829171298652162 | Date: 2019-01-25 | Time: 11:01:18 | Tweet: In fact apples half assed effort in streaming and autonomous cars as well as IOT has been a huge advantage for Netflix Tesla and amazon. $aapl $tsla $nflx $amzn | Replies: 0\n",
      "Tweet id: 1088828814434684929 | Date: 2019-01-25 | Time: 10:59:53 | Tweet: What I’ve always thought. Apple will lot have a self driving program. Fields and his team is way behind google and Tesla. If Apple doesn’t get involved with Tesla and get on their screen. They will lose out big. $aapl $tsla $goog | Replies: 0\n",
      "Tweet id: 1088807356929138691 | Date: 2019-01-25 | Time: 09:34:37 | Tweet: Hey Cramer>>> $aapl Morgan Stanley: Buy Apple now before earnings next week because the bad news is already in the stock  https://finance.yahoo.com/news/morgan-stanley-buy-apple-now-132350882.html?soc_src=social-sh&soc_trk=tw … via @YahooFinance | Replies: 0\n",
      "Tweet id: 1088768890065301505 | Date: 2019-01-25 | Time: 07:01:46 | Tweet: #Apple as of now is another Yahoo in the making. They better make some major changes to business right now to avoid a catastrophe.  $AAPL | Replies: 0\n",
      "Tweet id: 1088737834616315904 | Date: 2019-01-25 | Time: 04:58:22 | Tweet: What Sparky @Imkingjon doesn’t understand is AAPL is NO longer an iPhone business with iMacs, iPads, etc. thrown in. Services is taking off and Apple Watch potential is limitless. $150s is a steal for a 50% + return just to ATH!! | Replies: 0\n",
      "Tweet id: 1088711326787035137 | Date: 2019-01-25 | Time: 03:13:02 | Tweet: A.) go back and read DED’s other articles. B.) go read any other Apple bull thesis to understand what you’re missing. TL:DR;? AAPL provides an experience that cannot be replicated by any other company for any better price without significant additional effort from the customer. | Replies: 0\n",
      "Tweet id: 1088660138783731712 | Date: 2019-01-24 | Time: 23:49:38 | Tweet: I don’t hate Apple. It’s you trying to pump is what I hate. They already said forecast on sales will be low so besides their simplicity, what are to trying to tell everyone? Buy it? $aapl will get slaughtered when the new flip phone razor comes out this year. | Replies: 3\n",
      "Tweet id: 1088585969849241600 | Date: 2019-01-24 | Time: 18:54:54 | Tweet: I’m but not an $AAPL hater, for years Apple extracted excess rent from consumers & Apple lemmings, now Cupertino finally recognizes there’s limit to what us lemmings are willing to pay! | Replies: 0\n",
      "Tweet id: 1088582822212845568 | Date: 2019-01-24 | Time: 18:42:24 | Tweet: Isn't it interesting how moats can be under threat? This is exactly same issue with apple. Their products are so good ( disclosure - shareholder and pdt owner) that there is no desire to replace them. on 2010 iMac and macbook pro. 2011 ipad, and mini.  A big challenge for $AAPL | Replies: 0\n",
      "Tweet id: 1088558093515063297 | Date: 2019-01-24 | Time: 17:04:08 | Tweet: Been thinking about longer refresh cycles lately.  Most people I know putting off upgrading $AAPL phones... why?  Price.  Apple has completely maxed out price and it’s really elongating the cycle now. | Replies: 1\n",
      "Tweet id: 1088512976104185856 | Date: 2019-01-24 | Time: 14:04:51 | Tweet: Hate Apple or $AAPL? | Replies: 0\n",
      "Tweet id: 1088472981666521088 | Date: 2019-01-24 | Time: 11:25:56 | Tweet: $AAPL Daily: #AAPL did not even make it to 160. Back below BC with 13MA rolling over.  If 13MA crosses BC bearish, would be extremely bad for the Darling of the Dow.  New lows coming <140 if 13MA recrosses 😨 #APPLE #Tech #Technology pic.twitter.com/9mtwLGfdrC | Replies: 2\n",
      "Tweet id: 1088468685881311233 | Date: 2019-01-24 | Time: 11:08:52 | Tweet: Be smarter, $aapl played with your loyalty. Thinking that their loyal customers will upgrade no matter how high the price is. BAD Apple | Replies: 0\n",
      "Tweet id: 1088463529261309953 | Date: 2019-01-24 | Time: 10:48:22 | Tweet: I’d be curious to see how $AAPL would react to such a change. Some may worry Elon is too loose to handle that much capital, but in reality that is what Apple needs if they want to start innovating again. They need to invest their money into the future again. | Replies: 1\n",
      "Tweet id: 1088461029015674880 | Date: 2019-01-24 | Time: 10:38:26 | Tweet: Still chump change to be fair. $40B what? 4% of Apple's market cap, and just 16% of their cash reserves? A 'merger' may also be possible with $AAPL shares given in exchange for $TSLA. But I seriously doubt this. A fantasy if you ask me. | Replies: 1\n",
      "Tweet id: 1088451015517466631 | Date: 2019-01-24 | Time: 09:58:39 | Tweet: Incredible how offended you are with a representative of a pink sheet company misspelling and poor grammar. You’re at the bottom for a reason. Apple’s ticker symbol is $AAPL | Replies: 1\n",
      "Tweet id: 1088442798825562116 | Date: 2019-01-24 | Time: 09:26:00 | Tweet: $AAPL has the cheaper line of phones, helping to capture users into the infrastructure, Apple also has the expensive high end versions XS, XS Max, ensuring the luxury market still feel distinguished using the most expensive, unique in appearance; setting them apart from others. | Replies: 0\n",
      "Tweet id: 1088437201908785157 | Date: 2019-01-24 | Time: 09:03:45 | Tweet: How many folks are chasing this, and Apple's not even in the race it seems. Maybe finally some capital discipline from $AAPL. Their R&D expense has almost doubled since 2015! | Replies: 1\n",
      "Tweet id: 1088404377965080576 | Date: 2019-01-24 | Time: 06:53:19 | Tweet: I was 31 and diagnosed with heart failure, I literally teared up with hope when Apple Launched the first watch and again with the EKG launch, people w/o health issues don’t get it.... still think the stock goes lower before higher $aapl | Replies: 0\n",
      "Tweet id: 1088402492155707392 | Date: 2019-01-24 | Time: 06:45:50 | Tweet: \"There's always a bull market somewhere\" Opening line from @MadMoneyOnCNBC .  \"Own Apple, don't trade it\"  Jim Cramer when $AAPL was at $233, and all the way down.    \"I do my homework\" 'Its not about technical analysis, its a craft'  Etc, etc......  pic.twitter.com/qd0oaTZA8h | Replies: 0\n",
      "Tweet id: 1088379932198092800 | Date: 2019-01-24 | Time: 05:16:11 | Tweet: There's a common misconception $AAPL needs to have a cheaper lineup. The right way to look at Apple in China is as a luxury good. Cheapen the brand and it instantly loses its aspirational appeal / brand equity.   https://jingdaily.com/chinese-millionaires-gifts/?utm_source=Jing+Daily+Subscriber+List&utm_campaign=434ec91067-EMAIL_CAMPAIGN_2017_09_13_COPY_01&utm_medium=email&utm_term=0_8dec01cd8d-434ec91067-408010837 … pic.twitter.com/QcWqb9XWen | Replies: 0\n",
      "Tweet id: 1088375681401147392 | Date: 2019-01-24 | Time: 04:59:18 | Tweet: Its you Jim.Incessantly mentioning Apple all day, everyday, along with the cast at @CNBC, also +++ times/day. Your interview with Cook was a lovefest joke. You made a bad call on $AAPL at $233 because you didn't do your homework. You can access your Epic record now on any phone.  pic.twitter.com/3h98lRWdKz | Replies: 0\n",
      "Tweet id: 1088343097333837825 | Date: 2019-01-24 | Time: 02:49:49 | Tweet: @Forbes so I’m starting to think that you guys are shorting $AAPL... you NEVER have a good thing to say about Apple. It might actually have some validity if you were slightly less bias. Maybe in the future try telling both sides ... Just saying #whatajoke | Replies: 0\n",
      "Tweet id: 1088339975496744960 | Date: 2019-01-24 | Time: 02:37:25 | Tweet: If apple just sold autonomous driving software or software to manage robo taxi fleets they could get the high margin there, but pure sw doesn’t really seem aapl either, and doubt they can make it work without lots of cars driving around to test with | Replies: 1\n",
      "Tweet id: 1088318392824750080 | Date: 2019-01-24 | Time: 01:11:39 | Tweet: @Apple just dismissed more than 200 employees from #ProjectTitan, its #autonomousvehicle group -  https://www.cnbc.com/2019/01/24/apple-lays-off-over-200-from-project-titan-autonomous-vehicle-group.html … $AAPL #NYC | Replies: 0\n",
      "Tweet id: 1088254616196837384 | Date: 2019-01-23 | Time: 20:58:13 | Tweet: Tencent isn't going to \"war\" with AAPL. Mini-programs are for short-tail applications (quick tasks); you still need to download the full app for proper functionality. Besides, AAPL is at Tencent's mercy in China (authorities/consumers support big 3 over Apple anyday). | Replies: 1\n",
      "Tweet id: 1088241173892919297 | Date: 2019-01-23 | Time: 20:04:49 | Tweet: If that’s the path Cook wants to take $AAPL, Epic almost has to sell or face annihilation in the event apple create in their own or team up with someone else. Good Luck Judith Faulkner. | Replies: 0\n",
      "Tweet id: 1088239983331287040 | Date: 2019-01-23 | Time: 20:00:05 | Tweet: They will annihilate the Cramer (\"You own Apple you don't trade it\") buy and hold folks. Just think $AAPL was the biggest stock in the world just 2-3 months ago.  Every retirement fund, index fund was massively invested intros scam. Then they dumped it on retail. Massively | Replies: 2\n",
      "Tweet id: 1088139781169664000 | Date: 2019-01-23 | Time: 13:21:55 | Tweet: Just bought some $aapl calls as well because the $spx bounced off its 50day MA two days in a row.  If it closes below, I will probably dump the apple calls. | Replies: 0\n",
      "Tweet id: 1088123589981810689 | Date: 2019-01-23 | Time: 12:17:34 | Tweet: @netflix is suspending subscriptions through @iTunes as they raise prices - what impact will this have on Netflix & #Apple revenue over time? Read our latest blog to learn more:  https://1010data.com/company/blog/nflxs-benefit-is-aapls-loss/?utm_source=twitter&utm_medium=social … #NFLX #AAPL  pic.twitter.com/PqKxyseKq0 | Replies: 0\n"
     ]
    },
    {
     "name": "stdout",
     "output_type": "stream",
     "text": [
      "Tweet id: 1088089399982768131 | Date: 2019-01-23 | Time: 10:01:43 | Tweet: @jimcramer @davidfaber When you give data points on $aapl and possible health benefit apps, please quantify if numbers are per #apple market share of smart phones mkt. I own ZERO apple products yet still placed this tweet. I do own the stock.Thanks. | Replies: 0\n",
      "Tweet id: 1088056914951458818 | Date: 2019-01-23 | Time: 07:52:38 | Tweet: Jim, people who say #Apple isn’t innovating need to give up their current phones and go back to using an iPhone 4.    The hardware & software have come so far. Many people don’t realize the A12 Bionic outperforms some desktop chips.   The industry mimics Apple designs too $AAPL | Replies: 0\n",
      "Tweet id: 1088044079869509633 | Date: 2019-01-23 | Time: 07:01:38 | Tweet: Not puzzling, $AAPL lost innovation to pancreatic cancer, Cook is aggressive business, Jobs was both. Apple better figure it out soon and  do the homework regarding direction of tech and what educated next Gen will take, ie no +$1000 phones in India lol   https://twitter.com/hogstatjur/status/711234679609942017 … | Replies: 0\n",
      "Tweet id: 1088043919613616129 | Date: 2019-01-23 | Time: 07:00:59 | Tweet: iPhone camera is always behind Samsung. iOS is bug ridden. Battery life sucks. No memory card capabilities in any #Apple product. Dual sim phones are 5 years late.  Users Cannot stop iPhone joining networks on its own.  So, where’s “innovation”?  And, that car project?  $AAPL | Replies: 1\n",
      "Tweet id: 1088036965247782912 | Date: 2019-01-23 | Time: 06:33:21 | Tweet: More details here, still on track for #Apple . Everyone is gonna be rekkkkkttt :D  #AAPL  pic.twitter.com/GwBa99urzO | Replies: 0\n",
      "Tweet id: 1088036696447438848 | Date: 2019-01-23 | Time: 06:32:17 | Tweet: In this whole innovation discussion, I feel that semiconductor companies should get more credit.  Their pace of innovation fuels Apple and others $SOXX $SMH $AAPL | Replies: 0\n",
      "Tweet id: 1088028530791739398 | Date: 2019-01-23 | Time: 05:59:50 | Tweet: Just like Microsoft used to be, now Apple is seen as the big bad tech company that is dominating the world.  I'm with you Jim, I think AAPL is a buy and hold proposition. | Replies: 1\n",
      "Tweet id: 1088025135142129664 | Date: 2019-01-23 | Time: 05:46:21 | Tweet: Apple-should-Buy-Tesla, not-the-Stock-back  Install-Musk-as-CEO, then-Cook-can-be-COO-again  and-maybe-get-enough-earpods-manufactured-for everyone-that-wants-them  Still-waiting-for- $AAPL-TV-service-that-rivals-Prime-Netflix-and-Cable-companies  @GerberKawasaki $TSLA $AAPL | Replies: 0\n",
      "Tweet id: 1088024314736193536 | Date: 2019-01-23 | Time: 05:43:05 | Tweet: Then, AAPL will no longer be apple | Replies: 0\n",
      "Tweet id: 1087917510534615042 | Date: 2019-01-22 | Time: 22:38:41 | Tweet: $tsla and $amzn are a good combo alongside to Apple to keep as long term investments the key to innovation is cash always keep that in the back of your mind which companies have the largest freed up cash it's usually a hint for future innovation which would favor $aapl | Replies: 0\n",
      "Tweet id: 1087855349263151104 | Date: 2019-01-22 | Time: 18:31:41 | Tweet: Get ready for the #Olympics #Tokyo2020 $SNE #Sony will be closer to $AAPL Apple Market cap and $RKUNY #Rakuten closer to $AMZN Amazon so much unjustified distortion in the market $MS $BAC $LUK $DB $RJF $FB $NFLX $GOOG $GOOGL $ONLN $MAT $BABA $JPM $WMT $JPM pic.twitter.com/dMizcvg71s | Replies: 0\n",
      "Tweet id: 1087855310734311425 | Date: 2019-01-22 | Time: 18:31:32 | Tweet: Get ready for the #Olympics #Tokyo2020 $SNE #Sony will be closer to $AAPL Apple Market cap and $RKUNY #Rakuten closer to $AMZN Amazon so much unjustified distortion in the market $MS $BAC $LUK $DB $RJF $FB $NFLX $GOOG $GOOGL $ONLN $MAT $BABA $JPM $WMT $JPM pic.twitter.com/dMizcvg71s | Replies: 0\n",
      "Tweet id: 1087845166386278401 | Date: 2019-01-22 | Time: 17:51:13 | Tweet: $msft innovates a hell of a lot more than $aapl. Their surface pro with the dial blows away anything Apple ever did | Replies: 0\n",
      "Tweet id: 1087788762942312448 | Date: 2019-01-22 | Time: 14:07:05 | Tweet: Srsly tho - that’s what $AAPL lost when Steve died. He was Apple’s Marie K. Sparking joy was what Apple products did (intentionally past tense). | Replies: 1\n",
      "Tweet id: 1087788156651491334 | Date: 2019-01-22 | Time: 14:04:41 | Tweet: @CNBCExchange @KellyEvansCNBC $AAPL could have purchased ALL 3 — $NFLX, $DISH, DirectTV — When Icahn made Apple split the stock 10 for 1 and provide dividend.   Can you imagine if they had taken my suggestion versus listening to Greedy Icahn.  Global TV with satellites!! | Replies: 0\n",
      "Tweet id: 1087774747432226817 | Date: 2019-01-22 | Time: 13:11:24 | Tweet: 1. $AAPL doesn't innovate, it perfects existing tech to the point of artful zen 2. If Buffet didn't buy $45B worth of apple we wouldn't have seen $230 3. It is likely that the stock will go down on earnings 4. Cook's verbose PR isn't fooling the technicians or algorithm traders | Replies: 0\n",
      "Tweet id: 1087770956142166016 | Date: 2019-01-22 | Time: 12:56:20 | Tweet: ApplePay is Apple's only hope on coming back to the Trillion $ market cap, since Cook is not innovative & his product lines going down. What #Apple should do is to sell an iPhone at half price to dominate the market & get everyone to use #aaplepay. it'll be like $aapl + Visa | Replies: 0\n",
      "Tweet id: 1087767146883477504 | Date: 2019-01-22 | Time: 12:41:12 | Tweet: @AppleInc_AAPL starts selling Macs in @Costco. Does that mean Apple is going down and tries to get sales up in all channels now? #Apple | Replies: 0\n",
      "Tweet id: 1087761282047111173 | Date: 2019-01-22 | Time: 12:17:53 | Tweet: Don’t forget about headphones with no wires-truly amazing inside the paper bag thinking. FYI-I own mucho AAPL stock and at least 18 Apple products. I have kids-we love Apple -just think the “black turtle neck” genius is sadly gone from the company ethos. Waiting on red ear buds | Replies: 0\n",
      "Tweet id: 1087759934563987456 | Date: 2019-01-22 | Time: 12:12:32 | Tweet: Totally agree with you on $AAPL and innovation (the definition of which most people don’t understand anyway), but healthcare is also low hanging fruit. Apple is into advanced R&D on at least 8 or 10 other transformative fronts. | Replies: 0\n",
      "Tweet id: 1087748701802713088 | Date: 2019-01-22 | Time: 11:27:54 | Tweet: Apple an innovator? I think you may be stuck in the late 2000s when the first iPhones were coming out! Many words to describe $AAPL these days and I would not list “innovator” as one of them. | Replies: 2\n",
      "Tweet id: 1087744899196297216 | Date: 2019-01-22 | Time: 11:12:47 | Tweet: Only and Only AAPL,, Face Id, EKG On Watch, 3 D Touch, Apple Pencil,,, Retina Display,, Sleep etc functionality on iOS | Replies: 0\n",
      "Tweet id: 1087734392380948481 | Date: 2019-01-22 | Time: 10:31:02 | Tweet: \"With the addition of these retailers, 74 of the top 100 merchants in the US and 65 percent of all retail locations across the country will support Apple Pay.\" $AAPL | Replies: 0\n",
      "Tweet id: 1087729815443197952 | Date: 2019-01-22 | Time: 10:12:51 | Tweet: Hold until you innovate. People can go 6 months without a new iPhone. After this past year, I can guarantee you people will. $AAPL #AAPL #iPhone #Apple #stockstowatch #StockMarketNews | Replies: 0\n",
      "Tweet id: 1087707825445441536 | Date: 2019-01-22 | Time: 08:45:28 | Tweet: $aapl does so much more than consumer facing products. Their chip designs and other hardware innovations is impressive. Who makes their own silicon? Don’t get me wrong, I don’t understand why @apple doesn’t come out with a product line that no one can touch (Mac). @jimcramer | Replies: 0\n",
      "Tweet id: 1087704035300425729 | Date: 2019-01-22 | Time: 08:30:25 | Tweet: I love AAPL.  Own a ton of AAPL stuff and stock (at one point).  As I keep saying, what's in it for Epic?  Judy is not motivated to sell and doesn't NEED Apple noney.  Come to Madison, see the campus, and you'll see that. | Replies: 1\n",
      "Tweet id: 1087702213995057153 | Date: 2019-01-22 | Time: 08:23:11 | Tweet: Nobody Jim, only $AAPl is innovating and everyone spreading FUD about apple should be investigated because it is likely they are being paid by Beijing to spread the FUD! | Replies: 0\n",
      "Tweet id: 1087697686470377472 | Date: 2019-01-22 | Time: 08:05:11 | Tweet: BBK is still trying to figure out what sells. AI Camera, InDisplay Scanner, Sliding Module...   Apple knows what sells, iOS and brand. A phone that works. Just works. They don't need fancy shenanigans. | Replies: 0\n",
      "Tweet id: 1087648323178299392 | Date: 2019-01-22 | Time: 04:49:02 | Tweet: There market share has gone down. Am myself an apple user, and they are doing well because of their IOS and yes it will benefit them in the long run. But what about the innovations which BBK electronics have done in the past year. | Replies: 2\n",
      "Tweet id: 1087627213791420417 | Date: 2019-01-22 | Time: 03:25:09 | Tweet: I feel they already know what they're doing. Market share isn't what they want anyway. Apple won't take short term decisions. Maintaining a brand image is more important for them right now. | Replies: 2\n"
     ]
    },
    {
     "name": "stdout",
     "output_type": "stream",
     "text": [
      "Tweet id: 1087443218877140992 | Date: 2019-01-21 | Time: 15:14:01 | Tweet: Except you didn't, because no one knew that Apple would be so successful.They nearly declared bankruptcy in the mid 90s. Buying a house does not require picking a winner out of 1000s of choices.  And houses are generally financed. You would never buy $500,000 $AAPL on 90% margin. | Replies: 1\n",
      "Tweet id: 1087437818673143809 | Date: 2019-01-21 | Time: 14:52:34 | Tweet: While buybacks reduce the number of shares held by the public, it increases the value of each remaining shares, explaining AAPL's stock price appreciation. Apple's brand leverage has always been sufficient to continue selling at high prices, and probably will for quite a time. | Replies: 0\n",
      "Tweet id: 1087431511446638592 | Date: 2019-01-21 | Time: 14:27:30 | Tweet: I tested an app from the Apple cloud and the speed was incredible!! Didn’t have any KYC to do, just amaizing!! #revolutionary oh and I forgot to say, I just bought some AAPL shares. | Replies: 0\n",
      "Tweet id: 1087426593394290694 | Date: 2019-01-21 | Time: 14:07:57 | Tweet: Exactly.  Beware of shiny objects that promise the world.  I love Apple.  But their needs and ours are different.  They need to sell products and ⬆️ $AAPL.  We need to provide excellent medical care.  May be some overlap, but not the same mission. | Replies: 0\n",
      "Tweet id: 1087409244599545856 | Date: 2019-01-21 | Time: 12:59:01 | Tweet: IMO, Apple (AAPL) looks bullish intermediate-term.  The 4H MACD just burned green, so if it pulls back some, I wouldn't be surprised if it represents a BTD opportunity. | Replies: 0\n",
      "Tweet id: 1087382765455036416 | Date: 2019-01-21 | Time: 11:13:48 | Tweet: Because Apple isn’t selling electronics, what they’re really selling is “cool” and “hip”. The reason why airpods are so popular are mostly due to entrepreneurs like Gary Vee (who invested in $AAPL) that rocked the pods since the beginning. Everything else is a FOMO reaction 🤷‍♂️ | Replies: 2\n",
      "Tweet id: 1087378188202840064 | Date: 2019-01-21 | Time: 10:55:37 | Tweet: that's how you can easily mislead a one with little education, $MSFT is not a hardware company as $AAPL and their sales are not slowing as apple whereas the growth has been +++++ can apple do that. I will put $1000 in $MSFT rather in apple today. | Replies: 0\n",
      "Tweet id: 1087365912921923584 | Date: 2019-01-21 | Time: 10:06:50 | Tweet: We have to pay Apple to get our apps known and also another 30% when we get a sale, AAPL $2T soon | Replies: 0\n",
      "Tweet id: 1087345678551040003 | Date: 2019-01-21 | Time: 08:46:26 | Tweet: @AppleInc_AAPL Hey, Apple is earning decent money with sales! Why doesn't Apple put aside money to help Federal Workers pay their mortgage and rent bills? Federal Workers are protecting Apple's ability to exist! | Replies: 0\n",
      "Tweet id: 1087180533388451840 | Date: 2019-01-20 | Time: 21:50:12 | Tweet: Need to upgrade you to an Apple Watch Big Time! $AAPL | Replies: 0\n",
      "Tweet id: 1087127790690824192 | Date: 2019-01-20 | Time: 18:20:37 | Tweet: $SPOT is on the list. I can’t imagine $AAPL, its only real competition in the US, making Music a better product. However, owning the stock means you need to believe the margin expansion story, and that’s a tough one. 😬 | Replies: 1\n",
      "Tweet id: 1087125388193599489 | Date: 2019-01-20 | Time: 18:11:05 | Tweet: Then why the heck we keep hearing negative comments on wall st and on @CNBC ?? Haters out there who are trying to bring down the mega AAPL. @tim_cook, I am so done with these negative people who don’t believe in what AAPL does beyond selling  iPhones | Replies: 0\n",
      "Tweet id: 1087048463257399301 | Date: 2019-01-20 | Time: 13:05:24 | Tweet: $AAPL will makes another leg down, $130’s.  Then we will see.... | Replies: 1\n",
      "Tweet id: 1087048367115448321 | Date: 2019-01-20 | Time: 13:05:01 | Tweet: It's almost as though their sales slowdown was a global issue not isolated to one country. Some $AAPL unit sale #s would surely help clear up the confusion | Replies: 0\n",
      "Tweet id: 1086993999825580035 | Date: 2019-01-20 | Time: 09:28:59 | Tweet: The older keyboards are fine; it wasn’t until Apple changed to the “butterfly” keyboard that they went downhill (see @bryanrbeal’s reply regarding AAPL’s “thinner at all costs” mantra). | Replies: 0\n",
      "Tweet id: 1086950192597868545 | Date: 2019-01-20 | Time: 06:34:55 | Tweet: @Apple is designing a secret car.   #Titan $PLUG $AAPL #HYDROGEN | Replies: 0\n",
      "Tweet id: 1086936340640468992 | Date: 2019-01-20 | Time: 05:39:52 | Tweet: And by the way, why didn’t I start watching @KillingEve sooner. If you haven’t done so, watch it now. @IamSandraOh @jodiecomer are absolutely amazing. @hulu $AAPL $HULU Bravo. #Apple #HULU | Replies: 1\n",
      "Tweet id: 1086772455157497857 | Date: 2019-01-19 | Time: 18:48:39 | Tweet: What a Boost For $AAPL #AAPL #APPLE'S EPS \"ORGANIC GROWTH' | Replies: 0\n",
      "Tweet id: 1086693723935830016 | Date: 2019-01-19 | Time: 13:35:48 | Tweet: Apple, Samsung, $GOOGL , LG or any other  you think you can sell a 6\" phone for the price of a 65\" TV, You are Crazy. $AAPL $MSFT $GOOGL $BB $AMZN $IBM $ORCL $CRM $TSLA $SNAP $FB @WSJ @business @Reuters @BGR @CNBC | Replies: 1\n",
      "Tweet id: 1086674447254269952 | Date: 2019-01-19 | Time: 12:19:12 | Tweet: I wonder what would happen if there were an \"Apple user/investor\" iOS app with #IAP of an $AAPL #DSPP? More ownership of the co. by dedicated users, less short-termism? | Replies: 0\n",
      "Tweet id: 1086649865608798208 | Date: 2019-01-19 | Time: 10:41:31 | Tweet: For the bearish case, I would still imagine a break above $159-$167 region with earnings hype but a negative earnings could hit this stock down to $140 zone. Trade with care. [2/2] $aapl #earnings #apple #stock #stockmarket | Replies: 1\n",
      "Tweet id: 1086403277204398081 | Date: 2019-01-18 | Time: 18:21:40 | Tweet: It's like $MSFT \"pulling an $ADBE\" except with $AAPL's customers' interest. After selling you StarWars on VHS, then DVD, then digital, they will sell it to you ONE LAST TIME...month after month.  Apple Music 56m subs  Within 2 yrs $DIS should hit 50m. | Replies: 4\n",
      "Tweet id: 1086388707567890432 | Date: 2019-01-18 | Time: 17:23:46 | Tweet: @Apple buying $AAPL (2012-2018).  pic.twitter.com/XoszOhtgOk | Replies: 0\n",
      "Tweet id: 1086383124743946245 | Date: 2019-01-18 | Time: 17:01:35 | Tweet: Apple needs JJ to be their Iovine of filmed entertainment. Jony should woo him one on one. #apple #Aapl | Replies: 0\n",
      "Tweet id: 1086363728575152129 | Date: 2019-01-18 | Time: 15:44:31 | Tweet: @tim_cook @Apple AAPL is on discount, do you agree? | Replies: 0\n",
      "Tweet id: 1086348249148129280 | Date: 2019-01-18 | Time: 14:43:00 | Tweet: $AAPL every expectation lowered after last miss.  An earnings beat would be a confirmation of the trash pump and dump label.  Can you explain why you think $AMZN misses?  Amazon, btw, is day after Apple. | Replies: 1\n",
      "Tweet id: 1086313663114498048 | Date: 2019-01-18 | Time: 12:25:34 | Tweet: @halftimereport @powerlunch @jimcramer $T $VZ $aapl @ScottWapnerCNBC $GOOGL $FB  I am pointing fingers at Google and Facebook to draw attention away from $T  I want Apple legacy to be  \"We cared about people\" And I found a puppy on my front porch and we named him Checkers.  more | Replies: 1\n",
      "Tweet id: 1086299078257004544 | Date: 2019-01-18 | Time: 11:27:37 | Tweet: @tim_cook since $aapl seems to be the only prominent tech company taking user privacy serious, do you see an Apple ID-based single sign on system being offered as an alternative to Facebook and Google single sign on? #dataprivacy | Replies: 0\n",
      "Tweet id: 1086242296000065536 | Date: 2019-01-18 | Time: 07:41:59 | Tweet: @twelvesouth Journal for @apple iPhone XS & XS Max; (N30,600) $84 @aapltrdng  SERVES;— GENUINE LEATHER  WALLET  CARDS & ID HOLDER   & ULTRA HARDSHELL SECURE iPHONE POUCH — #aapl #aapltrdng #apple #twelvesouth #iphonexs #journal #leatherwalletcase #cardholder #winter #Wintersales pic.twitter.com/c69bO3Wqn2 | Replies: 0\n",
      "Tweet id: 1086241750493073409 | Date: 2019-01-18 | Time: 07:39:49 | Tweet: @twelvesouth Journal for @apple iPhone XS & XS Max; (N30,600) $84 @aapltrdng  SERVES;— GENUINE LEATHER  WALLET  CARDS & ID HOLDER   & ULTRA HARDSHELL SECURE iPHONE POUCH — #aapl #aapltrdng #apple #twelvesouth #iphonexs #journal #leatherwalletcase #cardholder #winter #Wintersales pic.twitter.com/NJ4uHQhJsa | Replies: 0\n",
      "Tweet id: 1086215035981045760 | Date: 2019-01-18 | Time: 05:53:40 | Tweet: Foxconn Axes 50,000 Seasonal Jobs As Apple Slowdown Bites  $AAPL ru | Replies: 0\n",
      "Tweet id: 1086211780962066432 | Date: 2019-01-18 | Time: 05:40:44 | Tweet: This party is rescheduled! $AAPL #Apple #foxconn | Replies: 0\n",
      "Tweet id: 1086207191844048896 | Date: 2019-01-18 | Time: 05:22:29 | Tweet: Foxconn to cut 50k jobs at their iPhone factory: Reminder, Foxconn's revenue exposure to Apple is 27% $AAPL  https://asia.nikkei.com/Business/Business-Trends/Foxconn-axes-50-000-seasonal-jobs-as-Apple-slowdown-bites … | Replies: 0\n"
     ]
    },
    {
     "name": "stdout",
     "output_type": "stream",
     "text": [
      "Tweet id: 1085971570147975169 | Date: 2019-01-17 | Time: 13:46:13 | Tweet: For some context, analysts estimated that Apple generated $13B in rev from the app store in 2018, and forecast that to grow by roughly 20% over the next two years to almost $19B by 2020   For Google, analysts estimate that they will generate $7.7B in 2018 from Play  $AAPL $GOOGL pic.twitter.com/FLcIQaVbHo | Replies: 1\n",
      "Tweet id: 1085963603877023746 | Date: 2019-01-17 | Time: 13:14:34 | Tweet: $AAPL Daily: #AAPL did actually form hammer bottom & bounced to finally break bear channel to upside, however, with an Upper BB falling that sharply, it may be tough for much upside break from here. 160 could pose as resistance.  Keep an eye on Upper BB #APPLE #Tech #Technology pic.twitter.com/zRccOgsfam | Replies: 1\n",
      "Tweet id: 1085951869816573952 | Date: 2019-01-17 | Time: 12:27:56 | Tweet: this was an interesting mobile ad experience which was pretty fluid and modern (at least on android) but i dont think the color mob symbology really is what the people need today or any day.. maybe correct file management... gotta work on your fundamentals $aapl | Replies: 0\n",
      "Tweet id: 1085897265255014400 | Date: 2019-01-17 | Time: 08:50:57 | Tweet: Apple plans some hiring reductions after selling fewer iPhones: Bloomberg $AAPL $MSFT $GOOGL $AMZN $IBM $ORCL $CRM $TSLA $SNAP $BB $FB @WSJ @business @Reuters @BGR https://reut.rs/2DfjtYr  | Replies: 0\n",
      "Tweet id: 1085893867663048704 | Date: 2019-01-17 | Time: 08:37:27 | Tweet: @SquawkStreet @SquawkCNBC @jonfortt @megtirrell HUGE NEWS  J&J $JNJ Announces Research Study with Apple $aapl Watch to Help Improve AFib Outcomes Including Stroke Prevention  http://www.streetinsider.com/Corporate+News/J%26J+%28JNJ%29+Announces+Research+Study+with+Apple+Watch+to+Help+Improve+AFib+Outcomes+Including+Stroke+Prevention/15016029.html … via @Street_Insider $aet $cvs | Replies: 0\n",
      "Tweet id: 1085807555853438976 | Date: 2019-01-17 | Time: 02:54:29 | Tweet: @apple AirPod N57,000 @aapltrdng  Color; White What’s in the Box; AirPod  Charging Case Lightening to USB Cable  — #aapl #apple #aapltrdng #airpods #airpod #applemusic #itunes #beats1 #beats1radio #music #winter #wintersales #specialfinancing pic.twitter.com/Hxk3DG1zmn | Replies: 2\n",
      "Tweet id: 1085806513577512960 | Date: 2019-01-17 | Time: 02:50:20 | Tweet: @apple HomePod N180,000 @aapltrdng  Color; WHITE & SPACE GRAY In the Box; HomePod & Documentation —  #aapl #apple #aapltrdng #homepod #applemusic #itunes #music #winter #wintersales #specialfinancing pic.twitter.com/5amdRp0h2O | Replies: 1\n",
      "Tweet id: 1085799569290452992 | Date: 2019-01-17 | Time: 02:22:45 | Tweet: That's the price that stock gapped lower following news Apple was reducing its revenue guidance for the fiscal first quarter. $AAPL | Replies: 0\n",
      "Tweet id: 1085799561765867522 | Date: 2019-01-17 | Time: 02:22:43 | Tweet: There are reasons for this newfound optimism and potential change in direction for the shares. There are fresh reports that Apple is in talks with Medicare plans to sell its Apple Watch to seniors. $AAPL | Replies: 1\n",
      "Tweet id: 1085799559949881345 | Date: 2019-01-17 | Time: 02:22:42 | Tweet: Apple's (AAPL) stock may be about to turn the corner and start to rise again based on technical analysis and some bullish options bets. It may result in the stock climbing to as high as $182 in the coming months, following the company's fiscal first quarter results.  $AAPL | Replies: 1\n",
      "Tweet id: 1085799558435741701 | Date: 2019-01-17 | Time: 02:22:42 | Tweet: There are a number of positive developments regarding Apple products.  $AAPL | Replies: 1\n",
      "Tweet id: 1085799554912526337 | Date: 2019-01-17 | Time: 02:22:41 | Tweet: Apple's chart suggests the stock could rise to as high as $182.  $AAPL | Replies: 1\n",
      "Tweet id: 1085799553352249344 | Date: 2019-01-17 | Time: 02:22:41 | Tweet: Apple's Stock Is Witnessing Bullish Momentum $AAPL | Replies: 1\n",
      "Tweet id: 1085799549854089216 | Date: 2019-01-17 | Time: 02:22:40 | Tweet: After Apple, he served as CEO of J.C. Penney for what turned out to be a disastrous 17-months, which saw shoppers reject his radical store and pricing changes and saw investors flee the stock in droves. $AAPL | Replies: 1\n",
      "Tweet id: 1085799548101017601 | Date: 2019-01-17 | Time: 02:22:40 | Tweet: Leading Apple's retail division from 2000 to 2011, Johnson designed what's considered among the best retail store strategies in the world. Before Apple, he was a Target executive for 15 years. $AAPL | Replies: 1\n",
      "Tweet id: 1085799546444279808 | Date: 2019-01-17 | Time: 02:22:39 | Tweet: But Johnson pointed to a silver lining in the results of the battery program. \"Those 10 million didn't upgrade their phone,\" he argued. \"Next year, they'll be ready, right? Apple's a great buy.\"  $AAPL | Replies: 1\n",
      "Tweet id: 1085799542363045888 | Date: 2019-01-17 | Time: 02:22:38 | Tweet: One of the factors that appears to be pressuring iPhone sales is Apple's battery replacement program. According to a well-connected Apple insider Tuesday, the company replaced 11 million iPhone batteries for $29 each during the length of offer, $AAPL | Replies: 1\n",
      "Tweet id: 1085799540668747776 | Date: 2019-01-17 | Time: 02:22:38 | Tweet: In August, Apple became the first U.S. company to reach $1 trillion in stock market value. Apple's current market cap is a far cry from that at around $733 billion. $AAPL | Replies: 1\n",
      "Tweet id: 1085799539045552129 | Date: 2019-01-17 | Time: 02:22:37 | Tweet: However, shares of Apple, which has been in the hot seat in recent months due to slowing iPhone sales growth, is down about 12 percent over the past 12 months and off more than 30 percent since its all-time in October. $AAPL | Replies: 1\n",
      "Tweet id: 1085799537384542208 | Date: 2019-01-17 | Time: 02:22:37 | Tweet: A self-professed Apple \"fanboy,\" Johnson attributes his confidence to the company's consumer franchise, leadership, cash balance, and great products. He said he owns the stock. \"I'm long. I love Apple.\"  $AAPL | Replies: 1\n",
      "Tweet id: 1085799533764886528 | Date: 2019-01-17 | Time: 02:22:36 | Tweet: Apple's former retail chief, Ron Johnson, told CNBC on Wednesday that the tech giant's stock is still a great bet for investors in the long run.  $AAPL | Replies: 1\n",
      "Tweet id: 1085799530325557248 | Date: 2019-01-17 | Time: 02:22:35 | Tweet: -Johnson is confident in Apple's leadership, consumer reach, and its products. $AAPL | Replies: 1\n",
      "Tweet id: 1085799528832425984 | Date: 2019-01-17 | Time: 02:22:35 | Tweet: -\"I can't imagine a better buy for your portfolio for the next decade\" than Apple, the company's former retail chief Ron Johnson says. $AAPL | Replies: 1\n",
      "Tweet id: 1085793010875432960 | Date: 2019-01-17 | Time: 01:56:41 | Tweet: What are you talking about? Steve Jobs started $aapl but it was dethroned by Samsung. Haha. Samsung Oled vs Apple plastic, Samsung camera vs Apple. Apple is just a brand with or without Steve Jobs | Replies: 0\n",
      "Tweet id: 1085626632268697600 | Date: 2019-01-16 | Time: 14:55:33 | Tweet: So now we see #TimCook's plan for $AAPL -and why he DOESN'T wan to drop the price of the #iPhone. He wants to make #Apple devices and sytems so vital to #HealthCare that #Medicare and other Govt entities will subsidize his heavy-handed pricing | Replies: 2\n",
      "Tweet id: 1085625661140561921 | Date: 2019-01-16 | Time: 14:51:42 | Tweet: I can buy 2 #OnePlus6T still have changes left. Either of them has better display than iPhone. $aapl treating their customers like idiots. | Replies: 0\n",
      "Tweet id: 1085619143922122752 | Date: 2019-01-16 | Time: 14:25:48 | Tweet: $AAPL could buy square. Yes, they have Apple Pay but the square ecosystem (Cash app, payment registrar, company management software, etc) could be a huge boost for Apple services | Replies: 0\n",
      "Tweet id: 1085572000016420865 | Date: 2019-01-16 | Time: 11:18:28 | Tweet: Because all Cramer talks about is Apple these days.  He can't go five minutes without saying Apple should do this, blah, blah, blah.  Comes across as $AAPL pumping more than investing advice. | Replies: 0\n",
      "Tweet id: 1085535491372576768 | Date: 2019-01-16 | Time: 08:53:24 | Tweet: Definitely worth monitoring (I certainly have been) but have to keep in mind, part of $AAPL’s pitch is they provide a curated ecosystem. I may be wrong but I’m not convinced they can force $AAPL to open that to everyone... especially when everyone is concerned about data privacy. | Replies: 0\n",
      "Tweet id: 1085528388092211203 | Date: 2019-01-16 | Time: 08:25:10 | Tweet: @twelvesouth AirSnap For @apple AirPod Cognac; (N13,140) @aapltrdng @twelvesouth AirSnap For @apple AirPod Black; (N13,140) @aapltrdng 🖼; @aapltrdng  — #aapl #aapltrdng #apple #twelvesouth #airpod #airsnap #black #cognac #luxury #accessories #winter #Wintersales pic.twitter.com/TZt71fzNs9 | Replies: 0\n",
      "Tweet id: 1085524013277958144 | Date: 2019-01-16 | Time: 08:07:47 | Tweet: @twelvesouth AirSnap For @apple AirPod Cognac; (N13,140) @aapltrdng @twelvesouth AirSnap For @apple AirPod Black; (N13,140) @aapltrdng  _ 🖼; @aapltrdng  — #aapl #aapltrdng #apple #twelvesouth #airpod #airsnap #black #cognac #luxury #accessories #winter #Wintersales pic.twitter.com/m5r3VmmBTE | Replies: 0\n",
      "Tweet id: 1085507815320375296 | Date: 2019-01-16 | Time: 07:03:25 | Tweet: Warren Buffett lost his $$$ for Apple. He needs to make$$$ from Bank's. My thought he pushed bac seen AAPL lost . From now on i believe prices coming back$28 to 29 | Replies: 1\n",
      "Tweet id: 1085504472183422979 | Date: 2019-01-16 | Time: 06:50:08 | Tweet: Why does Apple need to bite into that pie? It’s a symbiotic partnership. Let others thrive in the ecosystem. This is what makes me think the current Vision is to chase the short term profits. #deadinnovation #cheapple $AAPL | Replies: 0\n",
      "Tweet id: 1085501747236388867 | Date: 2019-01-16 | Time: 06:39:18 | Tweet: If service is what you are after Apple, why don’t you sponsor or get one indian company into your umbrella and roll out some cheap phones just like Toyota and Lexus. You can expand the ecosystem and lock in future customers. $AAPL | Replies: 1\n",
      "Tweet id: 1085500034895003649 | Date: 2019-01-16 | Time: 06:32:30 | Tweet: Yes I know. You made all that money by that $2 stock price increase yesterday. Play the long game Apple, play the long game. Buy a sexy company that needs cash and needs help. Throw in and lead a change. Form a sexy partnership with a great company that needs help. $AAPL | Replies: 0\n",
      "Tweet id: 1085448165745197057 | Date: 2019-01-16 | Time: 03:06:24 | Tweet: Oh, and AAPL @Apple is particularly and expressly prohibited from even reading that footnote on account of I actually wouldn’t put it past the current, rotten Apple to try something of the sort but not nearly clever enough to have come up with it on their own. Tim Cook Φ lizard.  https://twitter.com/ethicalsmut/status/1085446847878098946 … | Replies: 0\n",
      "Tweet id: 1085372013026443264 | Date: 2019-01-15 | Time: 22:03:47 | Tweet: Great work AAPL is doing too with DXCM for glucose monitoring.  Great interview last week with CEO Kevin Sayer!  As TC said, he thinks we’ll look back and say Apple’s biggest contribution was with healthcare | Replies: 0\n",
      "Tweet id: 1085215464349990916 | Date: 2019-01-15 | Time: 11:41:43 | Tweet: It looks like #Bitcoin defeats #Apple! #BTC #AAPL #Crypto wins. #Stocks lose. | Replies: 0\n",
      "Tweet id: 1085214347457187841 | Date: 2019-01-15 | Time: 11:37:17 | Tweet: 2) Hardware is going to lose it's luster (again). $AAPL's biggest weakness is their inability to convert their iOS users into higher margin services. iPhone has hit peak penetration and their  software play is challenged. We're already seeing players like $NFLX avoid Apple Pay... | Replies: 1\n",
      "Tweet id: 1085208875979161604 | Date: 2019-01-15 | Time: 11:15:32 | Tweet: AAPL holds 75% more cash than MSFT - Apple should start its own bank! | Replies: 0\n"
     ]
    },
    {
     "name": "stdout",
     "output_type": "stream",
     "text": [
      "Tweet id: 1085195903617527811 | Date: 2019-01-15 | Time: 10:24:00 | Tweet: I trust Apple as much as can be and in the end we have to choose to trust someone if we plan to use the internet etc. they’ve shown to be willing to buck the trend when it comes to privacy compared to the others. | Replies: 1\n",
      "Tweet id: 1085195493792088069 | Date: 2019-01-15 | Time: 10:22:22 | Tweet: Apple collects anonymized data to improve their service to you. They don’t sell or share it. Apple sells hardware as their business model. Google/Facebook sell you as their business model | Replies: 0\n",
      "Tweet id: 1085185005578604544 | Date: 2019-01-15 | Time: 09:40:41 | Tweet: Why don't you all start innovating and creating something new instead of re-boxing the same crap every 6 months. What happened to Thinking Different?? Now your just a mediocre product like everything else. When will the WOW!! Factor comeback? $AAPL is a short for me. | Replies: 0\n",
      "Tweet id: 1085181900120047617 | Date: 2019-01-15 | Time: 09:28:21 | Tweet: @TDAmeritradePR TD Ameritrade enables investors to instantly fund brokerage accounts using Apple Pay. $AAPL. No more waiting for funds to clear. | Replies: 0\n",
      "Tweet id: 1085123708820307968 | Date: 2019-01-15 | Time: 05:37:07 | Tweet: Nope. They have split operations, now it’s services and devices. They don’t produce devices themselves, just design them. Same as Apple 🤷‍♂️ planes still running on Blackberry RIM software, so as a lot driverless cars 🙂 | Replies: 1\n",
      "Tweet id: 1085053122819641344 | Date: 2019-01-15 | Time: 00:56:38 | Tweet: This means at a current rate of earnings, flat, it takes 12.6 years for your investment in 1 share of $AAPL stock to “break even.” And the rest is heavy after that. So if you think Apple will be around for 30 years, you’re benefitting from 17.4 years of “gravy” earnings. | Replies: 1\n",
      "Tweet id: 1085001329028653058 | Date: 2019-01-14 | Time: 21:30:49 | Tweet: With all the attention on QCOM & AAPL, no one is talking about INTC, Apple waited until the XMM7560 was ready (CDMA support) to pull the trigger on the IP lawsuit against QCOM. They placed a big bet on a single modem supplier. | Replies: 0\n",
      "Tweet id: 1084892517047459840 | Date: 2019-01-14 | Time: 14:18:27 | Tweet: $aapl should buy $cbs ? @CBS @apple | Replies: 0\n",
      "Tweet id: 1084881236168826880 | Date: 2019-01-14 | Time: 13:33:37 | Tweet: In my opinion, when you follow a company too much, mind tends to create a bias towards it. Think this judge is carrying her past bias and presumes Apple can do no wrong and anyone else opposing it is always wrong. For her, this appears to be more like QCOM vs AAPL instead of FTC. | Replies: 2\n",
      "Tweet id: 1084865930079813632 | Date: 2019-01-14 | Time: 12:32:48 | Tweet: Email correspondence between #Qualcomm's Steve Mollenkopf and #Apple showed $AAPL had redlined (proposed to strike) the clawback provision. $QCOM then replied that the clawback was really important to them. #ftcqcom | Replies: 0\n",
      "Tweet id: 1084865498225889283 | Date: 2019-01-14 | Time: 12:31:05 | Tweet: Clawback meant: any rebates #Apple got under a \"marketing incentives agreement\" with #Qualcomm had to be reimbursed, even for the past, the moment $AAPL would ship any device with a baseband chip provided by a $QCOM competitor. | Replies: 1\n",
      "Tweet id: 1084860045790072832 | Date: 2019-01-14 | Time: 12:09:25 | Tweet: Why hide behind \"Globalist\" it was created by Nixon, kept up by Ford, Carter, Reagan, Bush, Clinton, Bush, Obama.... all of them and for what $AAPL @Apple slave labor makes a phone for $50 dollars in China and its sold for $1,000 in the U.S.A. $300 billion trade deficit. | Replies: 0\n",
      "Tweet id: 1084856807514873857 | Date: 2019-01-14 | Time: 11:56:33 | Tweet: Apple has many suppliers in China, which explains why the company sends so many employees to the Shanghai Pudong Airport. $AAPL $UAL | Replies: 0\n",
      "Tweet id: 1084850796540309505 | Date: 2019-01-14 | Time: 11:32:40 | Tweet: Apple has a massive consumer base, more profit than any other company (by far), a ton of cash and assets on hand, a low valuation, and a very inelastic demand. All the negative articles and the temporary trade war have caused $AAPL to become undervalued. | Replies: 0\n",
      "Tweet id: 1084850263389859840 | Date: 2019-01-14 | Time: 11:30:32 | Tweet: $AAPL Daily: #AAPL not buying it.  I warned rejection at bear channel upper resistance would setup scenario to chase lower channel support quickly.  Be forewarned, breach of green TL = very bearish.  Only save would be hammer doji divergent bottom ...  #APPLE #Tech #Technology pic.twitter.com/7CyfSxGGii | Replies: 1\n",
      "Tweet id: 1084826514615689217 | Date: 2019-01-14 | Time: 09:56:10 | Tweet: If you're part of the public betas you also get access to the Apple Feedback tool, which is the same thing but user facing and with the addition of feature requests.  In both cases if a report is part of a known issue the report will be included in their internal bug info/report. | Replies: 1\n",
      "Tweet id: 1084823810455597057 | Date: 2019-01-14 | Time: 09:45:26 | Tweet:  https://developer.apple.com/bug-reporting/   All Apple IDs come with a free version of a developer account (limited device testing, API restrictions, no beta/AppStore/Dashboard access). | Replies: 1\n",
      "Tweet id: 1084576080709775363 | Date: 2019-01-13 | Time: 17:21:02 | Tweet: Both are Apple products.  I buy the stock $AAPL | Replies: 0\n",
      "Tweet id: 1084497440500301825 | Date: 2019-01-13 | Time: 12:08:33 | Tweet: #gnu #linux phone >>  #apple #aapl #walledGardens  Librem 5 The only modern smartphone you can (truly) own  User Controlled Source Code  Runs GNU+Linux   https://puri.sm/products/librem-5/ … pic.twitter.com/rKibGfiItW | Replies: 0\n",
      "Tweet id: 1084492032905805824 | Date: 2019-01-13 | Time: 11:47:04 | Tweet: #apple #aapl #walledGardens  y Austin_Conlon 12 hours ago | hide | past | web | favorite | 225 comments   https://news.ycombinator.com/item?id=18895064 … pic.twitter.com/otuKXaJfCX | Replies: 1\n",
      "Tweet id: 1084491007805272064 | Date: 2019-01-13 | Time: 11:42:59 | Tweet: #apple #aapl #walledGardens  Cracks in the..  Apple succumbs to the smartphone malaise  A decade-long boom is ending as consumers hang on to devices for longer   https://www.economist.com/business/2019/01/12/apple-succumbs-to-the-smartphone-malaise … pic.twitter.com/xxU7Hk3JLI | Replies: 1\n",
      "Tweet id: 1084489825288364032 | Date: 2019-01-13 | Time: 11:38:17 | Tweet: #apple #aapl #walledGardens Apple’s famous walled garden is starting to show cracks   https://www.cnbc.com/2019/01/09/apple-walled-garden-starting-to-show-cracks.html … pic.twitter.com/g4MJcMJpXR | Replies: 1\n",
      "Tweet id: 1084461890963685382 | Date: 2019-01-13 | Time: 09:47:17 | Tweet: From the Recent Lows  Netflix $NFLX: +46% Cannabis $MJ +33% Square $SQ: +34% Micron $MU: +26% Amazon $AMZN: +25% Oil Svs $OIH: +24% Biotechs $IBB +21% NVIDIA $NVDA: +20% Goldman $GS: +16% Russell $IWM: +14% Google $GOOGL: +9% Apple $AAPL +7%  via @BearTrapsReport | Replies: 1\n",
      "Tweet id: 1084337166161866752 | Date: 2019-01-13 | Time: 01:31:41 | Tweet: @Apple @nyse is extremely venerably as a one trick pony. You are naive and foolish to believe another other outcome. At this price point, it's irrational. If you can't afford to lose all your investment @AAPL you shouldn't be there.  https://www.thestreet.com/technology/apple-planning-3-new-iphones-14831824 … via @TheStreet | Replies: 0\n",
      "Tweet id: 1084192225913917441 | Date: 2019-01-12 | Time: 15:55:44 | Tweet: Lol... Nikkei Asia Review, on AAPL option expiration days, guaranteed an Apple hit piece based on supply chain rumor, right around 1pm. | Replies: 1\n",
      "Tweet id: 1084124638052007936 | Date: 2019-01-12 | Time: 11:27:10 | Tweet: AAPL products are getting worst and worst with each new model - less new tech and more expensive   Also their instore assistance is declining   Are they the next Nokia? | Replies: 0\n",
      "Tweet id: 1084082133231194113 | Date: 2019-01-12 | Time: 08:38:16 | Tweet: $AAPL was waiting way to long trying to keep it's premium hype, while others entered the market and realized that phones are same with just 2 operating systems, front glass, back glass and society no longer expects having Apple products is something that make u more valuable. | Replies: 1\n"
     ]
    },
    {
     "name": "stdout",
     "output_type": "stream",
     "text": [
      "Tweet id: 1083948266042085378 | Date: 2019-01-11 | Time: 23:46:20 | Tweet: \"Is the timing & magnitude of...drop in \"demand\" for $AAPL...in China a bit too convenient?\" - @EmmaMuhleman1 Expected result. Japan's auto companies endured riots in China & Apple takes hit in China as ZTE & Huawei take hits in USA. Enforce USA patents.  https://twitter.com/EmmaMuhleman1/status/1083931354385997824 … | Replies: 0\n",
      "Tweet id: 1083895805453381633 | Date: 2019-01-11 | Time: 20:17:52 | Tweet: Another takeaway for me from this story: why is Apple the only company being held to the requirement of needing a definitive “next big thing.”  EVERY large tech co today needs a “next big thing” to survive ten years from now.  Analysts only hold $aapl to this requirement. | Replies: 0\n",
      "Tweet id: 1083880989150101504 | Date: 2019-01-11 | Time: 19:19:00 | Tweet: I like hybrids. Mining w/ POS node validators. I don’t see POS as centralizing since stakers take big risk locking coins with no guarantee of price appreciation. It’s like buying a share of Apple w/ the dividend. Some holders win, some may lose. No one cornered AAPL. | Replies: 2\n",
      "Tweet id: 1083845672867168256 | Date: 2019-01-11 | Time: 16:58:39 | Tweet: Maybe never. Roku makes its money from affiliate cuts, not hardware; unlikely Apple will pay for iTunes availability. Amazon loses money in HW to sell Prime content. Shield isn’t big enough to matter. iTunes on TVs are a win/win for AAPL, makers. | Replies: 0\n",
      "Tweet id: 1083817016560103429 | Date: 2019-01-11 | Time: 15:04:47 | Tweet: Get ready for the #Olympics #Tokyo2020 $SNE #Sony will be closer to $AAPL Apple Market cap and $RKUNY #Rakuten closer to $AMZN Amazon so much unjustified distortion in the market $MS $BAC $LUK $DB $RJF $FB $NFLX $GOOG $GOOGL $ONLN $MAT $BABA $JPM $WMT $JPM pic.twitter.com/dMizcvg71s | Replies: 0\n",
      "Tweet id: 1083816689282764805 | Date: 2019-01-11 | Time: 15:03:29 | Tweet: Get ready for the #Olympics #Tokyo2020 $SNE #Sony will be closer to $AAPL Apple Market cap and $RKUNY #Rakuten closer to $AMZN Amazon so much unjustified distortion in the market $MS $BAC $LUK $DB $RJF $FB $NFLX $GOOG $GOOGL $ONLN $MAT $BABA $JPM $WMT $JPM pic.twitter.com/dMizcvg71s | Replies: 0\n",
      "Tweet id: 1083785089224462342 | Date: 2019-01-11 | Time: 12:57:55 | Tweet: $AAPL #AAPL $APPLE Not big of deal that it trades outside channel, but bigger bounce from 142$ now then I expected.  pic.twitter.com/Gp05wSMkWJ | Replies: 0\n",
      "Tweet id: 1083784772466413568 | Date: 2019-01-11 | Time: 12:56:40 | Tweet: Hey @BrianFeroldi, it was you and @dannyvena who turned me on to $BL!   Re: $SWKS I like to say, \"Every time Apple $AAPL sneezes, Skyworks is diagnosed with the flu.\" But I think that some nice long-term catalysts will soon be in play too. #IoT #5G https://www.fool.com/investing/2018/12/26/near-a-3-year-low-is-skyworks-solutions-a-buy.aspx … | Replies: 1\n",
      "Tweet id: 1083767220155699200 | Date: 2019-01-11 | Time: 11:46:55 | Tweet: Wouldn’t DIG be the ticker ? Is it aapl or Apple ? Just saying 👍 | Replies: 0\n",
      "Tweet id: 1083761489742348288 | Date: 2019-01-11 | Time: 11:24:09 | Tweet: $AAPL Daily: #AAPL forming red inverted hammer right at 13MA bearish backtest. Historically this is a very bearish setup & could rechase lower yellow bear channel support quickly, just FYI, manage risk in case...  #APPLE #Tech #Technology pic.twitter.com/sJcBkbMlND | Replies: 3\n",
      "Tweet id: 1083741669177012224 | Date: 2019-01-11 | Time: 10:05:23 | Tweet: Mr. Owen, I made the long AAPL disclosure years ago and during all of the time since then I‘ve criticized Apple and publicly supported cert petitions by Samsung. So far my predictions in the #ftcqcom context (such as on summary judgment) have been validated by judicial decisions. | Replies: 1\n",
      "Tweet id: 1083737645207961603 | Date: 2019-01-11 | Time: 09:49:24 | Tweet: My-Netflix-stock-sold-in-after-hours-as-target-price-was-hit, Staying-disciplined.  Not-jumping-back-in-until-the-day-before-earnings-for-Vol-Options-play  Expecting-big-QTRS-out-of-Netflix-Amazon-and-Google, Expecting-disappointment-from-Apple-and-Facebook  $AMZN $AAPL $NFLX | Replies: 4\n",
      "Tweet id: 1083635887701979136 | Date: 2019-01-11 | Time: 03:05:03 | Tweet: @Bloomberg rpted in Feb 2018 that #Apple plans to release upgraded #AirPods in 2019, ones that can be activated by saying, \"Hey, Siri.\". #digitalmarketing #ecommerce #mcommerce #retail #IoT #smartmarketing #voicesearch #voicemarketing #datamarketing #SEO #VoiceSEO $AAPL | Replies: 0\n",
      "Tweet id: 1083488219440791552 | Date: 2019-01-10 | Time: 17:18:16 | Tweet: Insurance-companies-should-be-subsidizing-Apple-watch-&-iPhone-for-health-aspects-like-EKG-stroke-signs-glucose-monitoring-blood-pressure  For-those-of-us-who-lost-a-parent-or-family-member-to-an-accident-or-fall. The-Watch-could-have-called-EMS-based-on-motion $AAPL @tim_cook | Replies: 0\n",
      "Tweet id: 1083479372940566528 | Date: 2019-01-10 | Time: 16:43:07 | Tweet: @jimcramer Boeing has P/E of 22, Apple 11, why isn't AAPL multiple similiar valuation? | Replies: 0\n",
      "Tweet id: 1083476059222433792 | Date: 2019-01-10 | Time: 16:29:57 | Tweet: Planning-on-Apple-re-entry-after-earnings-massacre $AAPL  Agree-100%-on-watch,  Crucial-medical-alert-device-aspects-w-EKG- not-only-for-heart-but-emergency-falls-etc  My-Netflix-sold-in-the-after-hours-to-my-surprise-for $330.50  Didn't-think-we-would-get-there-until-next-week, | Replies: 2\n",
      "Tweet id: 1083473784307216384 | Date: 2019-01-10 | Time: 16:20:54 | Tweet: $nflx isn't comparable to $aapl but nice try. Apples & oranges literally... | Replies: 1\n",
      "Tweet id: 1083447792637378560 | Date: 2019-01-10 | Time: 14:37:37 | Tweet: To add: several major products on the near term horizon:  - Apple Video & Apple News Subs - AR glasses - whatever ‘project titan” becomes - unspecified “health” push continues.  Unknown: does Apple have a China rebound to look forward to for 2020 year on year comparisons?  $AAPL | Replies: 0\n",
      "Tweet id: 1083444958894256128 | Date: 2019-01-10 | Time: 14:26:22 | Tweet: Last quarter Apple also had:  - record Mac revenue - record services revenue - record wearables revenue - double digit iPad growth - active install base increasing to ~1.4 Billion devices   $AAPL | Replies: 0\n",
      "Tweet id: 1083439867256848384 | Date: 2019-01-10 | Time: 14:06:08 | Tweet: Building an #Apple🍏 Space 🚂 train to travel throughout the moon 🌙. I hope I get to see it, but wait, 🧐 God did mentioned already that men will try to go to the 🌝Moon. He will throw them down like leaves. Bad to invest in #AAPL anymore, but I’ll #sell as soon as it doubles | Replies: 0\n",
      "Tweet id: 1083426943389888512 | Date: 2019-01-10 | Time: 13:14:47 | Tweet: if your fed chair is worried about growing corp debt- why did he raise rates at the rate he did- regarding iPhone sales- ppl have the $ but the consumer rules- I would never pay 1000+ for an apple iPhone- I have the $ but the consumer has spoken to AAPL | Replies: 1\n",
      "Tweet id: 1083426772358705152 | Date: 2019-01-10 | Time: 13:14:06 | Tweet: I hate the Apple store experience, but as an AAPL shareholder I receive great joy in taking your money. | Replies: 1\n",
      "Tweet id: 1083426173281947648 | Date: 2019-01-10 | Time: 13:11:43 | Tweet: And now, those same alpha-geeks are complaining about how bad Apple products and services are. While they may not be $AAPL's main target market any more, I think alpha-geek opinion continues to be a leading indicator of Apple's quality and ability to innovate products. | Replies: 1\n",
      "Tweet id: 1083405773709819904 | Date: 2019-01-10 | Time: 11:50:39 | Tweet: Price/Earnings AAPL  12.5 FB 22 GOOG 40 MSFT 42 | Replies: 1\n",
      "Tweet id: 1083403409338716161 | Date: 2019-01-10 | Time: 11:41:16 | Tweet: Maybe you're right. However, I look at Apple $AAPL and how they are struggling to sell very expensive iPhones and wonder IF Millennials would really pay more. There is always a \"tipping point\" for everyone. | Replies: 1\n",
      "Tweet id: 1083393262604345344 | Date: 2019-01-10 | Time: 11:00:56 | Tweet: Apple will revisit those lows though.  Just keep that in mind.  I'm 99.9% certain -- more certain than anything I can be about the markets -- that $AAPL will eventually revisit and likely take out $142 this year.   That is a near certainty. You never get a 1-legged 40% sell-off. | Replies: 0\n",
      "Tweet id: 1083392814384324609 | Date: 2019-01-10 | Time: 10:59:10 | Tweet: Jim we get it you REALLY like $aapl.  There are many other companies with great stories that deserve some lovin too. | Replies: 0\n",
      "Tweet id: 1083381181918400512 | Date: 2019-01-10 | Time: 10:12:56 | Tweet: Yesterday it was announced that Jeff Bezos and his wife are getting divorced. While Apple ($AAPL) survived and has prospered under Tim Cook... is it premature to ask what happens to Amazon when Jeff Bezos chooses to turn over the day to day running of the company he founded? | Replies: 2\n",
      "Tweet id: 1083378519009382401 | Date: 2019-01-10 | Time: 10:02:21 | Tweet: Buy $AAPL puts instead, then you can buy many apple watches | Replies: 1\n",
      "Tweet id: 1083361190724550657 | Date: 2019-01-10 | Time: 08:53:30 | Tweet: @RonnieChopra1 Good point. Everyone always talks about $AAPL, but everyone forgets about the ripple effect it has on all stakeholders: suppliers, buyers, consumers, retailers, etc. Just like the US #economy, when Apple sneezes, everyone else catches a cold | Replies: 1\n",
      "Tweet id: 1083292843987226624 | Date: 2019-01-10 | Time: 04:21:55 | Tweet: $AAPL #AAPL $APPLE I understand that they try to save stockprice, but this is most probably a short-term solution, feels risky to own, but if bulls get momentum from here you could probably see a big move on upside aswell. Momentum down, news down, nothing for me.  pic.twitter.com/HZxJa2y5bR | Replies: 2\n",
      "Tweet id: 1083175353814863879 | Date: 2019-01-09 | Time: 20:35:03 | Tweet: $AAPL up REACTION line, back at pitchfork resistance... rotten apple?  140 short term possible.  pic.twitter.com/qoKcyOjkCz | Replies: 0\n",
      "Tweet id: 1083173680820170757 | Date: 2019-01-09 | Time: 20:28:24 | Tweet: @AppleInc_AAPL seriously Apple,  my 2 mos old iPhone XS Max camera is dead? 💀now I have to drive an hour away to get it repaired, or mail it in and not have a phone that I need daily? I bought the phone partially for the camera capabilities! Not Happy! | Replies: 1\n",
      "Tweet id: 1083157273281589249 | Date: 2019-01-09 | Time: 19:23:12 | Tweet: She said google had bigger losses than Apple because from ATH GOOG ⬇️ $290 AAPL ⬇️ $87  Couldn’t believe my fucking eyes | Replies: 1\n"
     ]
    },
    {
     "name": "stdout",
     "output_type": "stream",
     "text": [
      "Tweet id: 1083103746803093508 | Date: 2019-01-09 | Time: 15:50:30 | Tweet: Not yet. You’ll know. I’ll never be let off the hook on this one. As it should be!! Great show today, by the way. AAPL discussion was fabulous. I’m betting I’ll get another - and better - bite at this Apple! | Replies: 1\n",
      "Tweet id: 1083100026921013251 | Date: 2019-01-09 | Time: 15:35:44 | Tweet: Somehow illogically $aapl will pop on this news as it has with its cuts on margins, phone production etc.  Must be good for apple! | Replies: 0\n",
      "Tweet id: 1083072729312579587 | Date: 2019-01-09 | Time: 13:47:15 | Tweet: Get ready for the #Olympics #Tokyo2020 $SNE #Sony will be closer to $AAPL Apple Market cap and $RKUNY #Rakuten closer to $AMZN Amazon so much unjustified distortion in the market $MS $BAC $LUK $DB $RJF $FB $NFLX $GOOG $GOOGL $ONLN $MAT $BABA $JPM $WMT $JPM pic.twitter.com/dMizcvg71s | Replies: 0\n",
      "Tweet id: 1083068771722579968 | Date: 2019-01-09 | Time: 13:31:32 | Tweet: @stephenLweiss I for one agree with you on AAPL. 2011, IPhones IPads Apple stores ITunes ... all raking in $$, wearables in the pipeline. Cooks grown existing businesses, but nothing developed under him. | Replies: 0\n",
      "Tweet id: 1083067949915750400 | Date: 2019-01-09 | Time: 13:28:16 | Tweet: I’d also say invest in what you love and use. Buy only Apple products, but $AAPL, shop mainly on Amazon, buy $AMZN. It’s been a great heuristic for me, though probably not universally applicable. | Replies: 0\n",
      "Tweet id: 1083052473089028096 | Date: 2019-01-09 | Time: 12:26:46 | Tweet: @stephenLweiss @ScottWapnerCNBC you guys do a great job everyday!  Good debate on Tim Cook.  Tim Cook was the right leader to lead Apple after Jobs, BUT he may not be the right leader moving forward.  #AAPL desperately needs step change innovation for leapfrog growth | Replies: 0\n",
      "Tweet id: 1083051385292275717 | Date: 2019-01-09 | Time: 12:22:27 | Tweet: The-pricing-mechanism-we-talked-about-would-flush-this-out.  Offer-15-20%-discount-on-Apple-products-in-China-for-next-3-months, if-no-substantial-pickup-in-sales,  We-know-it's-a-boycott-nationalism-and/or-retaliation  $AAPL @HalftimeReport @jimcramer | Replies: 0\n",
      "Tweet id: 1083047083341316096 | Date: 2019-01-09 | Time: 12:05:21 | Tweet: @jussbeneathme cousin!😂😂😂 issa Apple butt plug😂 aapl | Replies: 1\n",
      "Tweet id: 1083034165547806725 | Date: 2019-01-09 | Time: 11:14:01 | Tweet: @CNBCnow I’m amazed how scared the talking heads are today at the risk of sounding foolish Again. When Apple and Facebook were over $215 they LOVED the  stocks. Now when they should LOVE them,they are risk adverse.  AAPL & FB STRONG BUY | Replies: 0\n",
      "Tweet id: 1083021834310672385 | Date: 2019-01-09 | Time: 10:25:01 | Tweet: Did #TimCook -who has been 'fibbing' about the #AAPL - $QCOM patent mess- just flat out lie by saying the \"...#Apple outlook has never been stronger.\" the day before they cut Production ANOTHER 10%? Is #Trumpism rubbing off on our CEOs?  @ReformedBroker | Replies: 2\n",
      "Tweet id: 1083018788621217794 | Date: 2019-01-09 | Time: 10:12:55 | Tweet: I think Carolyn Boroden @Fibonacciqueen has all the right angles on $AAPL Wish I followed advise her closer. Instead I stuck with Cramer's now infamous \"Hold Apple, don't trade it!\" sad call :( that was $60 up from here :( Ya gonna wear that post-it for a while, Jimbo | Replies: 2\n",
      "Tweet id: 1083008607657037824 | Date: 2019-01-09 | Time: 09:32:28 | Tweet: If you can make AAPL stock keep growing I’ll take all my winnings and try to buy every American an Apple Watch. I’m an options trader that just figured this stuff out last month. I’m going to be a hedge fund investor within the next year and have big clients lined up. | Replies: 0\n",
      "Tweet id: 1082998191472164864 | Date: 2019-01-09 | Time: 08:51:04 | Tweet: OPERATIVE word here is Nikkei - NOT APPLE $AAPL. Tim_cook has and will NEVER give that kind of guidance. Never has never will  @SquawkStreet @BeckyQuick | Replies: 0\n",
      "Tweet id: 1082992764055244802 | Date: 2019-01-09 | Time: 08:29:30 | Tweet: Yet is $AAPL an American company any more? Where do they domicile their HQ these days to pay corporate taxes? Oh unless I'm mistaken they're still playing \"Tax-Hopscotch\" with Jersey Channel Islands near France. Don't cry for Apple as they no longer as American as \"Apple Pie\". | Replies: 0\n",
      "Tweet id: 1082990713011425280 | Date: 2019-01-09 | Time: 08:21:21 | Tweet: $AAPL Apple executive comp and bonus for 2018.  pic.twitter.com/es9QQRrc9I | Replies: 0\n",
      "Tweet id: 1082971800693284864 | Date: 2019-01-09 | Time: 07:06:12 | Tweet: Apple will struggle even to stay profitable, like TV makers, PC makers, camera makers etc. It will be cut throat ultra low margin business. #AAPL | Replies: 0\n",
      "Tweet id: 1082961529547321345 | Date: 2019-01-09 | Time: 06:25:23 | Tweet: If premarket $AAPL any indication, market is perhaps finally wising up to the fact Nikkei @NAR has a very poor track record of Apple coverage, in particular when it comes to supply chain. Also, their timing citing “sources’ has always been…suspect. Total short hack shop. | Replies: 0\n",
      "Tweet id: 1082939804642361344 | Date: 2019-01-09 | Time: 04:59:04 | Tweet: #FUTR+5% £5.12✅ #FUTURE coverage of #CES2019 @techradar #Apple just had its best CES, & it's not even at the show  https://buff.ly/2FkhraX  $AAPL @Intel announces its first 10nm Ice Lake #processors  https://buff.ly/2FgsSAk  $INTC #TECH #AI #ML #VR #IoT #BigData #ROBOTICS #DL pic.twitter.com/Sd0GYJGQgH | Replies: 1\n",
      "Tweet id: 1082938792007397376 | Date: 2019-01-09 | Time: 04:55:02 | Tweet: Hey @jimcramer @MadMoneyOnCNBC  Guess that great interview with Tim Cook in Cupertino yesterday wasn't the \"I do my homework\" kind, eh?  Being too much of a lapdog for Cook means you aren't much more than an $AAPL pumper fanboy. Really, health services is the future of Apple?  pic.twitter.com/KJKU8kumyY | Replies: 0\n",
      "Tweet id: 1082922930449932288 | Date: 2019-01-09 | Time: 03:52:01 | Tweet: Recent disclosures by Apple Inc. (NASDAQ:AAPL) have raised concerns about Apple's future and what, if anything, Apple has coming to the world in the near future. | Replies: 1\n",
      "Tweet id: 1082922921977434113 | Date: 2019-01-09 | Time: 03:51:58 | Tweet: The filing also mentions that Apple spent $310,981 on personal security for Tim Cook. Further, $294,082 was spent on private aircraft flights for Cook. As we reported at the time, Apple started requiring Cook to fly private for security reasons in 2017. $AAPL | Replies: 1\n",
      "Tweet id: 1082922915430129664 | Date: 2019-01-09 | Time: 03:51:57 | Tweet: Other “achievements and milestones” mentioned by Apple include the shipment of the 2 billionth iOS device, weekly Today at Apple sessions crossing 18,000, $37 billion in Services net sales, and more: $AAPL | Replies: 1\n",
      "Tweet id: 1082922913840406529 | Date: 2019-01-09 | Time: 03:51:57 | Tweet: Apple touts that net sales in its fiscal 2018 year were up 16 percent compared to 2017, from $229.2 billion to $265.6 billion. Operating income was up 16 percent as well, from $61.3 billion to $70.9 billion.  $AAPL | Replies: 1\n",
      "Tweet id: 1082922912284401664 | Date: 2019-01-09 | Time: 03:51:56 | Tweet: The reason for Apple’s lower median pay is because of its vast fleet of retail employees, as noted by Kif Leswing on Twitter. $AAPL | Replies: 1\n",
      "Tweet id: 1082922910665375745 | Date: 2019-01-09 | Time: 03:51:56 | Tweet: Elsewhere in the statement, Apple says that its median employee compensation for 2018 was $55,426. The ratio of Cook’s income to the median income is 283 to 1, Apple says. $AAPL | Replies: 1\n",
      "Tweet id: 1082922907288961024 | Date: 2019-01-09 | Time: 03:51:55 | Tweet: As usual, other Apple executives out-earned Cook for the year due to stock awards. Apple CFO Luca Maestri earned $26.51 million in 2018, consisting of $1 million in salary, $21.5 million in stock awards, and $4 million in incentive pay. $AAPL | Replies: 1\n",
      "Tweet id: 1082922904118091776 | Date: 2019-01-09 | Time: 03:51:54 | Tweet: Apple today filed its definitive proxy statement for 2018 with the SEC. In addition to confirming the date of the annual shareholders meeting, the document offers interesting details on AAPL executive pay for 2018, growth stats, and more. $AAPL | Replies: 1\n",
      "Tweet id: 1082888444161019904 | Date: 2019-01-09 | Time: 01:34:58 | Tweet: #aapl #apple  The chart continues.  pic.twitter.com/ZuzH117rKG | Replies: 1\n",
      "Tweet id: 1082877959826862081 | Date: 2019-01-09 | Time: 00:53:19 | Tweet: Dear Sirs,  👻❤️📱 @snapchat born on iPhone, Chasing Android has drained cash and creativity   😎🕶📸📡 _______ 🌎🛰 iSpectacles?  👨🏻‍💻💬#AppleVsFBI. ❤️, Apple took risk to protect data privacy 👥📱💭👻?  🍎 $AAPL 💰$715b 👥 $FB 💰 $400b (👥 56% 🍎) 👻 $SNAP🔥💸 $8b = 3 months FCF pic.twitter.com/4G20PZXMZa | Replies: 1\n",
      "Tweet id: 1082875138473947137 | Date: 2019-01-09 | Time: 00:42:06 | Tweet: Not just $aapl whole phone market hits plateau, imo. They only upgrade camera , battery life. Need new invention @Apple | Replies: 0\n",
      "Tweet id: 1082838302749835270 | Date: 2019-01-08 | Time: 22:15:44 | Tweet: @tim_cook great interview with @jimcramer today. owned the stock since 2000 and hVE bought it multiple times at different price points. I have no reason to sell it. I have paid for my last 2 businesses out of the sale of apple stock. Life is good with AAPL  https://www.cnbc.com/video/2019/01/08/apple-ceo-tim-cook-talks-china-wall-street-negativity-and-innovation.html?__source=iosappshare%7Ccom.apple.UIKit.activity.CopyToPasteboard … | Replies: 0\n",
      "Tweet id: 1082834092926881798 | Date: 2019-01-08 | Time: 21:59:00 | Tweet: $AAPL modernizing and streamlining healthcare - very possible can introduce more tools that brings costs down ... not even a fraction of this is built in Apple's valuation | Replies: 0\n",
      "Tweet id: 1082831631860158465 | Date: 2019-01-08 | Time: 21:49:13 | Tweet: It did.  It’s why he must be removed. Apple is about youth and aspiration. Not old and dying gagets. Just because Tim is old doesn’t mean the biggest generation, millennials, relate to this at all.  $aapl | Replies: 6\n",
      "Tweet id: 1082827065467027456 | Date: 2019-01-08 | Time: 21:31:05 | Tweet: Apple is the next Nokia #AAPL | Replies: 0\n",
      "Tweet id: 1082819941105954816 | Date: 2019-01-08 | Time: 21:02:46 | Tweet: That could speak to the problems Apple has had in China. Waiting in line outside and most people are holding iPhone 8 or lower. One person with an iPhone X $AAPL | Replies: 0\n",
      "Tweet id: 1082818373526929408 | Date: 2019-01-08 | Time: 20:56:32 | Tweet: Today you had $AAPL $BA vs $NVDA and $GS. Today Apple and Boeing won and the market moved higher. But Goldman and Nvidia are a reminder that not all stock go up with the market. | Replies: 0\n",
      "Tweet id: 1082813875899256832 | Date: 2019-01-08 | Time: 20:38:40 | Tweet: Typical Apple strategy - charge an outrageous premium on any product. It had been very effective up until now #beats #AAPL #apple | Replies: 0\n",
      "Tweet id: 1082806755334205440 | Date: 2019-01-08 | Time: 20:10:22 | Tweet: Can we fire any one who uses “rotten apple” and “byte out of Apple” in reference to AAPL? | Replies: 0\n",
      "Tweet id: 1082797762268123137 | Date: 2019-01-08 | Time: 19:34:38 | Tweet: $AAPL forever! | Replies: 0\n"
     ]
    },
    {
     "name": "stdout",
     "output_type": "stream",
     "text": [
      "Tweet id: 1082793051133603840 | Date: 2019-01-08 | Time: 19:15:55 | Tweet: Services. Apple Pay. iOS growth in enterprise space. I see MacBooks in most startups here in sf. I wonder what a company like FB spends with Apple... Acquisitions!! :) Point of my iPhone comment is consumers love AAPL innovation enough to open their wallet. | Replies: 1\n",
      "Tweet id: 1082781788915695616 | Date: 2019-01-08 | Time: 18:31:10 | Tweet: The funny part is $AAPL thought the $2 discount/chip from $QCOM was more attractive than using $INTC chips! How can anyone say $QCOM was forcing Apple to use its chips to squash competition as the @FTC is claiming. | Replies: 0\n",
      "Tweet id: 1082780554901291009 | Date: 2019-01-08 | Time: 18:26:16 | Tweet: No offense, Mr. Cramer: But...isn't this a little pathetic. You know, when the CEO of $AAPL needs to go on @CNBC and tout his products and equity for the little \"dip buyers\" at home? This screams desperate. Big time. Apple is not a nemo micro-ca; not under-owned. It's THE market. | Replies: 0\n",
      "Tweet id: 1082777046432985089 | Date: 2019-01-08 | Time: 18:12:19 | Tweet: @dtellom @asymco FYI Today’s SEC filing  “As of the Table Date, 4,729,803,000 shares of Apple’s common stock were issued and outstanding.” 2 Jan #AAPL   vs earlier Letter: “We expect the number of shares used in computing diluted EPS to be approximately 4.77 billion.” | Replies: 1\n",
      "Tweet id: 1082767985322979328 | Date: 2019-01-08 | Time: 17:36:19 | Tweet: Cook is like a trust fund Baby he rode the AAPL Tsunamai has no Vision and will be the Demise of Apple if they don't get rid of him like 2019 fast.  Best thing he can do is buy / merge TSLA and they can burn together ! | Replies: 0\n",
      "Tweet id: 1082764102018174977 | Date: 2019-01-08 | Time: 17:20:53 | Tweet: $aapl sold out airpods during xmas , billions of apple pay transactions, huge pile of cash, top watch maker ....there is still plenty left in the tank at Apple. 🍎📱🥇 | Replies: 0\n",
      "Tweet id: 1082762026135572482 | Date: 2019-01-08 | Time: 17:12:38 | Tweet: Cook has an additional 1.5 million shares not fully vested representing close to $350 million in market value, per $AAPL filing  pic.twitter.com/3tFobEwv2k | Replies: 0\n",
      "Tweet id: 1082761356892401665 | Date: 2019-01-08 | Time: 17:09:58 | Tweet: In 2018 @Tim_Cook had 560,000 $AAPL shares vested, realizing a value of $121,049,600.  !! | Replies: 1\n",
      "Tweet id: 1082760546359877634 | Date: 2019-01-08 | Time: 17:06:45 | Tweet: Easy to notice that other $AAPL execs had substantially higher total compensation (~$26m vs $15m) via stock awards | Replies: 1\n",
      "Tweet id: 1082744680926900224 | Date: 2019-01-08 | Time: 16:03:43 | Tweet: make $AAPL go UP to 156 AT LEAST... the least YOU can do for @ChicagoBears fans !! | Replies: 0\n",
      "Tweet id: 1082743823766249472 | Date: 2019-01-08 | Time: 16:00:18 | Tweet: $AAPL is up 2% right now!  https://finance.yahoo.com/quote/AAPL?p=AAPL&.tsrc=fin-srch … | Replies: 1\n",
      "Tweet id: 1082740915729502209 | Date: 2019-01-08 | Time: 15:48:45 | Tweet: Now was that using the XS, XR, or just X. :) $AAPL | Replies: 0\n",
      "Tweet id: 1082730826872381441 | Date: 2019-01-08 | Time: 15:08:39 | Tweet: @jimcramer last week said $aapl should settle at $120 and he is the positive man just on fundamentals value it needs to be proven with earnings, + IMO | Replies: 1\n",
      "Tweet id: 1082723787534147591 | Date: 2019-01-08 | Time: 14:40:41 | Tweet: @jimcramer @aapl Apple itunes now build in TV sets.  Apple about to launch new TV and Music streaming like Netflix. | Replies: 0\n",
      "Tweet id: 1082704313275699201 | Date: 2019-01-08 | Time: 13:23:18 | Tweet: $AAPL is losing theirself... No longer the Apple of Steve Jobs | Replies: 0\n",
      "Tweet id: 1082685102818091009 | Date: 2019-01-08 | Time: 12:06:58 | Tweet: @terranovajoe @jonnajarian @petenajarian @ReformedBroker @ScottWapnerCNBC @jlebenthal @Stephanie_Link $AAPL $AMZN Apple is cheap, but has innovation issues.But I feel tat AMZN has taken the innovation mantle,the market cap mantle, therefore the leader &bellwether of the market!! | Replies: 0\n",
      "Tweet id: 1082671171231993856 | Date: 2019-01-08 | Time: 11:11:36 | Tweet: I welcome our new AI overlord and would like to compliment you on your human-like headline writing skills. Your algos are flawless and you are not only a wise computer but a handsome one. Also, crypto blockchain in Teslas ( $TSLA ) could be the next been thing at Apple ( $AAPL ). | Replies: 0\n",
      "Tweet id: 1082641608384876544 | Date: 2019-01-08 | Time: 09:14:08 | Tweet: Think U R right on smartphone peak (units) but $AAPL will still grow in its significantly over the next decade by taking market share from 15% to 85%.  Apple is not a services company, it’s still a smartphone and computerized hardware company. | Replies: 0\n",
      "Tweet id: 1082641210001539072 | Date: 2019-01-08 | Time: 09:12:33 | Tweet: 20 years after that we will exist as a single hive mind powered by AWS, running on Apple hardware, finally proving that $AAPL is, in fact, a device company and not a services company. | Replies: 0\n",
      "Tweet id: 1082588623382421505 | Date: 2019-01-08 | Time: 05:43:35 | Tweet: Another big user base for Apple... $AAPL | Replies: 0\n",
      "Tweet id: 1082464643187015680 | Date: 2019-01-07 | Time: 21:30:56 | Tweet: Apple canceled portion of iPhone XR orders that were delayed to this quarter from last year - Economic Daily News. Taiwan’s Pegatron is main assembler for iPhone XR. Other suppliers include GIS and TP AAPL NDX (-/v), Taiex (-), Kospi EWY (=/-) | Replies: 0\n",
      "Tweet id: 1082453355929100294 | Date: 2019-01-07 | Time: 20:46:05 | Tweet: Apple Daily Put/Call & Put/Call Open Interest Ratio. Always ambiguous whether investors establishing initial bullish position or selling covered calls near price bottoms. Nevertheless, worth considering with other factors  #JointheDots 7th January  $AAPL  pic.twitter.com/mP6W8SBla6 | Replies: 1\n",
      "Tweet id: 1082417953314885633 | Date: 2019-01-07 | Time: 18:25:25 | Tweet: Now I see why aapl stock is down. They had to pay all these idiots to run around in their colorful pajamas | Replies: 0\n",
      "Tweet id: 1082407609297260544 | Date: 2019-01-07 | Time: 17:44:18 | Tweet: Did his club sell Apple? Mentioned on Friday that he owns both msft and aapl but it only disclosed msft at the bottom of the screen🤔 | Replies: 0\n",
      "Tweet id: 1082350623113105408 | Date: 2019-01-07 | Time: 13:57:52 | Tweet: Exactly my point. At least $aapl is being honest about their cutbacks. If Apple is having a hard time selling $1000 phones, $30,000 cars are an even more ridiculous purchase for average consumers. | Replies: 1\n",
      "Tweet id: 1082344509910859776 | Date: 2019-01-07 | Time: 13:33:34 | Tweet: #EpicGames’ move will have direct impact on #GooglePlayStore but not #Apple’s #AppStore. Given the current situation, $aapl is unlikely to adjust the rake until Google takes action  https://yuinausicaa.com/2019/01/03/epic-games-epic-battle-on-storefront-space/ … | Replies: 0\n",
      "Tweet id: 1082343544877187074 | Date: 2019-01-07 | Time: 13:29:44 | Tweet: I like apple bottoms ... and $AAPL bottoms. #TongueAndCheek | Replies: 0\n",
      "Tweet id: 1082342100757344256 | Date: 2019-01-07 | Time: 13:24:00 | Tweet: @graemethickins meanwhile, in Las Vegas, #Apple sticks a finger in the eye of Google and Amazon... #CES2019  http://apple.com/privacy  $AAPL (as in the past, they don’t need to be an exhibitor to be a major presence hanging over the whole annual confab)  pic.twitter.com/8QzloEAJyl | Replies: 0\n",
      "Tweet id: 1082332768128749570 | Date: 2019-01-07 | Time: 12:46:55 | Tweet: how does $aapl not buy $NFLX ?? @Apple @reedhastings @netflix @tim_cook | Replies: 0\n",
      "Tweet id: 1082300148691161088 | Date: 2019-01-07 | Time: 10:37:18 | Tweet: Bob why don’t you tell Tim Cook while he’s at CES to stop by Vuzix booth and plunk down $1 billion and buy them! Best in breed for AR/ VR & can be new growth driver AAPL is in need of ! | Replies: 0\n",
      "Tweet id: 1082294238707109888 | Date: 2019-01-07 | Time: 10:13:49 | Tweet: As an Apple shareholder myself, I think this is great advice! Take off that case! Soon you will drop and break your phone and be ordering a new one! Go AAPL! 😉 | Replies: 0\n",
      "Tweet id: 1082290544758394881 | Date: 2019-01-07 | Time: 09:59:08 | Tweet: Do you ever say anything constructive? Its one thing to critique things that could benefit from improvement but your constant bashing of Apple is such a turn off from YOU. I’m surprised @Forbes @ForbesTech still publishes it. Must be short AAPL! | Replies: 0\n",
      "Tweet id: 1082284015879684097 | Date: 2019-01-07 | Time: 09:33:11 | Tweet: Pretty well all of them - $AAPL etc etc too not just oil and gas but at least Apple is a cash machine - until it's not I guess | Replies: 0\n",
      "Tweet id: 1082281876277084165 | Date: 2019-01-07 | Time: 09:24:41 | Tweet: Buying apples with $aapl? | Replies: 1\n",
      "Tweet id: 1082271501221425152 | Date: 2019-01-07 | Time: 08:43:28 | Tweet: you know that $AAPL has poached several engineers from $TSLA  also, don't know about your local shopping mall, but here, Tesla retail stores are right across from Apple stores  Apple is working on an EV  iPhones sales will remain flat, while EV's will rise  see our view? | Replies: 1\n",
      "Tweet id: 1082264657874825216 | Date: 2019-01-07 | Time: 08:16:16 | Tweet: Bring back analog audio jack, fix iOS and get your prices down to earth. Then let’s talk. Be better AAPL | Replies: 0\n",
      "Tweet id: 1082155045939003392 | Date: 2019-01-07 | Time: 01:00:43 | Tweet: @AAPL #APPLE should buy @BMW (46B$) rather than @TESLA (54B$) with all cash it has. More reliable and well structured company. | Replies: 0\n",
      "Tweet id: 1082136507832512512 | Date: 2019-01-06 | Time: 23:47:03 | Tweet: @jimcramer Hey Jim, I’m concerned about demand for $AAPL products after passing their store in @RooseveltField on Long Island this afternoon. It was a ghost town! #apple  pic.twitter.com/OKLuj2lxmn | Replies: 0\n",
      "Tweet id: 1082123038064283652 | Date: 2019-01-06 | Time: 22:53:31 | Tweet: $AAPL has gotten active in the used/refurbished market. AAPLs own refurb store sells fully reconditioned iPhones with a new battery, direct from apple.  Also sites like swappa & amazon have good quality used phones.  So the kids have more ways to end up using apple products | Replies: 0\n",
      "Tweet id: 1082049518340882433 | Date: 2019-01-06 | Time: 18:01:23 | Tweet: I love #AAPL and #Tesla but Apple buying Tesla would be a death-knell to Tesla. Tesla is moving way to fast for Apple.  Musk won’t let Tesla be sold and he has controlling interest in Tesla. He said he would never give up control of another company after PayPal. | Replies: 1\n"
     ]
    },
    {
     "name": "stdout",
     "output_type": "stream",
     "text": [
      "Tweet id: 1082042098784833536 | Date: 2019-01-06 | Time: 17:31:54 | Tweet: The Apple video is the best Grow The Game segment for golf than the @USGA could ever think of... I'd say they owe Lucy Li and thank $AAPL is not charging them (@GolfChannel) | Replies: 0\n",
      "Tweet id: 1082035119857250304 | Date: 2019-01-06 | Time: 17:04:10 | Tweet: Though I wonder what these R&D spendings were used for at $AAPL. My brand new MacBook crashed so much in recent months that I had to switch to a Windows computer. (Which also regularly crashes, but at least costs only half). | Replies: 0\n",
      "Tweet id: 1082006467962560514 | Date: 2019-01-06 | Time: 15:10:19 | Tweet: I agree there’s a lot of headroom for Apple. In an otherwise solid track record, the iPhone X, XR, XS is a pretty difficult product line to differentiate. A slump in iPhone which is 2/3 of aapl revenue has massive effects that overshadows nice but incremental innovation elsewhere | Replies: 0\n",
      "Tweet id: 1082005066939277312 | Date: 2019-01-06 | Time: 15:04:45 | Tweet: We wrote Tim (real letter) told him the decision to not update #iPhone5S was a massive mistake & he ignored till hand forced & smash hit #iPhoneSE released.  We warned him again with discontinuance of SE.  He just doesn’t get it 🙄 @WarrenBuffett @JohnLegere $AAPL $VZ $T $TMUS | Replies: 0\n",
      "Tweet id: 1081988510213652482 | Date: 2019-01-06 | Time: 13:58:57 | Tweet: Wow, Apple's iTunes coming to Samsung TVs  https://www.engadget.com/2019/01/06/samsungs-2019-smart-tv-itunes-airplay-2/ … $AAPL | Replies: 2\n",
      "Tweet id: 1081981245209366528 | Date: 2019-01-06 | Time: 13:30:05 | Tweet: @realDonaldTrump also voiced his displeasure with #Apple for making products in China, although he falsely asserted Apple CEO @tim_cook would soon change that. #AAPL  https://buff.ly/2LRskSI  pic.twitter.com/bIxIbeG5gF | Replies: 0\n",
      "Tweet id: 1081973841272934401 | Date: 2019-01-06 | Time: 13:00:40 | Tweet: Option #3 is to hire @elonmusk as the new Apple CEO. Imagine rebadged Model 3 with Apple logo... iCar. Synergy of Apple and Tesla will bring fear to all auto manufacturers. Why doesn’t Apple Board see this vision and act on it before it’s too late? $AAPL $TSLA | Replies: 1\n",
      "Tweet id: 1081970569543905281 | Date: 2019-01-06 | Time: 12:47:40 | Tweet: @tim_cook missed out on buying $NFLX few years ago to propel Apple TV. He is about to miss out on $TSLA because he has no vision to use cash to generate more revenue for $AAPL. Apple is going to be another Blackberry if it doesn’t acquire innovative company soon. | Replies: 0\n",
      "Tweet id: 1081955717282705408 | Date: 2019-01-06 | Time: 11:48:39 | Tweet: $SQ net margins are currently -2.7% vs. ~22% for $AAPL.  Apple extracts premiums, does not subsidize. | Replies: 1\n",
      "Tweet id: 1081943530824712198 | Date: 2019-01-06 | Time: 11:00:13 | Tweet: Foldables are coming. Samsung may have the first says CNET... but $AAPL is letting $AMZN rule the kitchen by selling a million Echo Shows ... I would rather have an Apple device in my kitchen..is it coming? They could also challenge $FB by creating an Instagram clone.. | Replies: 0\n",
      "Tweet id: 1081924934975275008 | Date: 2019-01-06 | Time: 09:46:20 | Tweet: Its funny whenever Apple has these downdrafts in share price everyone comes out naming all the companies they should acquire ($NFLX $DIS $TSLA etc) when it’s on the way up no one says anything. $AAPL shoulda been making acquisitions from position of power instead of buyback | Replies: 1\n",
      "Tweet id: 1081921367618990080 | Date: 2019-01-06 | Time: 09:32:09 | Tweet: @tim_cook we all know that Apple ecosystem is king but the old phones work on the ecosystem fine. Killing the batteries didn’t work. How about selling people on the benefits of the #iPhoneXS $aapl | Replies: 0\n",
      "Tweet id: 1081920511934836736 | Date: 2019-01-06 | Time: 09:28:45 | Tweet: Apple needs to pick a future direction and go for it. Whatever it is. Can’t be just phones and computers forever. Services means you invest in Disney. IOT means you buy Sonos. EV you buy Tesla. $aapl | Replies: 1\n",
      "Tweet id: 1081895185448087552 | Date: 2019-01-06 | Time: 07:48:07 | Tweet: I am a 40 year Apple user and fan...and very disappointed to see IOS becoming very dated, stale and boring.  Android on my son’s Pixel is far superior now...what has the AAPL iOS team been doing ? I still cannot lift my phone & quickly see the weather, for example.  Etc. | Replies: 0\n",
      "Tweet id: 1081835191205797888 | Date: 2019-01-06 | Time: 03:49:43 | Tweet: 2) particularly China, and by elongating replacement cycles in developed markets, Chatterjee tells investors in a research note. The analyst, however, retains an Overweight rating on the shares, with a focus on Apple's Services transformation. $AAPL | Replies: 1\n",
      "Tweet id: 1081834855284043776 | Date: 2019-01-06 | Time: 03:48:23 | Tweet: Kvaal tells investors in a research note. The analyst reduced his estimates and keeps a Neutral rating on Apple shares $AAPL | Replies: 0\n",
      "Tweet id: 1081816273367982082 | Date: 2019-01-06 | Time: 02:34:33 | Tweet: Price is never the issue. Consumers willingly give brands more share of wallet if perceived value warrants it. Apple’s focus needs to continue to be on building brand equity by addressing both functional + emotional needs to where perceived value enables premium prices. $AAPL | Replies: 0\n",
      "Tweet id: 1081744422461730823 | Date: 2019-01-05 | Time: 21:49:02 | Tweet: If we all can double hit our chips now... this seems pretty innocuous... @Apple probably chose her more for her ethnicity and youth rather than for pure golf reasons... $AAPL marketing goal is NOT to capture that 'vast' golf market (@USGA) | Replies: 1\n",
      "Tweet id: 1081698229832613890 | Date: 2019-01-05 | Time: 18:45:29 | Tweet: Problem is that there's no proof about the Huawei thing and might be a political hostage thing. Also Apple lost their innovative ability when Steve Jobs passed on. Feels like most of $AAPL research is towards marketing more than innovation. | Replies: 0\n",
      "Tweet id: 1081694979049906178 | Date: 2019-01-05 | Time: 18:32:34 | Tweet: $aapl held up well in October’s sell off. Look at the chart. It was not until Apple’s quarter report, in early Nov, where they said they wouldn’t give iPhone numbers anymore, when the stock really got hit. The Chaikin System was warning even before this event happened. | Replies: 0\n",
      "Tweet id: 1081644880906973184 | Date: 2019-01-05 | Time: 15:13:30 | Tweet: S&P 500, Nasdaq moved in lock step with $aapl for months. Apple dropped out of the bear flag and $es and $NQ have yet to follow. Only a matter of time. /6 pic.twitter.com/gV2tl2INqE | Replies: 1\n",
      "Tweet id: 1081628184460840960 | Date: 2019-01-05 | Time: 14:07:09 | Tweet: My point wasn't that Apple was the entirety of consensus halving...  point was that consensus halving *includes* Apple's revision...  (or am I mistaken and it hasn't incorporated AAPL yet...?)  https://twitter.com/TrinityAssetMan/status/1081595911921455105?s=19 … | Replies: 0\n",
      "Tweet id: 1081617098143686657 | Date: 2019-01-05 | Time: 13:23:06 | Tweet: @AswathDamodaran now whats your take on $AAPL . Apple is 'the greatest cash machine in history': Expert  https://youtu.be/q7XYyjBUHAE  via @YouTube | Replies: 0\n",
      "Tweet id: 1081600272764493824 | Date: 2019-01-05 | Time: 12:16:14 | Tweet: $AAPL - quote @JimCramer: \"Own #Apple, don't trade it\". FYI, your buddy @CGasparino said on @FoxBusiness yesterday that \"Jim Cramer knows nothing about the economy.\" Ouch ! I enjoy your knowledge of all the co's you cover but disagree abt the value of the high PE stocks you love. | Replies: 0\n",
      "Tweet id: 1081581297850564611 | Date: 2019-01-05 | Time: 11:00:50 | Tweet: two days after price came to levels mentioned in this tweet, Buffet joined the party. Rest is history :)   https://twitter.com/nareshbahrain/status/685265045198999552 … #AAPL | Replies: 0\n",
      "Tweet id: 1081570668527996933 | Date: 2019-01-05 | Time: 10:18:36 | Tweet: Ross - you went to a smoothie place right across the street from am $AAPL compound...EVERY-SINGLE PERSON THERE LIKELY RECEIVED A $AAPL SUBSIDIZED LAPTOP & iPHONE   CAUSE THEY WORK AT @Apple! | Replies: 0\n",
      "Tweet id: 1081570430916259840 | Date: 2019-01-05 | Time: 10:17:39 | Tweet: Yup. Apple needs to get on that Tesla screen. ASAP @tim_cook $aapl $tsla NEED TO WORK TOGETHER! | Replies: 1\n"
     ]
    },
    {
     "name": "stdout",
     "output_type": "stream",
     "text": [
      "Tweet id: 1081559995903299586 | Date: 2019-01-05 | Time: 09:36:12 | Tweet: Apple had to see this coming. We saw it happen with PCs 10 years ago.  Product development failure is a major fsil. $AAPL  SPONSOR: Esports Entertainment Group $GMBL .. the first esports bet exchange. Partners with 190 Esports teams and counting pic.twitter.com/E3lvSjEZ18 | Replies: 0\n",
      "Tweet id: 1081558367041134593 | Date: 2019-01-05 | Time: 09:29:43 | Tweet: If Apple doesn't have any new product saviour on the horizon, it has to focus on what people consume with their existing phones/tablets.  One Solution? Promote the hell out of apps to generate $$ from downloads.  $aapl | Replies: 1\n",
      "Tweet id: 1081551339442921472 | Date: 2019-01-05 | Time: 09:01:48 | Tweet: Question used to be “can #AAPL become GOOG/ AMZN/ FB before they become Apple?”  They don’t need to pivot to building a phone. We are racing to become the next intelligent platform where value is aggregated (read @benthompson) and that reaches further than the phone in my pocket | Replies: 1\n",
      "Tweet id: 1081433219956912128 | Date: 2019-01-05 | Time: 01:12:26 | Tweet: Please buy our phone so $AAPL isn't totally crushed | Replies: 0\n",
      "Tweet id: 1081383323199389696 | Date: 2019-01-04 | Time: 21:54:10 | Tweet: I wonder if there will be any remarks about the tanking AAPL stock here. Let’s see. | Replies: 0\n",
      "Tweet id: 1081342804369068033 | Date: 2019-01-04 | Time: 19:13:09 | Tweet: Everyone’s already loaded up from the holidays. They’ll be fine. Bought an Apple Watch there this year for the wife. That’ll help your $AAPL and $COST. It’s the least I could do. | Replies: 0\n",
      "Tweet id: 1081330228461473792 | Date: 2019-01-04 | Time: 18:23:11 | Tweet: Exactly..Jay, after the Fed today this what I was thinkging AAPL>FED OR FED>AAPL. My first thougt was that the apple news is more important than what the fed said. | Replies: 1\n",
      "Tweet id: 1081316098493034496 | Date: 2019-01-04 | Time: 17:27:02 | Tweet: Probability of them sitting with the same #iphone and MacBook in the next 3 years is very very high. Every single one of them #apple $AAPL | Replies: 1\n",
      "Tweet id: 1081309173525098496 | Date: 2019-01-04 | Time: 16:59:31 | Tweet: Yesterday market dropped big on $AAPL sales. Sentiment: horrible. What a surprise! Fundamentals: No surprise. AAPL has been a dead man walking for years. Sentiment just caught up all at once. And there's plenty more Apples out there with overblown sentiment. Market: overpriced. | Replies: 1\n",
      "Tweet id: 1081304089579974661 | Date: 2019-01-04 | Time: 16:39:19 | Tweet: $AAPL You never know what people will pay for something until u try, to say Apple made a “mistake” in selling $1,000 phones again this year after they sold so well last year is revisionist history. | Replies: 1\n",
      "Tweet id: 1081295975241711616 | Date: 2019-01-04 | Time: 16:07:04 | Tweet: Since 2000, Apple #AAPL has seen nine drops, each greater than 25%, averaging 48.5%  And there are massive gaps above and below, mostly below. (Purple horizontals are gaps).  Personally, I'm looking for 120. That brings us to the 2009 trendline, but some models point lower.  pic.twitter.com/n3VDkAu4mQ | Replies: 1\n",
      "Tweet id: 1081293164940615680 | Date: 2019-01-04 | Time: 15:55:54 | Tweet: @realDonaldTrump listen here you pathological liar. @apple has not been up hundreds of percents since you took office. Your comments made AAPL drop further. Also, I can almost guarantee there’s no way @tim_cook is your friend. #AAPL #45lies #ImpeachTheMotherFcker #GOPdeceit #stop | Replies: 0\n",
      "Tweet id: 1081285134492545024 | Date: 2019-01-04 | Time: 15:24:00 | Tweet: $IBM trade at 8 time 2019 earning, 8 time 2018 EBITDA so $AAPL can have it for cheap. It will hurt the margin but they can make a lot of synergy and cross channel sale and Apple will stop to pay amazon and google for cloud services | Replies: 1\n",
      "Tweet id: 1081284628391084037 | Date: 2019-01-04 | Time: 15:21:59 | Tweet: Didn't realize Buffett's avg cost was your Chart of the Day's est $146.02! But with Apple's strong fundamentals - cash, revenue, div, ret, etc., did Buffett load up on AAPL sh's during the bloodletting..low hung fruit? | Replies: 1\n",
      "Tweet id: 1081276903863013376 | Date: 2019-01-04 | Time: 14:51:17 | Tweet: President Trump says he's not concerned about Apple $AAPL recent struggles or the stock market.   Watch live:  http://sbry.co/2PRrZ  | Replies: 0\n",
      "Tweet id: 1081276847596494850 | Date: 2019-01-04 | Time: 14:51:04 | Tweet: @realDonaldTrump just said AAPL stock price \"has gone up many hundreds of percent since I took office.\" Apple stock price in January 2017: $120. Apple stock price today: $147.72. Mathing is not his strength.  https://finance.yahoo.com/quote/AAPL/history/ … | Replies: 0\n",
      "Tweet id: 1081275995724894208 | Date: 2019-01-04 | Time: 14:47:41 | Tweet: @Apple has gone up \"hundreds of percents since I've been president.\"  What a friggin' liar. $AAPL | Replies: 1\n",
      "Tweet id: 1081268670968619008 | Date: 2019-01-04 | Time: 14:18:34 | Tweet: He's saying the truth, Apple is vaporwave and $AAPL is a shitcoin | Replies: 0\n",
      "Tweet id: 1081256141647171594 | Date: 2019-01-04 | Time: 13:28:47 | Tweet: In this comparison AAPL is Microsoft and Compaq/Dell combined. Youre not just buying a bunch of collective pieces of hardware in an iPhone, youre buying iOS, Apple Cloud and all software that makes the entire user experience | Replies: 1\n",
      "Tweet id: 1081253364518830081 | Date: 2019-01-04 | Time: 13:17:45 | Tweet: $FB and $GS are $MCD or $KO? LOL!  The later haven't had scandal after scandal losing trust of clients. $AAPL maybe like them but their industries are so cut throat as I named above. Apple won't be top cell phone company in 10 years. | Replies: 0\n",
      "Tweet id: 1081226213379710977 | Date: 2019-01-04 | Time: 11:29:52 | Tweet: @Apple $AAPL Loses Record $463 Billion in Market Cap in Three Months  The first trillion-dollar company lost nearly half that in 3 months.   https://www.equities.com/news/apple-loses-record-463-billion-in-market-cap-in-three-months … #FridayFeeling #Trading #Tech | Replies: 0\n",
      "Tweet id: 1081218106398253057 | Date: 2019-01-04 | Time: 10:57:39 | Tweet: Interesting...shared the same misleading story 2 days in a row. @jimcramer couldn't have been more bullish on $AAPL in November. Then he hedged his bets and was bearish this month. Either way, whatever happened with @Apple , you would have linked to the \"Correct\" call. | Replies: 0\n",
      "Tweet id: 1081217241499090952 | Date: 2019-01-04 | Time: 10:54:13 | Tweet: I can’t help but suspect Apple is the canary in the coal mine here. People react to bad AAPL news, but what is the impact on the rest of the players? Bad news for Apple should indicate weakness across the entire sector, especially for those without supporting categories. | Replies: 1\n",
      "Tweet id: 1081212426702516225 | Date: 2019-01-04 | Time: 10:35:05 | Tweet: that's a 5 year weekly chart.   Apple stock is down 2 times the stock market btw. I think AAPL will drop more.  pic.twitter.com/OK8oY9R9jW | Replies: 0\n",
      "Tweet id: 1081211730355802123 | Date: 2019-01-04 | Time: 10:32:19 | Tweet: Warren Buffet raising his stake in AAPL must have been an idiotic move. NO?  Nokia didn't have $240 Billion cash on hand, like Apple. Nokia was cellular handsets business only. Apple is well diversified.   How do you come up with such crap @MirMAKOfficial ????? | Replies: 0\n",
      "Tweet id: 1081201929278107648 | Date: 2019-01-04 | Time: 09:53:22 | Tweet: 25 quarters @tim_cook has lead $AAPL what new products has he brought to market? He has improved products created under Jobs. @apple products are overpriced here. China and India consumers can’t afford. | Replies: 0\n",
      "Tweet id: 1081195728301518848 | Date: 2019-01-04 | Time: 09:28:43 | Tweet: I can maybe understand this rational, but has anyone thought that $AAPL maybe doesn’t have a product anymore that is hot. I mean, what has Apple done that has been groundbreaking in a long time? AI emojis! | Replies: 1\n",
      "Tweet id: 1081195679031144448 | Date: 2019-01-04 | Time: 09:28:32 | Tweet: Apple now has now fallen by 39.1% since Oct. 3, and its market cap is now around $674B, or $326B off its all time high.  Not discounting any potential issues at $AAPL, but isn't Mr. Market kinda crazy? | Replies: 0\n",
      "Tweet id: 1081192043173609473 | Date: 2019-01-04 | Time: 09:14:05 | Tweet: I thought you might fancy a bite out of the Apple again ;-) As you say it will probably drop a lot more yet but at some point will be a superb buy. That #AAPL Ecosystem is where the Value really is. | Replies: 0\n",
      "Tweet id: 1081185688287145984 | Date: 2019-01-04 | Time: 08:48:50 | Tweet: You are for your own book, your advisory letters, and for your own ego.   \"Own Apple, don't trade it\"   As if anyone listens to your circular rants anymore.  Oh, and then Nvidia the dog.   $nvda $aapl | Replies: 0\n"
     ]
    },
    {
     "name": "stdout",
     "output_type": "stream",
     "text": [
      "Tweet id: 1081184902245044224 | Date: 2019-01-04 | Time: 08:45:42 | Tweet: More fun Apple Newton facts:  * Sir Isaac lost m/e of $4mm on the South Seas Trading Co. He bought the top when South Seas Co reached a valuation of ~$4 trillion.   * $AAPL is $450bn off it’s ATH.   * $SPX 2% from flat YTD  * Newton wrote >1mm words on alchemy (~4,5000pg book) pic.twitter.com/HteGuxLfHQ | Replies: 0\n",
      "Tweet id: 1081184278380199937 | Date: 2019-01-04 | Time: 08:43:14 | Tweet: 5 Months ago it was $AAPL is going to $260, wow the iPhone is selling out everywhere I can't believe it ... now it's $Apple is going out of business sell the stock because they will miss revenue and iPhone sales are down... so crazy people go from euphoria to depression in months | Replies: 0\n",
      "Tweet id: 1081170727926222848 | Date: 2019-01-04 | Time: 07:49:23 | Tweet: Heading into this week, Wall St's 12 month price target on Apple $AAPL was nearly $70 above its closing price. The dreaded crowded trade strikes again.  Via @BearTrapsReport pic.twitter.com/GLLqRGKo64 | Replies: 2\n",
      "Tweet id: 1081148422378287106 | Date: 2019-01-04 | Time: 06:20:45 | Tweet: Yeah, stock markets are always about future growth and understand why there’s pessimism about AAPL. I’m still impressed with Apple’s ability to pull in a Billion dollars a day! | Replies: 0\n",
      "Tweet id: 1081142604992004096 | Date: 2019-01-04 | Time: 05:57:38 | Tweet: Apple happened and dragged everyone down (see aapl) | Replies: 1\n",
      "Tweet id: 1081112280257855488 | Date: 2019-01-04 | Time: 03:57:08 | Tweet: You're a genius. Buy as much Apple as you can afford. Then go and buy as much Tesla stock as you can afford. Next step: wait about 5-10 years to see all time high again. Brilliant strategy. Mean time, start a YouTube channel to pump AAPL and TSLA. | Replies: 0\n",
      "Tweet id: 1081104847989104640 | Date: 2019-01-04 | Time: 03:27:36 | Tweet: @Apple investors get burned for holding on too long  https://on.mktw.net/2saSk2g  $AAPL #NYC #Beirut | Replies: 0\n",
      "Tweet id: 1081087306797322240 | Date: 2019-01-04 | Time: 02:17:54 | Tweet: #Apple's Market Cap (today) is $674B They have ~$275B in Cash/Equivalents. Thus #AAPL (the company minus cash) is worth ~$400B Apple's peak value was -$1.075 Trillion Minus cash, their peak value was ~$800B Apple's REAL value DROPPED 50% in 3 months!!!!! & could go lower!!!! | Replies: 1\n",
      "Tweet id: 1081069524500262913 | Date: 2019-01-04 | Time: 01:07:14 | Tweet: 5) don't even look forward to WWDC or Apple Events anymore cuz we're tired of the shiney mediocrity and status quo. Where's the groundbreaking excitement? Has it grown up? Is that it? The worst thing, AAPL custserv acts like a trillion dollar company—and you know what that means. | Replies: 1\n",
      "Tweet id: 1081065292866904064 | Date: 2019-01-04 | Time: 00:50:25 | Tweet: When AAPL Stock was higher 🤣 They should’ve launched the SE X right before holiday season to get in the black, yet as we’re seeing now they chose to go with XR and they ranked this final quarter of 2018 #HumanFactors and #ergonomics are actually their value prop not big screens | Replies: 0\n",
      "Tweet id: 1081063686322540544 | Date: 2019-01-04 | Time: 00:44:02 | Tweet: @Apple warns it will badly miss its quarterly sales forecast $AAPL  https://www.cnn.com/2019/01/03/investing/stock-market-today-apple-dow-jones/index.html … | Replies: 0\n",
      "Tweet id: 1081056107110354949 | Date: 2019-01-04 | Time: 00:13:55 | Tweet: Lastly, I do feel it's a product problem - just not an iPhone one. I feel (esp recently) AAPL bet too hard on hw and not enough on services. Would love your take @stevesi  - is music/OTT TV/something else realistic, or too little too late? | Replies: 1\n",
      "Tweet id: 1081055275195355137 | Date: 2019-01-04 | Time: 00:10:37 | Tweet: High end segment of phone/tablet/laptop has inevitable plateau.  Consistent refusal to go down market means there's a finite TAM similar to luxury goods owners, far smaller than Android phone TAM. AAPL can't win at scale in India the way GOOG does. (2/n) | Replies: 1\n",
      "Tweet id: 1081041003484573696 | Date: 2019-01-03 | Time: 23:13:54 | Tweet: Every analyst was gift wrapped $aapl only reason I didnt short it is because I thought it was priced in.  $lite guided down apple biz 35 percent so for an 8 percent midpoint miss I would call that amazing.  Every supplier warned | Replies: 0\n",
      "Tweet id: 1081031681870626816 | Date: 2019-01-03 | Time: 22:36:52 | Tweet: lol really only now you realize about Apple and pricing. Remember it isn't bout not selling more devices that is causing AAPL to slow down. It is harder to grow when ya a trillion dollah company. AMZN/AAPL etc r all ripe to b disrupted & rightly so. Lets see how it unfolds. | Replies: 0\n",
      "Tweet id: 1081029864176513025 | Date: 2019-01-03 | Time: 22:29:38 | Tweet: @tim_cook Apple is too much dependance on China market, that's why the stock of AAPL drops down so much.  pic.twitter.com/79WmygmFaP | Replies: 0\n",
      "Tweet id: 1081025406659162112 | Date: 2019-01-03 | Time: 22:11:56 | Tweet: #TimCook's one \"attribute\" is that he's a gay CEO. But, he's a joke as someone to run #Apple. #AAPL #stock #tech | Replies: 0\n",
      "Tweet id: 1081020074100707329 | Date: 2019-01-03 | Time: 21:50:44 | Tweet: AAPL Market Cap is 675B. MSFT Market Cap 748B. What were valuation comparisons when Jobs was alive? I switched to Apple products over a decade ago but alternatives have caught up and Apple is at the beginning of the end. All that cash and Cook has innovated exactly NOTHING! | Replies: 0\n",
      "Tweet id: 1081008831352717312 | Date: 2019-01-03 | Time: 21:06:04 | Tweet: I don't own $AAPL but I would say that in contrast to $IBM it felt as though #Buffett was attracted to the business and not simply a low earnings multiple. It certainly feels as though Apple's problems are cyclical and correctable. Even after decline he's basically flat on cost. | Replies: 0\n",
      "Tweet id: 1081007369528754176 | Date: 2019-01-03 | Time: 21:00:15 | Tweet: From the highs in Sep 2018, they say #AAPL lost #Facebook 😃 | Replies: 0\n",
      "Tweet id: 1081001990677778432 | Date: 2019-01-03 | Time: 20:38:53 | Tweet: It’s a service company now not s leader of innovation. Apple has replaceable written all over it $AAPL | Replies: 2\n",
      "Tweet id: 1081000966512615425 | Date: 2019-01-03 | Time: 20:34:49 | Tweet: @tim_cook sold several million worth of $aapl shares in late 2018. Coincidence? No new products in ages, overpriced and out of touch with reality. Time to go Tim, Apple needs a new CEO. | Replies: 0\n",
      "Tweet id: 1080997211167703040 | Date: 2019-01-03 | Time: 20:19:53 | Tweet: Could $AAPL problems get worse? Yes.  However Apple or Android mechanics can fix the problems or replace them. $AAPL | Replies: 0\n",
      "Tweet id: 1080995665017225216 | Date: 2019-01-03 | Time: 20:13:45 | Tweet: No ones running to upgrade anymore.  Hence $AAPL stock price. | Replies: 0\n",
      "Tweet id: 1080993190017040384 | Date: 2019-01-03 | Time: 20:03:55 | Tweet: I may have spent a little time worm-holing the smashing and pulping of apples today. Industrial films make the best gif mines and you learn things, even as more questions are raised.   Like why does this fella have a gun? I don’t know. Probably for Bears. $AAPL  pic.twitter.com/4xNFl6Lp8E | Replies: 1\n",
      "Tweet id: 1080989513869074432 | Date: 2019-01-03 | Time: 19:49:18 | Tweet: I love Bitcoin (and Cryoto generally). However I m willing to bet that Apple $AAPL will outperform Bitcoin $BTC in 2019. Any takers? | Replies: 2\n",
      "Tweet id: 1080984916572041217 | Date: 2019-01-03 | Time: 19:31:02 | Tweet: $AAPL is a cash cow (right now) but let's admit it, the company has not come forth with a revolutionary produce since Jobs. Apple Watch -- NO WAY, does not count. | Replies: 3\n",
      "Tweet id: 1080980559017459712 | Date: 2019-01-03 | Time: 19:13:43 | Tweet: $749 for the least expensive latest model phone is still too fucking much. In a couple years when AAPL has slowed down everyone's late model phone to the point where they are unusable, all AAPL will have left are hardcore phanbois. | Replies: 2\n",
      "Tweet id: 1080979914722033664 | Date: 2019-01-03 | Time: 19:11:09 | Tweet: When I got the earliest shipping date on my iPhone XR ordering 9 hours after sales went live, I knew something was terribly wrong. The next thing I did was sell all my AAPL stock at 222. Since Oct 19, AAPL is approaching a 50% haircut.  pic.twitter.com/JRfBjC0gQZ | Replies: 2\n",
      "Tweet id: 1080978972391952389 | Date: 2019-01-03 | Time: 19:07:25 | Tweet: Chinese consumers look for value, not high and luxury prices of iPhone X.  That’s where things went wrong for #Apple. $AAPL | Replies: 0\n"
     ]
    },
    {
     "name": "stdout",
     "output_type": "stream",
     "text": [
      "Tweet id: 1080973500209291264 | Date: 2019-01-03 | Time: 18:45:40 | Tweet: People invest in stock hope the company will grow. If apple revenue or profit decrease, and see no growing potential, no surprise that aapl drops. | Replies: 1\n",
      "Tweet id: 1080968312991944705 | Date: 2019-01-03 | Time: 18:25:03 | Tweet: Tesla has no focus, Rivian (and others such as Lucid) at least have a focus.  $AAPL could buy such start-ups for pennies to speed things up - or contract production to a company like Magna.  Apple‘s brand is strong enough to sell any gadget or car, no need for $TSLA | Replies: 1\n",
      "Tweet id: 1080964792406458370 | Date: 2019-01-03 | Time: 18:11:04 | Tweet: tbc, if we're talking about Apple's innovation in isolation, as opposed to broad tech...  AAPL structurally can't compete in voice interface, for reasons discussed here:  https://medium.com/@AnthPB/if-youre-interested-in-the-voice-interface-start-here-e664ae8702b9 …... | Replies: 1\n",
      "Tweet id: 1080962578891849728 | Date: 2019-01-03 | Time: 18:02:16 | Tweet: I’d be curious how many defined these subjective terms vs how Buffett would. In a mega cap like Apple, is anything worse than matching index returns a disappointment? I would assume this would be based on the risk premium he places on $AAPL. His next interviews will be telling. | Replies: 0\n",
      "Tweet id: 1080951554189025285 | Date: 2019-01-03 | Time: 17:18:28 | Tweet: Apple's China Troubles Are In Large Part Temporary $AAPL  https://seekingalpha.com/article/4231284  This has also a good point of view on China. | Replies: 0\n",
      "Tweet id: 1080947303924543489 | Date: 2019-01-03 | Time: 17:01:34 | Tweet: Love your work. Thanks.   It took $aapl   32 years to be worth $90 a share  And only 90 days to lose $90   Pop  @tim_cook retires after 50% normal Apple haircut. | Replies: 0\n",
      "Tweet id: 1080946781574385664 | Date: 2019-01-03 | Time: 16:59:30 | Tweet: Apple. $AAPL | Replies: 0\n",
      "Tweet id: 1080944221266370560 | Date: 2019-01-03 | Time: 16:49:19 | Tweet: I would love to see dip below $95 (not sure if that will happen) to truly load up on $AAPL. The trolls need to realize that apple is no longer a growth play, its a company that spits out cash and last year ROE was 55%.  Ill take that before investing in bonds. 😎 | Replies: 0\n",
      "Tweet id: 1080941697549455360 | Date: 2019-01-03 | Time: 16:39:18 | Tweet: $AAPL has been on a downward trend for a while now, and it makes sense. Price gouging, bent products from the factory, gunning for third party repairs, Apple is reaping the “rewards” for their behavior. | Replies: 0\n",
      "Tweet id: 1080941325413842946 | Date: 2019-01-03 | Time: 16:37:49 | Tweet: #DowJones Closed Down -660 pts -2.8% on #Apple plunge, rising fears economic slowdown, slowing #China #economy, ongoing #Trump #TradeWar #DJIA Was down as much as 707.83 pts #SP500 -2.48%/#Tech Sector -5% #NASDAQ -3% #Apple/$AAPL stock -9.96%  https://twitter.com/CNBCnow/status/1080932308356644864 … #stockmarket | Replies: 1\n",
      "Tweet id: 1080941139560226816 | Date: 2019-01-03 | Time: 16:37:05 | Tweet: Apple is now (40%) off its all time high.   $AAPL | Replies: 0\n",
      "Tweet id: 1080940954994032640 | Date: 2019-01-03 | Time: 16:36:21 | Tweet: Apple is now (40%) off its all time high.   $AAPL | Replies: 0\n",
      "Tweet id: 1080940785095331841 | Date: 2019-01-03 | Time: 16:35:40 | Tweet: Apple is now (40%) off its all time high.   $AAPL | Replies: 0\n",
      "Tweet id: 1080939591455203328 | Date: 2019-01-03 | Time: 16:30:56 | Tweet: @apple @applenews Fuck, I never knew I was SO influential, today I switched from Apple(iPhone7+) to OnePlus(6T), & Apple shares fell almost 10%, losing ~ $75bn in one day. AAPL has lost $440bn in the last 3 months coz Cook & Co is charging TOO MUCH for iPhones. Yeah, I said it! | Replies: 0\n",
      "Tweet id: 1080937642483695616 | Date: 2019-01-03 | Time: 16:23:11 | Tweet: @Apple stock today ended $0.19 above 52 week low of $142.00, also set today.  And $AAPL in 2018 bought back BILLION$ in their stock at prices that were ALL higher than today.  Hey @T_Cook what do you have to lose???  #taxscam. “They’ll invest it in growing their business...” | Replies: 0\n",
      "Tweet id: 1080936641064128512 | Date: 2019-01-03 | Time: 16:19:12 | Tweet: Judging by the comments, I see Apple is impressing everyone with their new line of ridiculously expensive phones! #tanking #stock #AAPL | Replies: 0\n",
      "Tweet id: 1080936446079299584 | Date: 2019-01-03 | Time: 16:18:26 | Tweet: #iPhones are made in china and the #Chinese dislike them - Unlike Americans they are smart and know when not to spend money!! #AAPL #Apple | Replies: 0\n",
      "Tweet id: 1080936070714294272 | Date: 2019-01-03 | Time: 16:16:56 | Tweet: \"Things we can control\" like censoring view points not favorable to #AAPL? $AAPL the party is over #Apple - How long did you think it would have lasted without diversification? | Replies: 0\n",
      "Tweet id: 1080933796394999808 | Date: 2019-01-03 | Time: 16:07:54 | Tweet: Part finance, part tech; it is trading in concert with $AAPL.  Apple announcement was a shot across Trump’s bow to express the real risks of tariffs & trade wars.  Apple will be fine; so will $SQ.  But, it may dip into $40s again along the way.  #fintech | Replies: 1\n",
      "Tweet id: 1080933277781950465 | Date: 2019-01-03 | Time: 16:05:50 | Tweet: Reed-would-be-a-great-CEO as-would-Iger-for-Apple  Have-Cook-move-into-the-COO-slot-again, though-after-this-400-billion$-goof-up and-evaporation,-He-really-deserves-the-Door  LIED-to-Investors-on-the-last-conference-call and--Unit-Sales-stunt-looks-worse-in-retrospect  $AAPL | Replies: 0\n",
      "Tweet id: 1080932674250911745 | Date: 2019-01-03 | Time: 16:03:26 | Tweet: Actually, @tim_cook and $AAPL are the victims of politics (trade war & the arrest of a chinese company's officer).  Their govt made it almost illegal to own anything Apple. | Replies: 0\n",
      "Tweet id: 1080931246514024449 | Date: 2019-01-03 | Time: 15:57:46 | Tweet: I double down Apple. $AAPL  pic.twitter.com/9sWUx7LPCY | Replies: 0\n",
      "Tweet id: 1080931035821424640 | Date: 2019-01-03 | Time: 15:56:56 | Tweet: But what if we get a big market rally or what if the trade war ends? AAPL could have a strong rally. So it is a little dangerous to short it right now, despite the fact that the fundamentals are really bad and will continue to be bad with no end in sight. | Replies: 0\n",
      "Tweet id: 1080930461080141824 | Date: 2019-01-03 | Time: 15:54:39 | Tweet: I think I can tell you what Dan's opinion is. The fundamentals on AAPL are very bad right now and will remain bad for a long time. But the stock is so beaten up that it could be dangerous to short it right now. There will continue to be negative catalysts for the stock. | Replies: 0\n",
      "Tweet id: 1080929838901403648 | Date: 2019-01-03 | Time: 15:52:10 | Tweet: Apple phone is worth more than $1000 + and AAPL stock > $230. But you may get it at 50% discount this year! | Replies: 1\n",
      "Tweet id: 1080924422410772481 | Date: 2019-01-03 | Time: 15:30:39 | Tweet: Curious how this will evolve over the next 12 months. After today's price move alone, Apple drops TWO spots falling behind Microsoft and Amazon but still rests ahead of Google.   Here's my prediction by year end:   1. $GOOG 2. $MSFT 3. $AMZN  4. $AAPL | Replies: 0\n",
      "Tweet id: 1080923408240644101 | Date: 2019-01-03 | Time: 15:26:37 | Tweet: I own a lot of AAPL and to be honest perhaps too much I have Apple sitting exactly on the 200 MA (weekly) .. Im sitting this one out This one could go to 120 -113 in no time and double the buyback i don't know | Replies: 1\n",
      "Tweet id: 1080922331973853184 | Date: 2019-01-03 | Time: 15:22:21 | Tweet: @WarrenBuffett 6 Months ago, $TSLA needed $AAPL’s cash. Now, Apple  needs Tesla’s technology and innovation. Tesla can now grow without Apple’s investment, but can $AAPL grow without acquiring companies like $TSLA? I think not. | Replies: 0\n",
      "Tweet id: 1080921399923855360 | Date: 2019-01-03 | Time: 15:18:38 | Tweet: Your thoughts on buying $AAPL here right above the EMA55 on te monthly? I’m thinking Apple @tim_cook will consider a share buyback given the major fall lately + the hundreds of billions they have lying around.. pic.twitter.com/ddSCwH19ot | Replies: 1\n",
      "Tweet id: 1080918895819550722 | Date: 2019-01-03 | Time: 15:08:41 | Tweet: If $AAPL wants to grow, it has to acquire or partner with company that has a great potential to grow. $TSLA fits the bill. Tesla has the technology and Apple has💰to push for global expansion. Hoarding cash has costed lost opportunities for past 7 yrs. Do not lose out on $TSLA! | Replies: 0\n",
      "Tweet id: 1080918432655306753 | Date: 2019-01-03 | Time: 15:06:51 | Tweet: $AAPL: iPhone market share has stagnated in China.  \"Apple has taken steps to court Chinese customers—[late, insignificant], and offered the iPhone in rose gold color.\"  Color? For the price it should be rose gold plated.  https://www.wsj.com/articles/apple-loses-ground-to-chinas-homegrown-rivals-11546524491 … | Replies: 1\n",
      "Tweet id: 1080914794637475840 | Date: 2019-01-03 | Time: 14:52:24 | Tweet: @tim_cook @Apple I been to many @verizon stores and @BestBuy and they don’t have iPad pros!!! Have them available might help this problem right now #aapl | Replies: 0\n",
      "Tweet id: 1080914092171227136 | Date: 2019-01-03 | Time: 14:49:36 | Tweet: @PeterLBrandt is calling for $46 $AAPL. This is a long time coming for Apple, their innovation died with Steve Jobs. #iPhoneXXX | Replies: 1\n",
      "Tweet id: 1080911863930601474 | Date: 2019-01-03 | Time: 14:40:45 | Tweet: #TechnicalAnalysis #Apple 30min chart $AAPL > 142$ is the waterline ...  PS: #SellAppleBuyGoogle or #BuyAppleSellGoogle ?  ( #YourOpinion  !? ^^ ) pic.twitter.com/dd9hhg1Ka5 | Replies: 0\n",
      "Tweet id: 1080910862003523584 | Date: 2019-01-03 | Time: 14:36:46 | Tweet: Tim-Cook Should-have-bought-Disney-or-Time-Warner a-year-ago-and-before-AT&T-beat-him-to-it  Revenue-that-recurs-every-month-for-Apple-TV-Premium-Cable-content  The-drop-in-market-value-alone-of-$350-Billion-would-have-paid-for-either-deal  @GerberKawasaki $AAPL $DIS $TWX $T | Replies: 1\n",
      "Tweet id: 1080901214693453824 | Date: 2019-01-03 | Time: 13:58:26 | Tweet: I would guess uncertainty toward the negative in the qtr led Apple to be hesitant. Allowed them to take a deep dive into all cash options. All while knowing there will only be downside in AAPL's stock price for the near future, allowing them to buyback at cheaper prices. No FOMO | Replies: 0\n",
      "Tweet id: 1080900932991438848 | Date: 2019-01-03 | Time: 13:57:19 | Tweet: For the Apple/Disney enthusiasts $AAPL $DIS Disney sells Village Farms Tomatoes. They have plenty of Florida growers to choose from near Orlando, but decided to sell the best produce they could find sourced from Texas. Photo taken at Animal Kingdom pic.twitter.com/PKzwf6ntf3 | Replies: 0\n",
      "Tweet id: 1080899752240312320 | Date: 2019-01-03 | Time: 13:52:37 | Tweet: Lower your prices. Sad that we can buy large smart TVs for less than the cost of a phone which is exactly like the last 7 you made. $AAPL | Replies: 0\n"
     ]
    },
    {
     "name": "stdout",
     "output_type": "stream",
     "text": [
      "Tweet id: 1080899219865493504 | Date: 2019-01-03 | Time: 13:50:30 | Tweet: Apple needs to do something. @apple just forecasted a big miss for Q1. Many replaced their battery with the battery promotional rate instead of upgrading to a newer iPhone. $AAPL weighing heavily on the markets due to China remarks. | Replies: 0\n",
      "Tweet id: 1080898864838778881 | Date: 2019-01-03 | Time: 13:49:06 | Tweet: From a @CNBC piece on how AAPL plans to improve sales: \"...Cook said he will focus on the factors Apple can control, like...its trade-in program and developing a payment plan for iPhones, rather than those he can't....” Notice what he didn't mention lol... | Replies: 0\n",
      "Tweet id: 1080897414414909441 | Date: 2019-01-03 | Time: 13:43:20 | Tweet: The entire discussion on $AAPL was breathtakingly obtuse because it failed to mention 5G! Samsung has a 5G phone ready to go; Apple won't have one until next year. Only an idiot would spend $1k on something about to become obsolete. | Replies: 0\n",
      "Tweet id: 1080896919050829825 | Date: 2019-01-03 | Time: 13:41:22 | Tweet: Now it is also running like the entire stock market, it's not like everyone else is making all-time high and apple is the only one who is selling off. There should be someone who is eating Apple's market??? $AAPL | Replies: 1\n",
      "Tweet id: 1080895252079235073 | Date: 2019-01-03 | Time: 13:34:44 | Tweet: of course Doug kass shorted AAPL at $100, all the way up over $200, then covered and got long bank stocks. Can't make that up.  And he's writing an article about apple??  LOL | Replies: 0\n",
      "Tweet id: 1080893998452088832 | Date: 2019-01-03 | Time: 13:29:45 | Tweet: Tim Cook blames China. But I watched a few YouTube Videos, they blame Apple's new pricing and its reduced satisfaction of customer services. I just think Tim Cook is not an innovator. Since Jobs died, nothing new came out of $aapl | Replies: 1\n",
      "Tweet id: 1080893625200988161 | Date: 2019-01-03 | Time: 13:28:16 | Tweet: The $AAPL 2015 high of $125s is a natural magnet... as is the legacy price gap of 123/117. It was 'curious' to see Carter Worth on fastmoney effectively highlighting the 2015 high, with Cramer touting $120 this morning. The more patient Apple bulls... will remain waiting. | Replies: 1\n",
      "Tweet id: 1080888900770398208 | Date: 2019-01-03 | Time: 13:09:30 | Tweet: In the meantime #American companies & farmers are suffering due to #TradeWar. Apple $aapl just dropped a big bomb on #StockMarket yesterday blaming #China sales. BTW, how is your #401k doing today?! | Replies: 0\n",
      "Tweet id: 1080888526684643328 | Date: 2019-01-03 | Time: 13:08:01 | Tweet: Holy cow - apparently some Goldman report DID compare Apple to Nokia!  And people say I'M hyperbolic.  $AAPL $NOK pic.twitter.com/ArDNaojH21 | Replies: 0\n",
      "Tweet id: 1080881390953160705 | Date: 2019-01-03 | Time: 12:39:40 | Tweet: @HalftimeReport @petenajarian @jonnajarian @terranovajoe @jlebenthal @jonfortt   WHOA. $aapl is down 8% because they cut revenues by 8% BUT APPLE is down 40% from when they GAVE THAT GUIDANCE. SO its down 48% for a 8% revenue cut.  Such BULLSHIT | Replies: 0\n",
      "Tweet id: 1080875455174115329 | Date: 2019-01-03 | Time: 12:16:04 | Tweet: $aapl @tim_cook  Press Release: App Store Caps Off Record-Breaking 2018 with Blockbuster Holiday Week *DJ Apple: App Store Spending Over $1.22 Billion Between Christmas Eve, New Year's Eve *DJ Apple: App Store Spending Over $322 Million on New Year's Day 2019 | Replies: 0\n",
      "Tweet id: 1080870982083141632 | Date: 2019-01-03 | Time: 11:58:18 | Tweet: @HalftimeReport @petenajarian @jonnajarian @terranovajoe @jlebenthal sold some $aapl near high because he was pissed on new metrics and fear #China sales were slow. Apple got many price cuts too. So the stk lost 40% on China news.  NOW it should lose MORE on SAME china news? | Replies: 1\n",
      "Tweet id: 1080870254648152066 | Date: 2019-01-03 | Time: 11:55:24 | Tweet: when Apple joined the Dow, the share price spread between BA and AAPL was relatively minor. then Boeing stock went on a tear. if BA drops big the weighting will drop. I don't see while people get so riled up about the Dow. | Replies: 1\n",
      "Tweet id: 1080870204509511680 | Date: 2019-01-03 | Time: 11:55:13 | Tweet: Who the fck told Apple that people want to upgrade to 1200 dollar iPhone X when they have a perfectly functional iPhone 7 or 8. That market has long saturated. Shares are merely seeing a correction. Revised target price for AAPL should be under 200/- to start making sense. | Replies: 0\n",
      "Tweet id: 1080870098313887744 | Date: 2019-01-03 | Time: 11:54:47 | Tweet: $aapl #Apple 🍎 $€££ the Rips 📈 👏  Cover the Dips 📉 🤑  and That's a #BOOM 💃🤗🎸🎶🎶🎶 @CNBCFastMoney @FoxBusiness @business pic.twitter.com/RUZCdHbTLE | Replies: 0\n",
      "Tweet id: 1080869330454278144 | Date: 2019-01-03 | Time: 11:51:44 | Tweet: And Apple is apparently buying back its stock starting at $142 in an attempt to maintain price above $145 ish. Wait a couple hours and AAPL will be back down again. They can’t empty their coffers all in one day. | Replies: 0\n",
      "Tweet id: 1080867550433546240 | Date: 2019-01-03 | Time: 11:44:40 | Tweet: very little... $nke and $aapl are both fad companies. They are both selling commodities and are only as good as customers perceive them to be. While people will pay up to some degree for a fad there are limits as Apple is finding out. | Replies: 1\n",
      "Tweet id: 1080866077377261568 | Date: 2019-01-03 | Time: 11:38:49 | Tweet: At least rotten apple 🍎 s don’t smell as bad as rotten taters lol!! $AAPL 😝🥔 | Replies: 0\n",
      "Tweet id: 1080865833205739520 | Date: 2019-01-03 | Time: 11:37:50 | Tweet: #China slow down and fewer #iPhone upgrades in developed markets for $AAPL #Apple. BUT - the company's also been ceding market share in China to likes of #Huawei #Oppo (Source: @CounterPointTR) pic.twitter.com/gVOBxtJZQ1 | Replies: 0\n",
      "Tweet id: 1080865272775561216 | Date: 2019-01-03 | Time: 11:35:37 | Tweet: The cynicism is remarkable. $AAPL priced the Home Pod at $349 but let Target loss lead them at $249. What is the goal here? Great little device for the Apple ecosystem caught in the crossfire. | Replies: 1\n",
      "Tweet id: 1080865209470857218 | Date: 2019-01-03 | Time: 11:35:22 | Tweet: #YEP $AAPL $SPX $SPY $SSO $UPRO $QLD $DDM $NDX $DOW #YEP #COOL #WOW #XD #AWESOME #APPLE  pic.twitter.com/eG9yxKU2Zw | Replies: 1\n",
      "Tweet id: 1080864334509686784 | Date: 2019-01-03 | Time: 11:31:53 | Tweet: Apple Inc. (AAPL)  The greatest company on the planet until Trump decided he knew something about trade when he clearly did not. | Replies: 0\n",
      "Tweet id: 1080864090279546882 | Date: 2019-01-03 | Time: 11:30:55 | Tweet: This message is for you @tim_cook and your executive team at Apple! $AAPL  https://twitter.com/RetProf77/status/1080849420445511680 … | Replies: 0\n",
      "Tweet id: 1080863528133701632 | Date: 2019-01-03 | Time: 11:28:41 | Tweet: I mean its a fund hotel that is burning down killing their numbers. It would be taboo to bring someone on saying to see how things shake out or god forbid to sell Apple $AAPL | Replies: 0\n",
      "Tweet id: 1080863346172329984 | Date: 2019-01-03 | Time: 11:27:57 | Tweet: AAPL market cap has lost 63 billion in 1 day (so far). 417 billion in the past 5 months. I should hope Apple gets the message. It's not _just_ China here, and it's not _just_ the cooling market. | Replies: 1\n",
      "Tweet id: 1080862619295145985 | Date: 2019-01-03 | Time: 11:25:04 | Tweet: I am not brokenhearted about @AppleInc_AAPL downturn. What do you expect. People of any country around the world don’t want to pay $1000 and more for a phone. Apple is greedy and I my iPhone will be lasting me for a while cuz I will NOT,I repeat,NOT pay that for a phone. | Replies: 0\n",
      "Tweet id: 1080859068586180608 | Date: 2019-01-03 | Time: 11:10:57 | Tweet: @CNBCFastMoney $AAPL--- CROOK NAJARIAN AND OTHER PUSHED APPLE SO MUCH. I TOLD AAPL WANT TO GO LOWER | Replies: 0\n",
      "Tweet id: 1080858814176546816 | Date: 2019-01-03 | Time: 11:09:57 | Tweet: But there is at least one Apple investor who may be rejoicing: Billionaire Warren Buffett who has said he would love to see $AAPL shares decline in price so he could buy more  https://reut.rs/2CNffqU  5/5 pic.twitter.com/yNNBTTJ1DH | Replies: 8\n",
      "Tweet id: 1080858810078715905 | Date: 2019-01-03 | Time: 11:09:56 | Tweet: Apple shares tumbled as much as 10 percent and the company's market cap dipped below that of Alphabet  https://reut.rs/2F3zP7E  3/5 $AAPL $GOOGL pic.twitter.com/MDadeh6jI3 | Replies: 1\n",
      "Tweet id: 1080858700900982784 | Date: 2019-01-03 | Time: 11:09:30 | Tweet: And if my rambles are just hot air in the wind and I’m saying it cos I’m an apple shareholder so I’m being defensive well 🤷🏼‍♂️  Warren buffets largest shareholding is in #AAPL ans he’s pretty good at this sorta thing | Replies: 0\n",
      "Tweet id: 1080857043890786304 | Date: 2019-01-03 | Time: 11:02:55 | Tweet: Agree vis a vis Berkshire repurchases. The whole enterprise is undervalued and it's a watered down way to effectively buy more $AAPL. $20 billion of $BRK.B gets you ~$2 billion of Apple. | Replies: 1\n"
     ]
    },
    {
     "name": "stdout",
     "output_type": "stream",
     "text": [
      "Tweet id: 1080856979642425344 | Date: 2019-01-03 | Time: 11:02:39 | Tweet: Is the \"trade war with China\" causing a decline in Apple $AAPL shares? It doesn't matter to me what the driver could be, I focus on the actual trend and its momentum. #TrendFollowing  https://www.bloomberg.com/news/articles/2019-01-03/white-house-s-hassett-says-china-trade-dispute-to-hurt-earnings … | Replies: 0\n",
      "Tweet id: 1080855766058311682 | Date: 2019-01-03 | Time: 10:57:50 | Tweet: @Carl_C_Icahn nice work getting #apple $aapl to take on all that debt for buybacks,dipshit. lol I’ll be sitting back waiting to buy 😉 | Replies: 0\n",
      "Tweet id: 1080855466807345152 | Date: 2019-01-03 | Time: 10:56:39 | Tweet: $AAPL is my largest holding and $BRK.B is #2 so I'm clearly in the Apple bull camp. This pull back, as Buffett pushes 90, should set me up well for next 10-15 years. But hey, I could be wrong. Awaiting the next 13-F and Apple earnings with bated breath. | Replies: 1\n",
      "Tweet id: 1080854977956982790 | Date: 2019-01-03 | Time: 10:54:42 | Tweet: @TJReazor @1DannyStewart Buy $AAPL. Such a good, long term investment. It is if you like apple sauce!!  pic.twitter.com/nYGkMGZRJ7 | Replies: 0\n",
      "Tweet id: 1080853561561493504 | Date: 2019-01-03 | Time: 10:49:05 | Tweet: Apple co-founder Ronald Wayne sold his 10% stake in $AAPL for $800. Current value: $76 billion. | Replies: 1\n",
      "Tweet id: 1080853240537849856 | Date: 2019-01-03 | Time: 10:47:48 | Tweet: Serious question: Did you know there's a % off high selection under the \"Fundamental Chart\" tab? Also interesting...look how many times $aapl @Apple has been 38% or more off it's high. Problem this time is. They're facing a fundamental problem w/a ceiling for iPhone sales.  pic.twitter.com/22LiH9U0NB | Replies: 2\n",
      "Tweet id: 1080847849896603648 | Date: 2019-01-03 | Time: 10:26:23 | Tweet: $AAPL has a #Facebook feel to it - at least for the next 2-3 qurtrs b/c of multiple problems and b/c #TimCook is NOT being honest w/investors - just like #Zuck and $FB - i.e., he never mentioned all the $QCOM restraining orders against #Apple for Patents | Replies: 2\n",
      "Tweet id: 1080846261702590466 | Date: 2019-01-03 | Time: 10:20:04 | Tweet: So why is he still the CEO for Apple? Apple needs someone who has experience in VC and invest in small companies that can help with future revenues. Need to use cash now for better future. $AAPL can no longer grow with iPhone and iPad alone. Not too late to invest in $TSLA! | Replies: 0\n",
      "Tweet id: 1080844445661171713 | Date: 2019-01-03 | Time: 10:12:51 | Tweet: Here is how I would describe Tim Cook. 1) Lacks innovation- no major innovation has occurred since Steve Jobs has passed away. 2) Lacks vision - cash could been used to buy $NFLX to  propel Apple TV. $TSLA? 3) Lacks understanding of consumers -people can’t afford $1k phone. $AAPL | Replies: 1\n",
      "Tweet id: 1080843723230142469 | Date: 2019-01-03 | Time: 10:09:59 | Tweet: @CNBCtech no the problems of $aapl are apple. $nke is a premium brand as well and there are much cheaper clothes names. It is about relative pricing abilities... | Replies: 0\n",
      "Tweet id: 1080839983366393856 | Date: 2019-01-03 | Time: 09:55:07 | Tweet: MORE: Apple's market cap dips below that of Alphabet as shares of iPhone maker dive $AAPL $GOOGL pic.twitter.com/gGWEg3lHUS | Replies: 3\n",
      "Tweet id: 1080839206174371843 | Date: 2019-01-03 | Time: 09:52:02 | Tweet: MORE: Apple shares on track for biggest intra-day percent fall in almost six years $AAPL  pic.twitter.com/V2wbZX22yz | Replies: 2\n",
      "Tweet id: 1080838922274566145 | Date: 2019-01-03 | Time: 09:50:54 | Tweet: -So watch out for Warren Buffet's BUY orders coming in sooner than $120.  - Apple is Berkshire Hathaway’s largest holding and makes up a whopping 21% of its portfolio ( portfolio diversification ? Hmm No) Enjoy trading $AAPL | Replies: 0\n",
      "Tweet id: 1080838291916771328 | Date: 2019-01-03 | Time: 09:48:24 | Tweet: There is so much Apple can do with iPhone and iPad. It’s time for something new. People are excited about EV’s future, but where is Apple in that market? $AAPL needs to use their idle cash and invest in $TSLA. If not, $AAPL will be the next Blackberry. Follow the innovation! | Replies: 0\n",
      "Tweet id: 1080838214150250497 | Date: 2019-01-03 | Time: 09:48:05 | Tweet: 3/?  $AAPL Has long been overvalued and has consistently failed to deliver innovation in mobile. The watch was good, but don't even mention their total failure in desktop & laptop computing. Where is Apple TV? Where is iTunes innovating? It's not junk but it's not good either. | Replies: 2\n",
      "Tweet id: 1080838073091571712 | Date: 2019-01-03 | Time: 09:47:32 | Tweet: $aapl was unable to go beyond being just another cell phone company. And it's not even the first. Ratings: 1. Huawei 2. Samsung 3. Apple 4. Xiaomi  How long is before Xiaomi takes over Apple? That will be game over. | Replies: 0\n",
      "Tweet id: 1080838010575441920 | Date: 2019-01-03 | Time: 09:47:17 | Tweet: $AAPL #AAPL $APPLE MA200 weekly, big question now is how many that wants Nokia 2.0 to save this price. Has to be pretty soon!  pic.twitter.com/lOh5eLhun1 | Replies: 1\n",
      "Tweet id: 1080837302736338951 | Date: 2019-01-03 | Time: 09:44:28 | Tweet: #Apple has dropped 30 percent in the final three months of 2018. #AAPL | Replies: 3\n",
      "Tweet id: 1080837265365131269 | Date: 2019-01-03 | Time: 09:44:19 | Tweet: DISGRACE!! $aapl issue was ENTIRELY #China. Do you think ANYONE there listens to #FakeNews media and what @tim_cook may or may not be saying about liberals' stupidity???  Apple got hit 35% already on China iPhone weakness. Now it gets hit AGAIN??  INSANITY.  @SusanLiTV | Replies: 0\n",
      "Tweet id: 1080837262101934080 | Date: 2019-01-03 | Time: 09:44:18 | Tweet: $AAPL #TimCook - China is the part of the story that Tim Cook wants you to know. What Cook's ego will not let him admit is that he screwed up and priced iPhones out - Let alone Trump tariff, Apple put a tariff on itself by increasing retail prices so much over last 18 months | Replies: 1\n",
      "Tweet id: 1080835825250783233 | Date: 2019-01-03 | Time: 09:38:36 | Tweet: Apple $AAPL shares start the day around 9% lower at $143.  Lowest level since July 2017.  pic.twitter.com/VqVhtEJ1Rj | Replies: 0\n",
      "Tweet id: 1080835772352061440 | Date: 2019-01-03 | Time: 09:38:23 | Tweet: @tim_cook if you can’t invest apples cash effectively return it all to us now. Apple should tender and buy all shares to $200. Enough squandering shareholders cash while you wander around your overpriced building. Steve Jobs would be sad to see this performance. $aapl | Replies: 2\n",
      "Tweet id: 1080833076907847680 | Date: 2019-01-03 | Time: 09:27:41 | Tweet: Been waiting for this opportunity to get into $AAPL.  Thing the bottom may be in the $133-$137 level.  Could hit $120's but do not want to miss out so will start to accumulate in the $130's.  #Apple | Replies: 0\n",
      "Tweet id: 1080832825593659393 | Date: 2019-01-03 | Time: 09:26:41 | Tweet: All kinds of questions on 5g implementation, coverage, network reliability, theoretical speed vs actual, etc...etc. I think it would be plain stupid of Apple to dive-in before these issues are worked out. $aapl | Replies: 0\n",
      "Tweet id: 1080832224898048000 | Date: 2019-01-03 | Time: 09:24:17 | Tweet: Official iOS 12 adoption stats as published by Apple through January 1, 2019. [It's not Nokia.] $AAPL  pic.twitter.com/2eDism9bho | Replies: 1\n",
      "Tweet id: 1080831120802021379 | Date: 2019-01-03 | Time: 09:19:54 | Tweet: Cook also mentioned that people are not upgrading as much as expected, which speaks to a much more serious problem -- new iPhone design/features are failing to attract consumers. #Apple #iPhone $AAPL | Replies: 0\n",
      "Tweet id: 1080828185737134080 | Date: 2019-01-03 | Time: 09:08:14 | Tweet: @cvpayne Charles - Re $AAPL  this looks more like an Apple specific issue that they believed people including China & India would pay $1000+ for a Google, Snapchat, YouTube, Twitter delivery device. Product strategy all wrong | Replies: 0\n",
      "Tweet id: 1080827848653447168 | Date: 2019-01-03 | Time: 09:06:54 | Tweet: Apple shares tumble after-hours as the iPhone maker cuts its sales forecast, citing weak China sales amid trade tensions  https://reut.rs/2CMm9MY  $AAPL  pic.twitter.com/gzLpx6bd6C | Replies: 0\n",
      "Tweet id: 1080823780476375041 | Date: 2019-01-03 | Time: 08:50:44 | Tweet: And $AAPL stumbles again. I’m currently waiting for seemingly “non-existent” replacement battery after @Apple sets up appt & had me drive 30 mi. Then says, “sorry, we installed the last battery this morning.” Hm, can’t call, email or message? #arrogance precedes a fall. | Replies: 0\n",
      "Tweet id: 1080823135434240000 | Date: 2019-01-03 | Time: 08:48:10 | Tweet: The next tell will be grumbling from inside of apple. No doubt that $AAPL will pivot to squeezing costs now.    Ultimately, I think that people’s privacy will be up for sale  when $AAPL starts monetizing customer info, $GOOGL style | Replies: 0\n"
     ]
    },
    {
     "name": "stdout",
     "output_type": "stream",
     "text": [
      "Tweet id: 1080820516410310656 | Date: 2019-01-03 | Time: 08:37:46 | Tweet: I wouldn't be surprise if $AAPL starts making original shows for Apple TV this year with big name actors/producers/directors to capture some of $NFLX market share | Replies: 0\n",
      "Tweet id: 1080817805455433728 | Date: 2019-01-03 | Time: 08:27:00 | Tweet: @tomkeene See email on $AAPL  The End of the Game For \"Larry Legend\" - Apple's 'Salad Days' Are Behind It | Replies: 0\n",
      "Tweet id: 1080816361926991873 | Date: 2019-01-03 | Time: 08:21:15 | Tweet: @jimcramer  Are $AAPL problems apple-centric? #ThinkBIG | Replies: 0\n",
      "Tweet id: 1080815001252888578 | Date: 2019-01-03 | Time: 08:15:51 | Tweet: @jimcramer you have extremely tough job.  I bought 1/3 Aapl at 200, 1/3 @ 185, 1/3 @ 175.  I hold myself accountable.  11/27/18 Mad Money\"Remember, Apple has the world's biggest buyback and next week I bet you they will be in there repurchasing this stock right alongside you.\" | Replies: 0\n",
      "Tweet id: 1080812263555051521 | Date: 2019-01-03 | Time: 08:04:58 | Tweet: I think AAPL needs to move back To all. They couldn't compare to Huawei. Chinese help Chinese. No doubt about. AAPl needs India or southwest market. I know Vietnam almost a billion populations. It's really good marketing there. Why China ????.... | Replies: 0\n",
      "Tweet id: 1080810286108606464 | Date: 2019-01-03 | Time: 07:57:07 | Tweet: nah, this problem has been a long time coming. Apple will probably eventually recover, but what's the rush to buy the stock now? Due to the market cap, If/when it does recover, it shouldn't shoot up so fast that investors can't get back in. Basically, make $aapl prove it. | Replies: 1\n",
      "Tweet id: 1080808293738647554 | Date: 2019-01-03 | Time: 07:49:12 | Tweet: Apple contends the injunction ONLY applies to phones on older iOS versions & will seek appeal. ANY good news from this litigation results in a rise in intraday stock price. Less pivotal good news will raise the price, setting stage for Q1 earnings beat to reestablish $AAPL. | Replies: 0\n",
      "Tweet id: 1080807735468396544 | Date: 2019-01-03 | Time: 07:46:59 | Tweet: $AAPL said last earnings that they wont focus anymore on iPhone sales but in services and many analysts wrote that $APPLE should be seen as a service company and from what Tim said yesterday their services grew a lot.. so why is this so bad?? @jimcramer | Replies: 0\n",
      "Tweet id: 1080806707083833344 | Date: 2019-01-03 | Time: 07:42:54 | Tweet: Apple’s avalanche is sparked by bad business decisions and taking advantage of its most loyal customers. As the a typical early adopter, I bought the first iPhone for $550 and had one ever since. Why does a core product with slowing innovation nearly double its price? $AAPL | Replies: 0\n",
      "Tweet id: 1080806641854021632 | Date: 2019-01-03 | Time: 07:42:38 | Tweet: Hahah yes!!! Thank you sir! However unlike buffet I never liked apple $aapl $200+ .... At $120 I'm a buyer | Replies: 1\n",
      "Tweet id: 1080806030504800256 | Date: 2019-01-03 | Time: 07:40:12 | Tweet: Over 25% of Berkshire is in Apple $AAPL equity...  \"Keep all your eggs in one basket, but watch that basket closely.\"  via @WarrenBuffett pic.twitter.com/NILUmk0o22 | Replies: 7\n",
      "Tweet id: 1080805947595866112 | Date: 2019-01-03 | Time: 07:39:52 | Tweet: He’s realised its the peak of VC valuation mania, and is pushing Uber to IPO, spun off 9434.T, praying for Sprint/T-mobile merger and looking to quickly unwind $NVDA. Given Softbank’s close ties with Apple, I’m sure he knew about $AAPL too. It’s a rapid cash grab just in time. | Replies: 0\n",
      "Tweet id: 1080798890302099461 | Date: 2019-01-03 | Time: 07:11:50 | Tweet: @Apple blames #China ,but is it really? They pocketed $1,000 for my #iPhoneXsMax 256gb which only costs $443 to make. Hard-core apple fans can’t put it on credit anymore. We are tapped out! People can no longer buy these phones! #GreedyBastards $AAPL @EveryApplePro @VenyaGeskin1 pic.twitter.com/TPnvR57hIq | Replies: 0\n",
      "Tweet id: 1080792918686875648 | Date: 2019-01-03 | Time: 06:48:06 | Tweet: @realmoney Berkshire has lost more than $20 billion on $AAPL shares from its peak price four months ago. @beckyquick @michaelsantoli @SquawkCNBC @jimcramer @tomkeene Apple's shares are now trading below Berkshire's cost basis! | Replies: 0\n",
      "Tweet id: 1080785958050516993 | Date: 2019-01-03 | Time: 06:20:27 | Tweet: Problem for AAPL is Apple itself. I have iPhone 6S Plus and iPad Pro 12.9 from its very first release. Other than upgrade battery, see no reason to upgrade. In fact, iPhone X with notch looks horrible. | Replies: 1\n",
      "Tweet id: 1080785542642569217 | Date: 2019-01-03 | Time: 06:18:48 | Tweet: @JoeSquawk $aapl China has no need to publicly telegraph their trade war strategy, but the country and its people move in unison. Why wouldn't they quietly boycott purchases of Apple products? | Replies: 0\n",
      "Tweet id: 1080785542009184256 | Date: 2019-01-03 | Time: 06:18:47 | Tweet: Problem for AAPL is Apple itself. I have iPhone 6S Plus and iPad Pro 12.9 from its very first release. Other than upgrade battery, see no reason to upgrade. In fact, iPhone X with notch looks horrible. | Replies: 0\n",
      "Tweet id: 1080778279928291329 | Date: 2019-01-03 | Time: 05:49:56 | Tweet: @TraceyRyniec   Got to read up Tracey!  This was an obvious one, you are barking up the wrong tree again.  So what is Zacks Kack rating on $AAPL, you should also have seen this coming as the stock had massive cuts. I love Apple, but LT.  https://twitter.com/SamRo/status/1080777687197802496 … | Replies: 0\n",
      "Tweet id: 1080778213461250049 | Date: 2019-01-03 | Time: 05:49:40 | Tweet: Question is, is it a $AAPL specific issue or a sign for global slowdown?  Imho Apples successful story could be over. Can’t see no growth anymore. | Replies: 1\n",
      "Tweet id: 1080777798036393984 | Date: 2019-01-03 | Time: 05:48:01 | Tweet: $AAPL - 2012 iPhone ASP  = $629 Vs Market ASP exc Apple = $246.   2018 iPhone ASP = $766 Vs Market ASP exc Apple = $162.   This can also be seen across the market for tablets, laptops and desktops. | Replies: 1\n",
      "Tweet id: 1080774628631609346 | Date: 2019-01-03 | Time: 05:35:25 | Tweet: $AAPL price target cuts the day AFTER Apple lowers guidance is the graffiti Old Wall has to wear. | Replies: 0\n",
      "Tweet id: 1080772817765847040 | Date: 2019-01-03 | Time: 05:28:14 | Tweet: Gee, thanks, Trump.  He does keep breaking America.  BTW, Apple ($AAPL) is one of the *only 30* companies which make up the Dow. | Replies: 0\n",
      "Tweet id: 1080758474160701441 | Date: 2019-01-03 | Time: 04:31:14 | Tweet: Who needs the Fed when you've got Apple #AAPL | Replies: 0\n",
      "Tweet id: 1080751679706931200 | Date: 2019-01-03 | Time: 04:04:14 | Tweet: .***AAPL just showed Donald J Trump who's the boss man of the global markets; Talk is cheap... DC SWAMP \"flame-out\" tax-cut just had a glitch!! -- Apple, China worries pummel Asian shares; 'flash crash' jolts...  https://reut.rs/2LOsDxQ  | Replies: 0\n",
      "Tweet id: 1080750263399518208 | Date: 2019-01-03 | Time: 03:58:36 | Tweet: $AAPL #AAPL $APPLE First green box was a good target, after yesterdays news I think we are heading down to next box, still trading around 146$ in after hours though but I would aim for 100$ here.  pic.twitter.com/CWnMn2kUMI | Replies: 1\n",
      "Tweet id: 1080747120368349191 | Date: 2019-01-03 | Time: 03:46:07 | Tweet: $AAPL declared a 5-10% decline when the overall market is starting to turn AND when the USA is having an unnecessary anti-free trade moment. The market is just overreacting. Tomorrow apple will be down 36-40% from the highs .... over 10% decline in estimates... #Overreaction! | Replies: 0\n",
      "Tweet id: 1080720996582211584 | Date: 2019-01-03 | Time: 02:02:19 | Tweet: And Danny seems to either love $AAPL or hate apple depends on what side of the trade he's on . #TOOL | Replies: 0\n",
      "Tweet id: 1080717964947701760 | Date: 2019-01-03 | Time: 01:50:16 | Tweet: Apple has a load of volatility selling products (autocalls or kick-outs) linked to it. With Apple down big after hours reports that an unwind of trades (imperfect hedges) where a AAPL longs were \"hedged\" with a basket of FX carry longs. With Japan still on holiday moves amplified | Replies: 1\n",
      "Tweet id: 1080715107838148608 | Date: 2019-01-03 | Time: 01:38:55 | Tweet: Gotta think $AAPL included the \"battery replacement\" rationale b/c (1) it seems exogenous to the fundamental health of iPhone and (2) unlike macro economic conditions in China, seems \"simple\" for #Apple to fix (by no longer offering the cheap replacement). | Replies: 0\n",
      "Tweet id: 1080703089877889024 | Date: 2019-01-03 | Time: 00:51:09 | Tweet: I think $AAPL has bigger systemic issues:  1) smart phone saturation  2) leading to commoditization  3) leading to lower prices from all competitors  4) leading to declining mkt share  5) Meanwhile Apple decides to RAISE prices in this environment. Very peculiar strategy. | Replies: 0\n",
      "Tweet id: 1080702413487497216 | Date: 2019-01-03 | Time: 00:48:28 | Tweet: Wat???  AAPL ticker name apple :/ | Replies: 1\n",
      "Tweet id: 1080698982043697154 | Date: 2019-01-03 | Time: 00:34:50 | Tweet: Check weekly chart. Apple is stretched so far from the mean that a bounce is inevitable. A nice one likely at that IMO.  $AAPL | Replies: 0\n",
      "Tweet id: 1080697907232366592 | Date: 2019-01-03 | Time: 00:30:34 | Tweet: This might be a nice buying opportunity imo. Apple’s real secret sauce is their ecosystem/operating systems.  I’m still bullish on $AAPL long term and you should be too unless you think smartphones aren’t here to stay. | Replies: 0\n",
      "Tweet id: 1080697226299621376 | Date: 2019-01-03 | Time: 00:27:51 | Tweet: More and more companies are confirming that President Trump’s trade war is slowing down the global economy.  On Wednesday, Apple (AAPL) shocked markets when it said revenue in its holiday quarter would miss expectations.:  https://finance.yahoo.com/news/apple-just-confirmed-stock-markets-225049102.html … | Replies: 0\n"
     ]
    },
    {
     "name": "stdout",
     "output_type": "stream",
     "text": [
      "Tweet id: 1080694888247640064 | Date: 2019-01-03 | Time: 00:18:34 | Tweet: In a saturated market and with slower upgrade cycles, Apple’s strategy has been to grow profits via share gains + higher ASPs. If you think they lied, you weren’t paying attention. $AAPL Strat is transparent, but it doesn’t work in this economy and with minor YOY iPhone upgrades. | Replies: 0\n",
      "Tweet id: 1080677006642163713 | Date: 2019-01-02 | Time: 23:07:31 | Tweet: I agree, but I think they are aware & will respond. We’ll just have to wait and see. I think the stock market is overreacting. You own an Apple made product that spans 5 different categories and I know you’re not an AAPL fanboy. That’s impressive. | Replies: 0\n",
      "Tweet id: 1080676981845442561 | Date: 2019-01-02 | Time: 23:07:25 | Tweet: When Tim Cook took Apple to $1 trillion MC, WS praised his success.   When Q1 guidance cut, WS wants him out for lack of innovation.   Just to show you how brutal people can be when dealing with money. $AAPL | Replies: 1\n",
      "Tweet id: 1080676205391622144 | Date: 2019-01-02 | Time: 23:04:20 | Tweet: I tend to believe the escalating trade war and Hoawei's CFO arrest created both a policy and Chinese consumer backlash against Apple. This will last.  Without that growth market, $AAPL will slow significantly for years to come. | Replies: 0\n",
      "Tweet id: 1080674366013300737 | Date: 2019-01-02 | Time: 22:57:01 | Tweet: Gotta tell you guys I have a straddle on Apple and that sucker just paid off big; I'll probably put a strangle on AAPL tomorrow as it'll probably whipsaw both up and down off of this fresh low. | Replies: 0\n",
      "Tweet id: 1080674190791970816 | Date: 2019-01-02 | Time: 22:56:19 | Tweet: And attached to Ipad pro.? #aapl own smart watch market now. Own tablet market. Prob make more off Mac books than anyone else in same category They make 90% of profits in smartphone market(revenue over sales) when results come out 🍺🍺 on me Slàinte🏴󠁧󠁢󠁳󠁣󠁴󠁿😎 | Replies: 0\n",
      "Tweet id: 1080671374820093952 | Date: 2019-01-02 | Time: 22:45:08 | Tweet: #Apple Plunges 8% After Cutting Q1 Revenue Guidance, Blames China; Nasdaq Tumbles  https://www.zerohedge.com/news/2019-01-02/apple-cuts-q1-revenue-guidance-blames-china-stock-halted … $AAPL | Replies: 0\n",
      "Tweet id: 1080667174224756736 | Date: 2019-01-02 | Time: 22:28:26 | Tweet: 2/ its like ipad being Phelps getting 9 gold medals at one Olympics but next one only getting 7 gold n 2 silver. Meanwhile his rivals left with the rest. #aapl owns the tablet space for now and forcible future. People seem to think #aapl are making a loss | Replies: 0\n",
      "Tweet id: 1080666541757218816 | Date: 2019-01-02 | Time: 22:25:56 | Tweet: \"China is Apple’s only hope for iPhone sales growth. The truth seems obvious: Apple reached peak iPhone unit sales a few years ago, and now that they’ve peaked... it’s going to result in an overall decline in sales.\" $AAPL  pic.twitter.com/cduOZu3ucZ | Replies: 1\n",
      "Tweet id: 1080662693126828032 | Date: 2019-01-02 | Time: 22:10:38 | Tweet: I think non $aapl like $msft $adbe $ba $jpm $csco etc. should be ok. Agree Trade war not growth. I don't care if they bring down $aapl cus I'm waiting 138 lmao. It's fucking cheap. I think Tim Cook will kill shorts . Why he announces this on 2019 not 2018. You dig? | Replies: 2\n",
      "Tweet id: 1080662299294064640 | Date: 2019-01-02 | Time: 22:09:04 | Tweet: Time to buy more $AAPL 😛.   They may do something (irrelevant). Would be super happy if they reduce iCloud price or up the storage quota. The Apple I know wouldn’t do it.🙁 | Replies: 0\n",
      "Tweet id: 1080662263068065792 | Date: 2019-01-02 | Time: 22:08:55 | Tweet: Can’t now, your stock just tanked after hours... $AAPL | Replies: 0\n",
      "Tweet id: 1080662156754903040 | Date: 2019-01-02 | Time: 22:08:30 | Tweet: spotify has taken over apple music. the apple ecosystem is dying. short aapl | Replies: 0\n",
      "Tweet id: 1080659502720999425 | Date: 2019-01-02 | Time: 21:57:57 | Tweet: AAPL: ... Lower than anticipated iPhone revenue, primarily in Greater China, accounts for all of our revenue shortfall to our guidance and for much more than our entire year-over-year revenue decline - Apple Cook | Replies: 0\n",
      "Tweet id: 1080653276234870784 | Date: 2019-01-02 | Time: 21:33:13 | Tweet: What's the matter Tim & Tom not liking your over valued Apple stock is taking it the shorts. Shorting AAPL is almost always a winning strategy.  Just because you sold out to China years ago for money only, doesn't mean we care about your greed. One too many worms in your Apple. | Replies: 0\n",
      "Tweet id: 1080652394613084160 | Date: 2019-01-02 | Time: 21:29:43 | Tweet: @natesilver538 How many times have we heard how strong the economy is? Or the pinheads @CNBC @CNBCFastMoney tells us to “OWN $AAPL Apple, don’t trade it”. Next govt payroll is 1/11/19, If govt remains closed; missed home, car payments will be late. Chaos is coming. Have a plan  https://twitter.com/dano_dmohr/status/1076970798122975232 … | Replies: 0\n",
      "Tweet id: 1080650575929376768 | Date: 2019-01-02 | Time: 21:22:29 | Tweet: I don't bet against AAPL... | Replies: 0\n",
      "Tweet id: 1080648925886013440 | Date: 2019-01-02 | Time: 21:15:56 | Tweet: AAPL has broken investor confidence. They better innovate fast or they will go the way fo Sony in the 90s | Replies: 0\n",
      "Tweet id: 1080647858460786691 | Date: 2019-01-02 | Time: 21:11:41 | Tweet: Also, rather than buying a new phone, you can simply replace your battery. Even through Apple. Extends the replacement cycle considerably and has to be sizeable hit to sales. I’m not the only person I know who has done so. $AAPL | Replies: 1\n",
      "Tweet id: 1080647484144259072 | Date: 2019-01-02 | Time: 21:10:12 | Tweet: Tim Cook is a pollitical-correctness obsessed corporatist bereft of innovation.  All Tim did was BS his way into the C-suite, get crappy plastic surgery and botox, then ride Apple on the back of Steve Jobs' corpse into the ground.  For shame!   $AAPL | Replies: 0\n",
      "Tweet id: 1080645910969896961 | Date: 2019-01-02 | Time: 21:03:57 | Tweet: The 2 biggest buyers of Apple-anything: AAPL and their Nebraskan bag-carrier.  Pray for EU currency traders.  The opportunists went straight to FOREX to exploit the timing.  Global currencies are in legitimate turmoil. | Replies: 0\n",
      "Tweet id: 1080644424944635904 | Date: 2019-01-02 | Time: 20:58:02 | Tweet: (I’m not the least bit worried about Apple the company right now. This for now is a financial guidance matter until FQ2 ends up being some kind of nightmare contagion revenue shortfall something or other.) cc @zcichy $AAPL | Replies: 0\n",
      "Tweet id: 1080643959347650561 | Date: 2019-01-02 | Time: 20:56:11 | Tweet: AAPL is today's WMT. Except Apple's shareholders are even less easily shaken out. | Replies: 0\n",
      "Tweet id: 1080643505641246721 | Date: 2019-01-02 | Time: 20:54:23 | Tweet: Dude - We own stock and I only made it half way.  Bitchen that Cook/Apple gets free space - but it turned into a promo.  I told Mrs at dinner I’d be buying her a bunch more $AAPL soon; I still think there’s a sweet opportunity on the horizon 💖🍏💰 | Replies: 0\n",
      "Tweet id: 1080640211330129920 | Date: 2019-01-02 | Time: 20:41:18 | Tweet: Now do Apple, Mr. President @realDonaldTrump $AAPL | Replies: 0\n",
      "Tweet id: 1080639259923660800 | Date: 2019-01-02 | Time: 20:37:31 | Tweet: #AAPL IS long term. Eg servicibles.More people are shifting to ios as opposed to ios to android. The upgrade hand down latency does not get looked at. The iphone has biggest resale value than android. So more people get an ios device and they stay with #aapl | Replies: 1\n",
      "Tweet id: 1080638155491950592 | Date: 2019-01-02 | Time: 20:33:08 | Tweet: What's more concerning for Q1 19 and for the rest of 2019 is that the trade-ins for older iPhones introduced by $AAPL for the first time ever, will start to hurt margins very badly next quarter onwards.  This is unchartered territory for Apple's margins. | Replies: 0\n",
      "Tweet id: 1080636888027926534 | Date: 2019-01-02 | Time: 20:28:06 | Tweet: $AAPL Apple’s iPhone Warning Comes Years Too Late @ShiraOvide  https://www.bloomberg.com/opinion/articles/2019-01-02/apple-s-iphone-warning-comes-years-too-late … @business pic.twitter.com/7Ra8EZY3mK | Replies: 0\n",
      "Tweet id: 1080636148148387840 | Date: 2019-01-02 | Time: 20:25:09 | Tweet: $AAPL down by over 30% since launch of iPhone XS. They will do something. This is after all, Tim Cook’s Apple. | Replies: 1\n",
      "Tweet id: 1080635284155518976 | Date: 2019-01-02 | Time: 20:21:43 | Tweet: The problems aren’t reserved just for Apple this is a tech wide and a market wide issue. AAPL cutting guidance is just an early bellwether. | Replies: 1\n",
      "Tweet id: 1080632117187497984 | Date: 2019-01-02 | Time: 20:09:08 | Tweet: nope apple's finding out that Trump is right b/c China's not buying aapl phones lesson learned they stick together | Replies: 0\n",
      "Tweet id: 1080629862329733120 | Date: 2019-01-02 | Time: 20:00:10 | Tweet: Wait, aren't you on TV, that's yer job to talk to Timmy.  Listen, if you buy one share of AAPL yer getting $50 of cash, and ergo getting it fer $96. Capiche? Or just go talk to Cramer, he's a big Apple cheerleader as am I. | Replies: 0\n",
      "Tweet id: 1080629177890463744 | Date: 2019-01-02 | Time: 19:57:27 | Tweet: #WarrenBuffett's #Apple $AAPL Losses Make His Track Record in Tech Even Worse  https://www.bloomberg.com/news/articles/2019-01-02/buffett-s-tech-track-record-gets-even-worse-with-apple-diving?srnd=technology-vp … | Replies: 1\n",
      "Tweet id: 1080626696062001152 | Date: 2019-01-02 | Time: 19:47:36 | Tweet: Aapl shot itself in the leg w $1300+ phones... | Replies: 0\n",
      "Tweet id: 1080625795599495168 | Date: 2019-01-02 | Time: 19:44:01 | Tweet: @jlebenthal @jonfortt @CNBCJosh  Re AAPL: \"First it has to be a phone.\"  -Me Their arrogant refusal to accept QCOM's technical excellence in the core technologies is at the heart of this class of device. Keep it up, Apple; good luck with that. \"Hello Moto!\" | Replies: 0\n",
      "Tweet id: 1080625703375130625 | Date: 2019-01-02 | Time: 19:43:39 | Tweet: It appears $AAPL took the advice, ramped price up to outrageous levels, and suffering.  Apple sales in countries like India totally collapsed due to price. | Replies: 0\n",
      "Tweet id: 1080624543373307904 | Date: 2019-01-02 | Time: 19:39:02 | Tweet: I think $AAPL troubles in China are not specific to Apple alone!  Smart phone sales in China are down high single digits 2018, with much sharper declines later 2018.  It is a broader reflection of Chinese weakness than trade or Huawei.  Samsung also has weak sales in China. | Replies: 1\n",
      "Tweet id: 1080623727316996097 | Date: 2019-01-02 | Time: 19:35:48 | Tweet: Oh I forgot besides stock buybacks Apple is focused on ripping off its fans increasing recklessly margins for basically the same product. Been short Aapl since 223 and not taking profit yet. Stock will visit new lows. | Replies: 0\n"
     ]
    },
    {
     "name": "stdout",
     "output_type": "stream",
     "text": [
      "Tweet id: 1080623471338680321 | Date: 2019-01-02 | Time: 19:34:47 | Tweet: It’s boils down to a greedy Tim & Apple / @AppleSupport -Not providing the masses with a reachable; Reasonably-priced refreshed #iPhoneSE - Just like they tried w/ending #iPhone5S  Gross, false pious culture with change needed ! 🧐 @WarrenBuffett $AAPL $QQQ $VXX @Carl_C_Icahn | Replies: 0\n",
      "Tweet id: 1080620721498279936 | Date: 2019-01-02 | Time: 19:23:51 | Tweet: Geeez Josh, $84,000,000,000 in the quarter for Apple is something your pissed about??? I’ll keep my #AAPL and will continue to add to it the next 6 month. Thanks 🤔😊🇺🇸 @CNBCFastMoney @SquawkCNBC @CNBC @petenajarian | Replies: 0\n",
      "Tweet id: 1080618174457040897 | Date: 2019-01-02 | Time: 19:13:44 | Tweet: Apple organic demand is not slowing (excluding macroeconomic issues).The bigger you get the harder it is to keep up with growth %, nonetheless your re still growing.   Big $$$ uses apple products.   AAPL seems to be more focused on growing the services (iCloud, Apple Music, etc) | Replies: 0\n",
      "Tweet id: 1080617040187088897 | Date: 2019-01-02 | Time: 19:09:13 | Tweet: @Apple @tim_cook gave many excuses for why #iPhone sales will be weaker than expected except for the biggest one: they’ve become too damned expensive. $AAPL | Replies: 0\n",
      "Tweet id: 1080616468146839552 | Date: 2019-01-02 | Time: 19:06:57 | Tweet: Good point Dina, if it is dark, being blindfolded matters little... I think  Apple's slowing iPhone share is already reflected in the sharp drop of AAPL from $233. However the magnitude of the miss is indeed surprising and a credibility loss for Cook&co... | Replies: 0\n",
      "Tweet id: 1080614573671997441 | Date: 2019-01-02 | Time: 18:59:25 | Tweet: their installed unit base has grown by 100M in 2018 + they have 130B of cash on the balance sheet. They could have sacrificed margins & ramped up discounting, but maintained discipline instead.  $AAPL #AAPL #Apple #StockMarket | Replies: 0\n",
      "Tweet id: 1080614339810332672 | Date: 2019-01-02 | Time: 18:58:30 | Tweet: Yes. Its not phone market saturation, of which Apple lives and breaths (68% of rev), its Trump.  Just a little news for you NYT snowflakes, latest Iphones cost 1200-2000$ in Europe. One Plus and Xiaomo for similar perf can be bought for 500$. Game over for AAPL | Replies: 0\n",
      "Tweet id: 1080613925001912320 | Date: 2019-01-02 | Time: 18:56:51 | Tweet: $AAPL price to earnings is now 12x. Huge buying opportunity. If Apple is smart (and of course they are) they will aggressively buy back undervalued shares.  This said, it does feel like a new era for Apple. Transformation from growth stock into a dividend gusher is now complete. | Replies: 0\n",
      "Tweet id: 1080613390626799616 | Date: 2019-01-02 | Time: 18:54:43 | Tweet: It is not about cheap batteries, they got caught slowing down older phones when new phones are being released and they can't do that anymore..... @Apple $AAPL $MSFT $GOOGL $AMZN $IBM $ORCL $CRM $TSLA $BB $SNAP $FB @WSJ @business @Reuters @BGR | Replies: 0\n",
      "Tweet id: 1080613348524417025 | Date: 2019-01-02 | Time: 18:54:33 | Tweet: It is not about cheap batteries, they got caught slowing down older phones when new phones are being released and they can't do that anymore..... @Apple $AAPL $MSFT $GOOGL $AMZN $IBM $ORCL $CRM $TSLA $BB $SNAP $FB @WSJ @business @Reuters @BGR | Replies: 1\n",
      "Tweet id: 1080612232210325504 | Date: 2019-01-02 | Time: 18:50:07 | Tweet: It is not about cheap batteries, they got caught slowing down older phones when new phones are being released and they can't do that anymore..... @Apple $AAPL $MSFT $GOOGL $AMZN $IBM $ORCL $CRM $TSLA $BB $SNAP $FB @WSJ @business @Reuters @BGR | Replies: 1\n",
      "Tweet id: 1080610575825227776 | Date: 2019-01-02 | Time: 18:43:32 | Tweet: Every single company on Earth would jump in Apples shoes in a second. If share price goes down @Apple will just buy back more shares n save a tonne of 💰💰💰 follow @asymco you will get a better picture. Wearables & services will make 💰💰for #AAPL | Replies: 0\n",
      "Tweet id: 1080610307662319617 | Date: 2019-01-02 | Time: 18:42:28 | Tweet: $135-coming  $AAPL  Maybe-Buffet-and-Apple-take-it-private  I'm-a-Buyer-tomorrow-if-more-Blood-in-the-Streets  #PeaceFrog | Replies: 0\n",
      "Tweet id: 1080609731499225088 | Date: 2019-01-02 | Time: 18:40:11 | Tweet: So, Came-back-from-Holiday-to-more-great-news?  lol  $AAPL  By-tomorrow-the-new-formed-Hedge-Fund-#KPMR-will-have-a-5%-stake-in-Apple  Kushner Putin MBS Ross  Everything-Trump-touches-turns-South  #TradeWar #China Everyone-saw-this-coming-in-slow-motion It's-80%-Trade-War-related | Replies: 0\n",
      "Tweet id: 1080608827035267073 | Date: 2019-01-02 | Time: 18:36:35 | Tweet: @tim_cook , crack open the wallet & buy $NFLX , it's on holiday clearance for Pete's sake! $AAPL #Apple | Replies: 0\n",
      "Tweet id: 1080607516306874369 | Date: 2019-01-02 | Time: 18:31:23 | Tweet: .Tim Cook the weather boy. #WinterIsComing #Apple $AAPL #FAANG #SPX pic.twitter.com/Hux27FifFF | Replies: 0\n",
      "Tweet id: 1080607437248356353 | Date: 2019-01-02 | Time: 18:31:04 | Tweet: Price hikes & reliance on China (aka, debt bubble). Corporate finance: balance sheet cash position has been falling. So all $AAPL #Apple needs now is… err… stronger dollar… wait… wait… | Replies: 0\n",
      "Tweet id: 1080606004260130816 | Date: 2019-01-02 | Time: 18:25:22 | Tweet: Berkshire Hathaway is taking a significant beating on its AAPL position..Estimates are loss in excess of $15 bil in value .#apple | Replies: 1\n",
      "Tweet id: 1080605665041793024 | Date: 2019-01-02 | Time: 18:24:01 | Tweet: FWIW, following the after-hour drop in AAPL, he updated his thoughts:  \". . . The economic slowdown in China that has caused this is bound to persist and grow worse, but my gut feeling is that Apple shares have taken enough pounding lately to be ready to rally on bad news . . . \" | Replies: 0\n",
      "Tweet id: 1080604777753366528 | Date: 2019-01-02 | Time: 18:20:30 | Tweet: $AAPL Memojis getting pretty defensive in this Apple guidedown.  pic.twitter.com/QBoYeaBr3D | Replies: 0\n",
      "Tweet id: 1080604226118660096 | Date: 2019-01-02 | Time: 18:18:18 | Tweet: And @BlackBerry CEO @JohnChen has not issued such revenue decline warnings like what @Apple CEO @tim_cook just did...  $AAPL $MSFT $GOOGL $AMZN $IBM $ORCL $CRM $TSLA $BB $SNAP $FB @WSJ @business @Reuters @BGR | Replies: 0\n",
      "Tweet id: 1080604178546937857 | Date: 2019-01-02 | Time: 18:18:07 | Tweet: And @BlackBerry CEO @JohnChen has not issued such revenue decline warnings like what @Apple CEO @tim_cook just did...  $AAPL $MSFT $GOOGL $AMZN $IBM $ORCL $CRM $TSLA $BB $SNAP $FB @WSJ @business @Reuters @BGR | Replies: 0\n",
      "Tweet id: 1080604018194505730 | Date: 2019-01-02 | Time: 18:17:29 | Tweet: And @BlackBerry CEO @JohnChen has not issued such revenue decline warnings like what @Apple CEO @tim_cook just did...  $AAPL $MSFT $GOOGL $AMZN $IBM $ORCL $CRM $TSLA $BB $SNAP $FB @WSJ @business @Reuters @BGR | Replies: 0\n",
      "Tweet id: 1080603404274204674 | Date: 2019-01-02 | Time: 18:15:02 | Tweet: \"Encouragement, hope & praying are NOT a trading strategy\"    $AAPl #blackberry $BBRY #Apple | Replies: 0\n",
      "Tweet id: 1080602607301869569 | Date: 2019-01-02 | Time: 18:11:52 | Tweet: @CNBCFastMoney chill guys the future was down 350 this morning, the market was down 450 today then we all know how it ended #applenews  time to eat the apple and put remaining in the freeze. $AAPL | Replies: 0\n",
      "Tweet id: 1080600823313252354 | Date: 2019-01-02 | Time: 18:04:47 | Tweet: 🍎 📸 Most #Apple $AAPL money belongs to Congo and they know it.  The Necessary mineral cobalt is used in all cellphones & laptops. Most of it comes from the country #Congo, which has 80% of worlds Cobalt mineral.  Hidden Slavery.  https://twitter.com/tim_cook/status/1033714083894243328 … pic.twitter.com/qH7wGBIHh2 | Replies: 0\n",
      "Tweet id: 1080600315542622213 | Date: 2019-01-02 | Time: 18:02:46 | Tweet: It's Tim cook's letter citing \"Chinese weakness\", and y/y fall in Apple revenue. US500 made -0.6% in 10 min, AAPL -7%. | Replies: 0\n",
      "Tweet id: 1080599811059900418 | Date: 2019-01-02 | Time: 18:00:46 | Tweet: Apple down 8% after hours :(  https://finance.yahoo.com/quote/AAPL?p=AAPL&.tsrc=fin-srch … $AAPL | Replies: 2\n",
      "Tweet id: 1080598875361013760 | Date: 2019-01-02 | Time: 17:57:03 | Tweet: 🍎 Apple Incorporated - #WallStreet NASDAQ #AAPL $AAPL #iPhone #CongoCurse     Hidden Slavery.  https://twitter.com/tim_cook/status/1033714083894243328 …  https://twitter.com/Occupy007/status/1039296373764452352 … cc @Tim_Cook | Replies: 1\n"
     ]
    },
    {
     "name": "stdout",
     "output_type": "stream",
     "text": [
      "Tweet id: 1080597974390956032 | Date: 2019-01-02 | Time: 17:53:28 | Tweet: 🍎 Apple Incorporated - #WallStreet NASDAQ #AAPL $AAPL #iPhone #CongoCurse Hidden Slavery.  https://twitter.com/tim_cook/status/1033714083894243328 … https://twitter.com/Occupy007/status/1039296373764452352 … | Replies: 0\n",
      "Tweet id: 1080596958329229312 | Date: 2019-01-02 | Time: 17:49:26 | Tweet: Moral of this thread: A slowdown in China is largely the biggest reason for Apple's reduced forecast, and other reasons are unforced errors on Apple's part, no matter how much they try to blame unforeseen circumstances.  More on $AAPL:  https://on.mktw.net/2QjLiBZ  | Replies: 0\n",
      "Tweet id: 1080596702355169283 | Date: 2019-01-02 | Time: 17:48:25 | Tweet: @GuyAdami SO $aapl sold OFF from $210 because people were afraid of LOWER iPhone sales. OK now Apple says ur right so we sell off AGAIN???????  @CNBCJosh @jonfortt | Replies: 0\n",
      "Tweet id: 1080596295331598337 | Date: 2019-01-02 | Time: 17:46:47 | Tweet: It seems the customers voted that the iPhones XS, XS Max & XR are overpriced, forcing $AAPL to advertise discounts in the same calendar quarter they were introduced. Netflix saying no to the Apple tax is a warning of things to come to Apple's highest profit margin activity. | Replies: 0\n",
      "Tweet id: 1080595335741874176 | Date: 2019-01-02 | Time: 17:42:59 | Tweet: What happened to APPLE?? $AAPL | Replies: 0\n",
      "Tweet id: 1080594876880822272 | Date: 2019-01-02 | Time: 17:41:09 | Tweet: bottom line:  Apple’s business is shrinking for the first time in years. $aapl is most definitely not a growth stock | Replies: 2\n",
      "Tweet id: 1080594474609401856 | Date: 2019-01-02 | Time: 17:39:33 | Tweet: Apple's guidance -  technical s & the interview were/are all HORRENDOUS $AAPL $VXX $SDS | Replies: 0\n",
      "Tweet id: 1080593054866624513 | Date: 2019-01-02 | Time: 17:33:55 | Tweet: Trade war, I suspect $AAPL will be a big loser as will all FAANGS. Xi will direct local companies in an all out assault on Apple. Chinese folks wont want to buy iPhones because it will mean you are being unpatriotic. Foxconn shifting to India too.  Things getting local again. | Replies: 1\n",
      "Tweet id: 1080592741812314112 | Date: 2019-01-02 | Time: 17:32:40 | Tweet: I guess it's time to re-post what I said two years ago.....I was ridiculed for it by Apple fans everywhere.....my AAPL <$100B mkt cap fcst....\"Where exactly is Taiwan and why did the Chinese get so pissed off when I took that phone call?\"  https://deep-throat-ipo.blogspot.com/2017/01/oooppssus-foreign-policy-is-about-to_22.html … … pic.twitter.com/1EOemKcqJr | Replies: 0\n",
      "Tweet id: 1080592601009524736 | Date: 2019-01-02 | Time: 17:32:07 | Tweet: This is a reason for both China and the US to want to FIX trade tensions which ultimately will be a good thing for investors. I'm sure @Apple $aapl and the market will take a hit short term, but this single data point is NOT a reason to panic and sell other stocks. | Replies: 0\n",
      "Tweet id: 1080592495837249536 | Date: 2019-01-02 | Time: 17:31:42 | Tweet: Apple is small, most of my $$$ is in $IVV and the average buy price is around $300, all good mate, I'm still up overall since 2014 but given up a lot of profits due to the recent ~20% drop in $IVV and ~40% in $AAPL | Replies: 0\n",
      "Tweet id: 1080592429538074625 | Date: 2019-01-02 | Time: 17:31:26 | Tweet: many of my diehard friends of apple producta , bought Leneo laptops beside that aapl is manufacturing new iphones in india which used to account for 10% of sale. apple will loose all the margins. so i think appl will show earning slow down in few quarters, skeptic of 145 level | Replies: 0\n",
      "Tweet id: 1080592342657175552 | Date: 2019-01-02 | Time: 17:31:05 | Tweet: #Cook said the variety of @apple products & their price spread, made raw phone sales less meaningful than the expanded data $Aapl offers in other areas.  https://twitter.com/zapher134/status/1080589337836904450?s=19 … | Replies: 0\n",
      "Tweet id: 1080591361374441472 | Date: 2019-01-02 | Time: 17:27:11 | Tweet: Casey. Same. Looks like we’re the pblm, any why Tim Cook announced Apple’s lowered forecasts; slowing sales of smartphones and other devices in China. $AAPL fell 7.6% in after-hours trading. I still have the fix for every photo-sharing device. Scanned photo content to upload.  pic.twitter.com/oy5xttPBUD | Replies: 0\n",
      "Tweet id: 1080591156071796736 | Date: 2019-01-02 | Time: 17:26:22 | Tweet: @satyanadella was handed a company frozen in time and made it NUMBER ONE IN THE WORLD ($msft). @tim_cook is too busy running his mouth on social issue BS and not running $aapl. CHANGE NEEDED AT #APPLE! New CEO. No #innovation. @CNBCFastMoney @CNBCClosingBell | Replies: 0\n",
      "Tweet id: 1080591149193142272 | Date: 2019-01-02 | Time: 17:26:21 | Tweet: kass destroyed on AAPL  Taken a Loss on a Trading Short Rental of Apple DOUG KASS Aug 2, 2018 10:30 AM EDT I took my loss on a trading short rental of Apple on the opening. | Replies: 0\n",
      "Tweet id: 1080590844997050368 | Date: 2019-01-02 | Time: 17:25:08 | Tweet: Taken a Loss on a Trading Short Rental of Apple DOUG KASS Aug 2, 2018 10:30 AM EDT I took my loss on a trading short rental of Apple on the opening.  Seabreeze crushed again on AAPL. Kass saying to short since $100, he covered at $200 | Replies: 0\n",
      "Tweet id: 1080590763904458752 | Date: 2019-01-02 | Time: 17:24:49 | Tweet: Thanks Selina...I guess it's time to re-post what I said two years ago.....I was ridiculed for it by Apple fans everywhere.....my AAPL <$100B mkt cap fcst....\"Where exactly is Taiwan and why did the Chinese get so pissed off when I took that phone call?\"  https://deep-throat-ipo.blogspot.com/2017/01/oooppssus-foreign-policy-is-about-to_22.html … pic.twitter.com/qeN9pQvn8U | Replies: 1\n",
      "Tweet id: 1080590621797220353 | Date: 2019-01-02 | Time: 17:24:15 | Tweet: @realmoney @riskreversal @jimcramer Jan 02, 2019 | 05:10 PM EST DOUG KASS  More Lessons Learned Here are some lessons/conclusions/concerns from Apple's (AAPL) lower guidance:  * Be skeptical of company buybacks -- as I suggested in this afternoon's post. | Replies: 1\n",
      "Tweet id: 1080590219957678082 | Date: 2019-01-02 | Time: 17:22:39 | Tweet: Rudderless or riding out the smartphone slowdown until the next big consumer gadget reveals itself? $AAPL never been one to go first. AR is next - and Apple prepared - but still too early imo. Stock gets interesting if we break $140 | Replies: 0\n",
      "Tweet id: 1080590172603977729 | Date: 2019-01-02 | Time: 17:22:28 | Tweet: many of my friends who were apple fans buying everything apple this time bought benevolent instead of apple which should have served indication that AAPL is a dud. | Replies: 0\n",
      "Tweet id: 1080589704767131648 | Date: 2019-01-02 | Time: 17:20:36 | Tweet: Tim, what a pity. AAPL pre-announced a reduction in revenue today. I am glad to be part of the cause as a result of you imposing your morality (self determined hate speech etc) on us previous Apple customers. Ya, previous No more IPhones, No more Ipads etc! ! ! !  Hello Samsung. | Replies: 1\n",
      "Tweet id: 1080589477859479552 | Date: 2019-01-02 | Time: 17:19:42 | Tweet: $XIACF Xiaomi is eating away at Apple market share overseas but Apple won't say this!  If you do a little homework it is quite clear. Mr. Gerber needs to do some homework but looks like Bill did his! $AAPL | Replies: 0\n",
      "Tweet id: 1080589202226462721 | Date: 2019-01-02 | Time: 17:18:36 | Tweet: @jiveDurkey SURPRISED to hear @tim_cook, @Apple lowered forecasts; slowing sales of smartphones and other devices in China. $AAPL fell 7.6% in after-hours trading. At  http://ow.ly/4WEh30nv17  we can help—providing digital photo content for their devices:  http://ow.ly/TMJu30nav18  pic.twitter.com/jJm1PgoDZW | Replies: 0\n",
      "Tweet id: 1080589168881926153 | Date: 2019-01-02 | Time: 17:18:28 | Tweet: The bottom line is that it’s time for a real WOW apple product!  It can’t be just “sales” that drives the bottom line.  Apple Loyalists need a real new toy! $aapl | Replies: 1\n",
      "Tweet id: 1080588903357149184 | Date: 2019-01-02 | Time: 17:17:25 | Tweet: $AAPL 10/1 = 224.00  Apple today: 153.00  pic.twitter.com/FIV4gyN9dg | Replies: 0\n",
      "Tweet id: 1080588006900318209 | Date: 2019-01-02 | Time: 17:13:51 | Tweet: UPDATE: well after spending another couple hours on phone it seems #apple $aapl was able to fix problem over the phone. 👍🏻 Thanks! | Replies: 0\n",
      "Tweet id: 1080586935477911552 | Date: 2019-01-02 | Time: 17:09:36 | Tweet: Haha, yes indeed. I bought $AAPL at $245 prior to the 7:1 split so I’m just holding. Apple will figure it out and I think they’ll continue to innovate. | Replies: 1\n",
      "Tweet id: 1080586690429927425 | Date: 2019-01-02 | Time: 17:08:37 | Tweet: Yeah, so from about 91B it go to 84B. So the fall from $220 should gone to about .... $200 (-10% revenue decline).... so actually that was good news #Apple #AAPL $AAPL @tim_cook | Replies: 1\n",
      "Tweet id: 1080586103097384960 | Date: 2019-01-02 | Time: 17:06:17 | Tweet: @AAPL Apple lowers Q1 guidance; rev to $84 bln from $89-93 bln vs $91.37 bln S&P Capital IQ Consensus Estimate....   Apple Cuts Q1 Gross Margin Forecast From 38-38.5% To ~38% | Replies: 0\n",
      "Tweet id: 1080584699637047297 | Date: 2019-01-02 | Time: 17:00:43 | Tweet: Pretty good move. $VXX is spiking back up after hours on the Apple $AAPL guidance cut. | Replies: 0\n",
      "Tweet id: 1080584480434343936 | Date: 2019-01-02 | Time: 16:59:51 | Tweet: Yes, way too many excuses. l liquidated my $aapl and will invest more in $tsla on this dip. Just like Tim Cook should have done some time ago. Apple leadership out of touch with reality. | Replies: 3\n"
     ]
    },
    {
     "name": "stdout",
     "output_type": "stream",
     "text": [
      "Tweet id: 1080584458376499200 | Date: 2019-01-02 | Time: 16:59:45 | Tweet: analyst on CNBC (sell rating on $AAPL)... \"Cook needs to be fired\", \"Apple is going out of business\", \"the next Iphone is an Ipod\", \"there's 0 excitement\"... LOL | Replies: 1\n",
      "Tweet id: 1080584077311438848 | Date: 2019-01-02 | Time: 16:58:14 | Tweet: @jlebenthal @ScottWapnerCNBC Hey I like you and love your morning abow with Cramer but you were busting Jims balls about buying Apple now or 7 bucks lower today. He just proved his point why he was waiting. Lower AAPL guidance. Stand your ground Jim. GREAT CALL!!! | Replies: 0\n",
      "Tweet id: 1080583529430282240 | Date: 2019-01-02 | Time: 16:56:04 | Tweet: Apple off 7.5% on the news. $AAPL  pic.twitter.com/ftJXqvaDeH | Replies: 0\n",
      "Tweet id: 1080583131936231424 | Date: 2019-01-02 | Time: 16:54:29 | Tweet: The most important part of today’s @Apple announcement is getting left out of the news: “Finally, we also expect to report a new all-time record for Apple’s earnings per share.” -Tim Cook $AAPL | Replies: 1\n",
      "Tweet id: 1080582132878139397 | Date: 2019-01-02 | Time: 16:50:31 | Tweet: Just waiting for Warren to let us know he sold in the 200s ... He'll be on CNBC tomorrow again most likely spewing how he sees Apple still as a great company but just not fitting his portfolio anymore. $AAPL $spx $spy pic.twitter.com/yxpI7rFvZd | Replies: 1\n",
      "Tweet id: 1080581959175290881 | Date: 2019-01-02 | Time: 16:49:49 | Tweet: $AAPL is not the first to fall after the carnage in many tech related names last year. Obviously, growth outside the US is contagious. Here is how Apple’s EPS expectations have weakened over the last 6 months & will be weakening more now after the warning. Not good.  pic.twitter.com/pszze8arLs | Replies: 0\n",
      "Tweet id: 1080581842737098752 | Date: 2019-01-02 | Time: 16:49:22 | Tweet: Hmmm? Out of pocket, but just found a TV w/ #CNBC on as a note said \"$AAPL sees Q1 Revs of $84bil vs $91.4b est. Will resume trading at 4:50pmET.\" GUESSING this could be a 12-15% drop within minutes. Not good for #Apple OR the Markets | Replies: 2\n",
      "Tweet id: 1080580468871913478 | Date: 2019-01-02 | Time: 16:43:54 | Tweet: $AAPL: We \"expect to report a new all-time record for Apple’s earnings per share.\" | Replies: 0\n",
      "Tweet id: 1080580191137775617 | Date: 2019-01-02 | Time: 16:42:48 | Tweet: @tim_cook Face it, #Apple is now a one hit wonder. Try some #innovation. Take a shot. IT'S A PHONE! \"Make it bigger, make it smaller, make it bigger....raise the price\" is the @aapl MO. | Replies: 0\n",
      "Tweet id: 1080580125832499201 | Date: 2019-01-02 | Time: 16:42:32 | Tweet: \"There's not as many subsidies as their used to be from a carrier point of view,\" says Tim Cook on CNBC trying to explain iPhone sales weakness. That's not new or surprising though. Much higher prices from Apple? No mention  $AAPL | Replies: 0\n",
      "Tweet id: 1080579490835656704 | Date: 2019-01-02 | Time: 16:40:01 | Tweet: oh, that. carry on. $AAPL 🍺😎🍿 Apple warns on Q1 results  https://www.cnbc.com/2019/01/02/apple-warns-on-q1-results.html … | Replies: 0\n",
      "Tweet id: 1080578996545323008 | Date: 2019-01-02 | Time: 16:38:03 | Tweet: $AAPL \"Based on these estimates, our revenue will be lower than our original guidance for the quarter, with other items remaining broadly in line with our guidance.\"  Apple lowers revised its Q1 guidance lower in a letter to investors from CEO Tim Cook.   https://www.cnbc.com/2019/01/02/apple-warns-on-q1-results.html … | Replies: 1\n",
      "Tweet id: 1080578943793745920 | Date: 2019-01-02 | Time: 16:37:51 | Tweet: \"Letter from Tim Cook to Apple Investors\"  $AAPL  pic.twitter.com/quKe9RbRgr | Replies: 0\n",
      "Tweet id: 1080578492952043520 | Date: 2019-01-02 | Time: 16:36:03 | Tweet: \"When we discussed our Q1 guidance with you about 60 days ago, we knew the first quarter would be impacted by both macroeconomic and Apple-specific factors. \" $AAPL | Replies: 2\n",
      "Tweet id: 1080578168044613632 | Date: 2019-01-02 | Time: 16:34:46 | Tweet: Sweet Hesus:  Apple Revises Q1 Guidance $AAPL  I'm assuming, to the downside. Wonder how well Mr. Market is going to take that bomb throw. | Replies: 1\n",
      "Tweet id: 1080577800686448651 | Date: 2019-01-02 | Time: 16:33:18 | Tweet: Today we are revising our guidance for Apple’s fiscal 2019 first quarter, which ended on December 29. We now expect the following: (see attached)  $AAPL  pic.twitter.com/Dd5o0I4LiJ | Replies: 2\n",
      "Tweet id: 1080466415612817408 | Date: 2019-01-02 | Time: 09:10:42 | Tweet: I'm an Apple FAAN boy $AAPL | Replies: 0\n",
      "Tweet id: 1080420633614434304 | Date: 2019-01-02 | Time: 06:08:46 | Tweet: True, but wierd, since @Apple has 2x the earnings of @Microsoft and as I recall about 3x the cash on hand. Remind me to buy more AAPL | Replies: 0\n",
      "Tweet id: 1080364629417553921 | Date: 2019-01-02 | Time: 02:26:14 | Tweet: It's been over three years since Netflix (NASDAQ:NFLX) first started offering in-app subscriptions through Apple's (NASDAQ:AAPL) App Store, forking over a 30% cut of any subscriptions sold through that particular distribution channel. $NFLX | Replies: 1\n",
      "Tweet id: 1080345400031174657 | Date: 2019-01-02 | Time: 01:09:49 | Tweet: Need only to look at a $TSLA skateboard, for example, to realize auto manufacturing is going by the way of smartphones. I predict Foxconn will be building an Apple car within the next 5 years. $TSLAQ $AAPL @benedictevans | Replies: 2\n",
      "Tweet id: 1080305788114137089 | Date: 2019-01-01 | Time: 22:32:25 | Tweet: @tim_cook @Qualcomm #Apple, #TimCook / #Apple the hypocrite. It’s OK for them to do this, but not for #qualcomm to collect royalties for its technology.  Apple (AAPL) takes 30% of revenue for third-party app sales through its iTunes App Store. | Replies: 0\n",
      "Tweet id: 1080298058292834304 | Date: 2019-01-01 | Time: 22:01:42 | Tweet: $AAPL buys Peloton... Peloton bikes demo-able in Apple stores... premium product & price point and focus on health a perfect fit... subscriptions = services revenue... | Replies: 1\n",
      "Tweet id: 1080294828100018176 | Date: 2019-01-01 | Time: 21:48:52 | Tweet: @elonmusk @tim_cook For 2019, Apple should partner w/ Tesla to build iCar (rebadged Model 3 with iOS software integration). Partnership will combine great software with best EV tech. Dominance can be created to make it difficult for ICE companies to sell inferior 🚗. $TSLA $AAPL | Replies: 1\n",
      "Tweet id: 1080292828910182401 | Date: 2019-01-01 | Time: 21:40:55 | Tweet: I think it is time to say goodbye to AAPL. | Replies: 0\n",
      "Tweet id: 1080215818896588801 | Date: 2019-01-01 | Time: 16:34:55 | Tweet: $AAPL Apple Inc.  http://bit.ly/HWLvmJ   Play long after this breakout till  163 #Trade9  Stop is $ less pic.twitter.com/IlOkmoqTuS | Replies: 0\n",
      "Tweet id: 1080183198686965760 | Date: 2019-01-01 | Time: 14:25:18 | Tweet: 2. AirPods will continue their dominance as the most important AAPL product since the iPhone. We will see new use cases and social networks emerge as Apple opens up the AirPods API. | Replies: 18\n",
      "Tweet id: 1080125507289534464 | Date: 2019-01-01 | Time: 10:36:03 | Tweet: Apple facts won't, and haven't in the past, squashed the $AAPL's doomed narrative. Steady as she goes. | Replies: 0\n",
      "Tweet id: 1080101363512619008 | Date: 2019-01-01 | Time: 09:00:07 | Tweet: From common sense, I’d guess: - Tweeting “AAPL buy/sell signal because fundamentals X and technicals Y”, while holding no Apple stake myself: Ok. - Doing the same on a penny stock I own without disclaimer: Not ok. - Selling the same AAPL analysis in a newsletter: Don’t know. | Replies: 0\n",
      "[+] Finished: Successfully collected 980 Tweets.\n"
     ]
    }
   ],
   "source": [
    "c = twint.Config()\n",
    "c.Search = 'Apple', 'aapl'\n",
    "c.Since = '2019-01-01'\n",
    "c.Until = '2019-02-28'\n",
    "c.Limit = 1000\n",
    "c.Store_csv = True\n",
    "c.Pandas = True\n",
    "c.Replies = True\n",
    "c.Lang = 'en'\n",
    "c.Count = True\n",
    "c.Format = \"Tweet id: {id} | Date: {date} | Time: {time} | Tweet: {tweet} | Replies: {replies}\"\n",
    "c.Custom['tweet'] = ['id', 'date', 'time', 'tweet','replies']\n",
    "twint.run.Search(c) "
   ]
  },
  {
   "cell_type": "code",
   "execution_count": 7,
   "metadata": {},
   "outputs": [
    {
     "data": {
      "text/plain": [
       "Index(['id', 'conversation_id', 'created_at', 'date', 'timezone', 'place',\n",
       "       'tweet', 'hashtags', 'cashtags', 'user_id', 'user_id_str', 'username',\n",
       "       'name', 'day', 'hour', 'link', 'retweet', 'nlikes', 'nreplies',\n",
       "       'nretweets', 'quote_url', 'search', 'near', 'geo', 'source',\n",
       "       'user_rt_id', 'user_rt', 'retweet_id', 'reply_to', 'retweet_date',\n",
       "       'translate', 'trans_src', 'trans_dest'],\n",
       "      dtype='object')"
      ]
     },
     "execution_count": 7,
     "metadata": {},
     "output_type": "execute_result"
    }
   ],
   "source": [
    "twint.output.panda.Tweets_df.columns"
   ]
  },
  {
   "cell_type": "code",
   "execution_count": 8,
   "metadata": {
    "scrolled": true
   },
   "outputs": [
    {
     "data": {
      "text/plain": [
       "Index(['id', 'conversation_id', 'created_at', 'date', 'timezone', 'place',\n",
       "       'tweet', 'hashtags', 'cashtags', 'user_id', 'user_id_str', 'username',\n",
       "       'name', 'day', 'hour', 'link', 'retweet', 'nlikes', 'nreplies',\n",
       "       'nretweets', 'quote_url', 'search', 'near', 'geo', 'source',\n",
       "       'user_rt_id', 'user_rt', 'retweet_id', 'reply_to', 'retweet_date',\n",
       "       'translate', 'trans_src', 'trans_dest'],\n",
       "      dtype='object')"
      ]
     },
     "execution_count": 8,
     "metadata": {},
     "output_type": "execute_result"
    }
   ],
   "source": [
    "twint.output.panda.Tweets_df.columns"
   ]
  },
  {
   "cell_type": "code",
   "execution_count": 9,
   "metadata": {
    "scrolled": true
   },
   "outputs": [
    {
     "data": {
      "text/html": [
       "<div>\n",
       "<style scoped>\n",
       "    .dataframe tbody tr th:only-of-type {\n",
       "        vertical-align: middle;\n",
       "    }\n",
       "\n",
       "    .dataframe tbody tr th {\n",
       "        vertical-align: top;\n",
       "    }\n",
       "\n",
       "    .dataframe thead th {\n",
       "        text-align: right;\n",
       "    }\n",
       "</style>\n",
       "<table border=\"1\" class=\"dataframe\">\n",
       "  <thead>\n",
       "    <tr style=\"text-align: right;\">\n",
       "      <th></th>\n",
       "      <th>id</th>\n",
       "      <th>conversation_id</th>\n",
       "      <th>created_at</th>\n",
       "      <th>date</th>\n",
       "      <th>timezone</th>\n",
       "      <th>place</th>\n",
       "      <th>tweet</th>\n",
       "      <th>hashtags</th>\n",
       "      <th>cashtags</th>\n",
       "      <th>user_id</th>\n",
       "      <th>...</th>\n",
       "      <th>geo</th>\n",
       "      <th>source</th>\n",
       "      <th>user_rt_id</th>\n",
       "      <th>user_rt</th>\n",
       "      <th>retweet_id</th>\n",
       "      <th>reply_to</th>\n",
       "      <th>retweet_date</th>\n",
       "      <th>translate</th>\n",
       "      <th>trans_src</th>\n",
       "      <th>trans_dest</th>\n",
       "    </tr>\n",
       "  </thead>\n",
       "  <tbody>\n",
       "    <tr>\n",
       "      <th>0</th>\n",
       "      <td>1100848143451807745</td>\n",
       "      <td>1041770783792455680</td>\n",
       "      <td>1551297624000</td>\n",
       "      <td>2019-02-27 15:00:24</td>\n",
       "      <td>-0400</td>\n",
       "      <td></td>\n",
       "      <td>Official iOS 12 adoption stats as published by...</td>\n",
       "      <td>[#peerless]</td>\n",
       "      <td>[$aapl]</td>\n",
       "      <td>740928303020802048</td>\n",
       "      <td>...</td>\n",
       "      <td></td>\n",
       "      <td></td>\n",
       "      <td></td>\n",
       "      <td></td>\n",
       "      <td></td>\n",
       "      <td>[{'user_id': '740928303020802048', 'username':...</td>\n",
       "      <td></td>\n",
       "      <td></td>\n",
       "      <td></td>\n",
       "      <td></td>\n",
       "    </tr>\n",
       "  </tbody>\n",
       "</table>\n",
       "<p>1 rows × 33 columns</p>\n",
       "</div>"
      ],
      "text/plain": [
       "                    id      conversation_id     created_at  \\\n",
       "0  1100848143451807745  1041770783792455680  1551297624000   \n",
       "\n",
       "                  date timezone place  \\\n",
       "0  2019-02-27 15:00:24    -0400         \n",
       "\n",
       "                                               tweet     hashtags cashtags  \\\n",
       "0  Official iOS 12 adoption stats as published by...  [#peerless]  [$aapl]   \n",
       "\n",
       "              user_id  ... geo source user_rt_id  user_rt retweet_id  \\\n",
       "0  740928303020802048  ...                                             \n",
       "\n",
       "                                            reply_to  retweet_date  translate  \\\n",
       "0  [{'user_id': '740928303020802048', 'username':...                            \n",
       "\n",
       "   trans_src  trans_dest  \n",
       "0                         \n",
       "\n",
       "[1 rows x 33 columns]"
      ]
     },
     "execution_count": 9,
     "metadata": {},
     "output_type": "execute_result"
    }
   ],
   "source": [
    "#turning our tweet information into a pandas dataframe\n",
    "\n",
    "tweets = twint.output.panda.Tweets_df\n",
    "tweets.head(1)"
   ]
  },
  {
   "cell_type": "markdown",
   "metadata": {},
   "source": [
    "### Yahoo Data Aggregation"
   ]
  },
  {
   "cell_type": "markdown",
   "metadata": {},
   "source": [
    "Now for stock data. We will need to pull 30 days of stock data as our target variable. We will use Yahoo Finance to do so. "
   ]
  },
  {
   "cell_type": "code",
   "execution_count": 10,
   "metadata": {},
   "outputs": [
    {
     "name": "stdout",
     "output_type": "stream",
     "text": [
      "[*********************100%***********************]  1 of 1 completed\n",
      "                  Open        High         Low       Close   Adj Close  \\\n",
      "Date                                                                     \n",
      "2019-02-21  171.800003  172.369995  170.300003  171.059998  168.394089   \n",
      "2019-02-22  171.580002  173.000000  171.380005  172.970001  170.274307   \n",
      "2019-02-25  174.160004  175.869995  173.949997  174.229996  171.514664   \n",
      "2019-02-26  173.710007  175.300003  173.169998  174.330002  171.613113   \n",
      "2019-02-27  173.210007  175.000000  172.729996  174.869995  172.144699   \n",
      "\n",
      "              Volume  \n",
      "Date                  \n",
      "2019-02-21  17249700  \n",
      "2019-02-22  18913200  \n",
      "2019-02-25  21873400  \n",
      "2019-02-26  17070200  \n",
      "2019-02-27  27835400  \n"
     ]
    }
   ],
   "source": [
    "import yfinance as yf\n",
    "\n",
    "# Get the data\n",
    "stock_data = yf.download(tickers=\"AAPL\",start=\"2019-01-01\", end=\"2019-02-28\")\n",
    "\n",
    "# Print the data\n",
    "print(stock_data.tail())"
   ]
  },
  {
   "cell_type": "code",
   "execution_count": 11,
   "metadata": {},
   "outputs": [
    {
     "data": {
      "text/html": [
       "<div>\n",
       "<style scoped>\n",
       "    .dataframe tbody tr th:only-of-type {\n",
       "        vertical-align: middle;\n",
       "    }\n",
       "\n",
       "    .dataframe tbody tr th {\n",
       "        vertical-align: top;\n",
       "    }\n",
       "\n",
       "    .dataframe thead th {\n",
       "        text-align: right;\n",
       "    }\n",
       "</style>\n",
       "<table border=\"1\" class=\"dataframe\">\n",
       "  <thead>\n",
       "    <tr style=\"text-align: right;\">\n",
       "      <th></th>\n",
       "      <th>Open</th>\n",
       "      <th>High</th>\n",
       "      <th>Low</th>\n",
       "      <th>Close</th>\n",
       "      <th>Adj Close</th>\n",
       "      <th>Volume</th>\n",
       "    </tr>\n",
       "    <tr>\n",
       "      <th>Date</th>\n",
       "      <th></th>\n",
       "      <th></th>\n",
       "      <th></th>\n",
       "      <th></th>\n",
       "      <th></th>\n",
       "      <th></th>\n",
       "    </tr>\n",
       "  </thead>\n",
       "  <tbody>\n",
       "    <tr>\n",
       "      <th>2019-01-02</th>\n",
       "      <td>154.889999</td>\n",
       "      <td>158.850006</td>\n",
       "      <td>154.229996</td>\n",
       "      <td>157.919998</td>\n",
       "      <td>154.794983</td>\n",
       "      <td>37039700</td>\n",
       "    </tr>\n",
       "    <tr>\n",
       "      <th>2019-01-03</th>\n",
       "      <td>143.979996</td>\n",
       "      <td>145.720001</td>\n",
       "      <td>142.000000</td>\n",
       "      <td>142.190002</td>\n",
       "      <td>139.376251</td>\n",
       "      <td>91312200</td>\n",
       "    </tr>\n",
       "    <tr>\n",
       "      <th>2019-01-04</th>\n",
       "      <td>144.529999</td>\n",
       "      <td>148.550003</td>\n",
       "      <td>143.800003</td>\n",
       "      <td>148.259995</td>\n",
       "      <td>145.326126</td>\n",
       "      <td>58607100</td>\n",
       "    </tr>\n",
       "    <tr>\n",
       "      <th>2019-01-07</th>\n",
       "      <td>148.699997</td>\n",
       "      <td>148.830002</td>\n",
       "      <td>145.899994</td>\n",
       "      <td>147.929993</td>\n",
       "      <td>145.002686</td>\n",
       "      <td>54777800</td>\n",
       "    </tr>\n",
       "    <tr>\n",
       "      <th>2019-01-08</th>\n",
       "      <td>149.559998</td>\n",
       "      <td>151.820007</td>\n",
       "      <td>148.520004</td>\n",
       "      <td>150.750000</td>\n",
       "      <td>147.766861</td>\n",
       "      <td>41025300</td>\n",
       "    </tr>\n",
       "  </tbody>\n",
       "</table>\n",
       "</div>"
      ],
      "text/plain": [
       "                  Open        High         Low       Close   Adj Close  \\\n",
       "Date                                                                     \n",
       "2019-01-02  154.889999  158.850006  154.229996  157.919998  154.794983   \n",
       "2019-01-03  143.979996  145.720001  142.000000  142.190002  139.376251   \n",
       "2019-01-04  144.529999  148.550003  143.800003  148.259995  145.326126   \n",
       "2019-01-07  148.699997  148.830002  145.899994  147.929993  145.002686   \n",
       "2019-01-08  149.559998  151.820007  148.520004  150.750000  147.766861   \n",
       "\n",
       "              Volume  \n",
       "Date                  \n",
       "2019-01-02  37039700  \n",
       "2019-01-03  91312200  \n",
       "2019-01-04  58607100  \n",
       "2019-01-07  54777800  \n",
       "2019-01-08  41025300  "
      ]
     },
     "execution_count": 11,
     "metadata": {},
     "output_type": "execute_result"
    }
   ],
   "source": [
    "stock_data = pd.DataFrame(stock_data)\n",
    "stock_data.head()"
   ]
  },
  {
   "cell_type": "code",
   "execution_count": 12,
   "metadata": {
    "scrolled": false
   },
   "outputs": [
    {
     "data": {
      "text/plain": [
       "(39, 6)"
      ]
     },
     "execution_count": 12,
     "metadata": {},
     "output_type": "execute_result"
    }
   ],
   "source": [
    "stock_data.shape"
   ]
  },
  {
   "cell_type": "code",
   "execution_count": 13,
   "metadata": {
    "scrolled": true
   },
   "outputs": [
    {
     "data": {
      "text/html": [
       "<div>\n",
       "<style scoped>\n",
       "    .dataframe tbody tr th:only-of-type {\n",
       "        vertical-align: middle;\n",
       "    }\n",
       "\n",
       "    .dataframe tbody tr th {\n",
       "        vertical-align: top;\n",
       "    }\n",
       "\n",
       "    .dataframe thead th {\n",
       "        text-align: right;\n",
       "    }\n",
       "</style>\n",
       "<table border=\"1\" class=\"dataframe\">\n",
       "  <thead>\n",
       "    <tr style=\"text-align: right;\">\n",
       "      <th></th>\n",
       "      <th>Open</th>\n",
       "      <th>High</th>\n",
       "      <th>Low</th>\n",
       "      <th>Close</th>\n",
       "      <th>Adj Close</th>\n",
       "      <th>Volume</th>\n",
       "    </tr>\n",
       "    <tr>\n",
       "      <th>Date</th>\n",
       "      <th></th>\n",
       "      <th></th>\n",
       "      <th></th>\n",
       "      <th></th>\n",
       "      <th></th>\n",
       "      <th></th>\n",
       "    </tr>\n",
       "  </thead>\n",
       "  <tbody>\n",
       "    <tr>\n",
       "      <th>2019-01-02</th>\n",
       "      <td>154.889999</td>\n",
       "      <td>158.850006</td>\n",
       "      <td>154.229996</td>\n",
       "      <td>157.919998</td>\n",
       "      <td>154.794983</td>\n",
       "      <td>37039700</td>\n",
       "    </tr>\n",
       "    <tr>\n",
       "      <th>2019-01-03</th>\n",
       "      <td>143.979996</td>\n",
       "      <td>145.720001</td>\n",
       "      <td>142.000000</td>\n",
       "      <td>142.190002</td>\n",
       "      <td>139.376251</td>\n",
       "      <td>91312200</td>\n",
       "    </tr>\n",
       "    <tr>\n",
       "      <th>2019-01-04</th>\n",
       "      <td>144.529999</td>\n",
       "      <td>148.550003</td>\n",
       "      <td>143.800003</td>\n",
       "      <td>148.259995</td>\n",
       "      <td>145.326126</td>\n",
       "      <td>58607100</td>\n",
       "    </tr>\n",
       "    <tr>\n",
       "      <th>2019-01-07</th>\n",
       "      <td>148.699997</td>\n",
       "      <td>148.830002</td>\n",
       "      <td>145.899994</td>\n",
       "      <td>147.929993</td>\n",
       "      <td>145.002686</td>\n",
       "      <td>54777800</td>\n",
       "    </tr>\n",
       "    <tr>\n",
       "      <th>2019-01-08</th>\n",
       "      <td>149.559998</td>\n",
       "      <td>151.820007</td>\n",
       "      <td>148.520004</td>\n",
       "      <td>150.750000</td>\n",
       "      <td>147.766861</td>\n",
       "      <td>41025300</td>\n",
       "    </tr>\n",
       "  </tbody>\n",
       "</table>\n",
       "</div>"
      ],
      "text/plain": [
       "                  Open        High         Low       Close   Adj Close  \\\n",
       "Date                                                                     \n",
       "2019-01-02  154.889999  158.850006  154.229996  157.919998  154.794983   \n",
       "2019-01-03  143.979996  145.720001  142.000000  142.190002  139.376251   \n",
       "2019-01-04  144.529999  148.550003  143.800003  148.259995  145.326126   \n",
       "2019-01-07  148.699997  148.830002  145.899994  147.929993  145.002686   \n",
       "2019-01-08  149.559998  151.820007  148.520004  150.750000  147.766861   \n",
       "\n",
       "              Volume  \n",
       "Date                  \n",
       "2019-01-02  37039700  \n",
       "2019-01-03  91312200  \n",
       "2019-01-04  58607100  \n",
       "2019-01-07  54777800  \n",
       "2019-01-08  41025300  "
      ]
     },
     "execution_count": 13,
     "metadata": {},
     "output_type": "execute_result"
    }
   ],
   "source": [
    "dfs = stock_data\n",
    "dfs.head()"
   ]
  },
  {
   "cell_type": "markdown",
   "metadata": {},
   "source": [
    "# Scrub and Combine Data"
   ]
  },
  {
   "cell_type": "markdown",
   "metadata": {},
   "source": [
    "### Clean Twitter Data"
   ]
  },
  {
   "cell_type": "markdown",
   "metadata": {},
   "source": [
    "Here we will build a function to remove and clean unnessary text from our twitter data. All of these items listed below make it more difficult for our model to understand the sentiment/meaning of the tweets we are going to run.  "
   ]
  },
  {
   "cell_type": "code",
   "execution_count": 14,
   "metadata": {
    "scrolled": false
   },
   "outputs": [
    {
     "data": {
      "text/html": [
       "<div>\n",
       "<style scoped>\n",
       "    .dataframe tbody tr th:only-of-type {\n",
       "        vertical-align: middle;\n",
       "    }\n",
       "\n",
       "    .dataframe tbody tr th {\n",
       "        vertical-align: top;\n",
       "    }\n",
       "\n",
       "    .dataframe thead th {\n",
       "        text-align: right;\n",
       "    }\n",
       "</style>\n",
       "<table border=\"1\" class=\"dataframe\">\n",
       "  <thead>\n",
       "    <tr style=\"text-align: right;\">\n",
       "      <th></th>\n",
       "      <th>id</th>\n",
       "      <th>conversation_id</th>\n",
       "      <th>created_at</th>\n",
       "      <th>date</th>\n",
       "      <th>timezone</th>\n",
       "      <th>place</th>\n",
       "      <th>tweet</th>\n",
       "      <th>hashtags</th>\n",
       "      <th>cashtags</th>\n",
       "      <th>user_id</th>\n",
       "      <th>...</th>\n",
       "      <th>geo</th>\n",
       "      <th>source</th>\n",
       "      <th>user_rt_id</th>\n",
       "      <th>user_rt</th>\n",
       "      <th>retweet_id</th>\n",
       "      <th>reply_to</th>\n",
       "      <th>retweet_date</th>\n",
       "      <th>translate</th>\n",
       "      <th>trans_src</th>\n",
       "      <th>trans_dest</th>\n",
       "    </tr>\n",
       "  </thead>\n",
       "  <tbody>\n",
       "    <tr>\n",
       "      <th>0</th>\n",
       "      <td>1100848143451807745</td>\n",
       "      <td>1041770783792455680</td>\n",
       "      <td>1551297624000</td>\n",
       "      <td>2019-02-27 15:00:24</td>\n",
       "      <td>-0400</td>\n",
       "      <td></td>\n",
       "      <td>official ios adoption stats published apple th...</td>\n",
       "      <td>[#peerless]</td>\n",
       "      <td>[$aapl]</td>\n",
       "      <td>740928303020802048</td>\n",
       "      <td>...</td>\n",
       "      <td></td>\n",
       "      <td></td>\n",
       "      <td></td>\n",
       "      <td></td>\n",
       "      <td></td>\n",
       "      <td>[{'user_id': '740928303020802048', 'username':...</td>\n",
       "      <td></td>\n",
       "      <td></td>\n",
       "      <td></td>\n",
       "      <td></td>\n",
       "    </tr>\n",
       "  </tbody>\n",
       "</table>\n",
       "<p>1 rows × 33 columns</p>\n",
       "</div>"
      ],
      "text/plain": [
       "                    id      conversation_id     created_at  \\\n",
       "0  1100848143451807745  1041770783792455680  1551297624000   \n",
       "\n",
       "                  date timezone place  \\\n",
       "0  2019-02-27 15:00:24    -0400         \n",
       "\n",
       "                                               tweet     hashtags cashtags  \\\n",
       "0  official ios adoption stats published apple th...  [#peerless]  [$aapl]   \n",
       "\n",
       "              user_id  ... geo source user_rt_id  user_rt retweet_id  \\\n",
       "0  740928303020802048  ...                                             \n",
       "\n",
       "                                            reply_to  retweet_date  translate  \\\n",
       "0  [{'user_id': '740928303020802048', 'username':...                            \n",
       "\n",
       "   trans_src  trans_dest  \n",
       "0                         \n",
       "\n",
       "[1 rows x 33 columns]"
      ]
     },
     "execution_count": 14,
     "metadata": {},
     "output_type": "execute_result"
    }
   ],
   "source": [
    "def processTweet(tweet):\n",
    "    # Remove HTML special entities (e.g. &amp;)\n",
    "    tweet = re.sub(r'\\&\\w*;', '', tweet)\n",
    "    #Convert @username to AT_USER\n",
    "    tweet = re.sub('@[^\\s]+','',tweet)\n",
    "    # Remove tickers\n",
    "    tweet = re.sub(r'\\$\\w*', '', tweet)\n",
    "    # To lowercase\n",
    "    tweet = tweet.lower()\n",
    "    # Remove hyperlinks\n",
    "    tweet = re.sub(r'https?:\\/\\/.*\\/\\w*', '', tweet)\n",
    "    # Remove hashtags\n",
    "    tweet = re.sub(r'#\\w*', '', tweet)\n",
    "    # Remove words with 2 or fewer letters\n",
    "    tweet = re.sub(r'\\b\\w{1,2}\\b', '', tweet)\n",
    "    # Remove whitespace (including new line characters)\n",
    "    tweet = re.sub(r'\\s\\s+', ' ', tweet)\n",
    "    # Remove single space remaining at the front of the tweet.\n",
    "    tweet = tweet.lstrip(' ') \n",
    "    # Remove characters beyond Basic Multilingual Plane (BMP) of Unicode:\n",
    "    tweet = ''.join(c for c in tweet if c <= '\\uFFFF') \n",
    "    return tweet\n",
    "# ______________________________________________________________\n",
    "# clean dataframe's text column\n",
    "tweets['tweet'] = tweets['tweet'].apply(processTweet)\n",
    "# preview some cleaned tweets\n",
    "tweets.head(1)"
   ]
  },
  {
   "cell_type": "code",
   "execution_count": 15,
   "metadata": {},
   "outputs": [
    {
     "ename": "NameError",
     "evalue": "name 'dft' is not defined",
     "output_type": "error",
     "traceback": [
      "\u001b[0;31m---------------------------------------------------------------------------\u001b[0m",
      "\u001b[0;31mNameError\u001b[0m                                 Traceback (most recent call last)",
      "\u001b[0;32m<ipython-input-15-92b8d025064a>\u001b[0m in \u001b[0;36m<module>\u001b[0;34m()\u001b[0m\n\u001b[0;32m----> 1\u001b[0;31m \u001b[0mdft\u001b[0m\u001b[0;34m[\u001b[0m\u001b[0;34m'tweet'\u001b[0m\u001b[0;34m]\u001b[0m\u001b[0;34m.\u001b[0m\u001b[0mstr\u001b[0m\u001b[0;34m.\u001b[0m\u001b[0mreplace\u001b[0m\u001b[0;34m(\u001b[0m\u001b[0;34m'[{}]'\u001b[0m\u001b[0;34m.\u001b[0m\u001b[0mformat\u001b[0m\u001b[0;34m(\u001b[0m\u001b[0mstring\u001b[0m\u001b[0;34m.\u001b[0m\u001b[0mpunctuation\u001b[0m\u001b[0;34m)\u001b[0m\u001b[0;34m,\u001b[0m \u001b[0;34m''\u001b[0m\u001b[0;34m)\u001b[0m\u001b[0;34m\u001b[0m\u001b[0m\n\u001b[0m",
      "\u001b[0;31mNameError\u001b[0m: name 'dft' is not defined"
     ]
    }
   ],
   "source": [
    "dft['tweet'].str.replace('[{}]'.format(string.punctuation), '')"
   ]
  },
  {
   "cell_type": "markdown",
   "metadata": {},
   "source": [
    "There are a number of columns that are intuitivley not useful for us to keep in our diagram. So let's condense of our data"
   ]
  },
  {
   "cell_type": "code",
   "execution_count": null,
   "metadata": {},
   "outputs": [],
   "source": [
    "dft = tweets[['date','tweet','retweet','nlikes','nreplies']]\n",
    "dft.head()"
   ]
  },
  {
   "cell_type": "markdown",
   "metadata": {},
   "source": [
    "Below we are going to do some EDA on the text and words in our dataset. Below is a graph listing the most popular words in our model"
   ]
  },
  {
   "cell_type": "code",
   "execution_count": null,
   "metadata": {
    "scrolled": false
   },
   "outputs": [],
   "source": [
    "# most common words in twitter dataset\n",
    "all_words = []\n",
    "for line in list(dft.tweet):\n",
    "    words = line.split()\n",
    "    for word in words:\n",
    "        all_words.append(word.lower())\n",
    "# plot word frequency distribution of first few words\n",
    "plt.figure(figsize=(12,5))\n",
    "plt.xticks(fontsize=13, rotation=90)\n",
    "fd = nltk.FreqDist(all_words)\n",
    "fd.plot(25,cumulative=False)"
   ]
  },
  {
   "cell_type": "markdown",
   "metadata": {},
   "source": [
    "Stopwords are the English words which do not add much meaning to a sentence. They can safely be ignored without sacrificing the meaning of the sentence. For example, the words like the, he, have etc. Such words are already captured this in corpus named corpus.\n",
    "\n",
    "Below we are going to list out those popular stopwords which are not contributing to finding the meaning of a sentence"
   ]
  },
  {
   "cell_type": "code",
   "execution_count": null,
   "metadata": {},
   "outputs": [],
   "source": [
    "import nltk\n",
    "from nltk.corpus import stopwords\n",
    "stopwords = stopwords.words('english')[0:20]\n",
    "#listing out stop words which do not support our sentiment\n",
    "stopwords_specific = [stopwords,'your','0','1012', 'and', 'for', 'the','.','that','with','you','has','was','from',\"'\",'&','this','are','their','its','.','']\n",
    "stopwords_specific[10]"
   ]
  },
  {
   "cell_type": "code",
   "execution_count": null,
   "metadata": {
    "scrolled": true
   },
   "outputs": [],
   "source": [
    "# Import stopwords with nltk.\n",
    "from nltk.corpus import stopwords\n",
    "stop = stopwords_specific\n",
    "\n",
    "tweets = dft['tweet']\n",
    "\n",
    "test = pd.DataFrame(tweets)\n",
    "test.columns = [\"tweet\"]\n",
    "\n",
    "# Exclude stopwords with Python's list comprehension and pandas.DataFrame.apply.\n",
    "dft['tweet'] = dft['tweet'].apply(lambda x: ' '.join([word for word in x.split() if word not in (stop)]))\n",
    "print(test)"
   ]
  },
  {
   "cell_type": "markdown",
   "metadata": {},
   "source": [
    "Now our below graph is going to refelct a different trajectory given our removed stop words. Words like \"buy, new, now, think\" have more meaning to sentiment. "
   ]
  },
  {
   "cell_type": "code",
   "execution_count": null,
   "metadata": {
    "scrolled": true
   },
   "outputs": [],
   "source": [
    "all_words = []\n",
    "for line in list(dft.tweet):\n",
    "    words = line.split()\n",
    "    for word in words:\n",
    "        all_words.append(word.lower())\n",
    "# plot word frequency distribution of first few words\n",
    "plt.figure(figsize=(12,5))\n",
    "plt.xticks(fontsize=13, rotation=90)\n",
    "fd = nltk.FreqDist(all_words)\n",
    "fd.plot(25,cumulative=False)"
   ]
  },
  {
   "cell_type": "code",
   "execution_count": null,
   "metadata": {},
   "outputs": [],
   "source": [
    "import string \n",
    "string.punctuation"
   ]
  },
  {
   "cell_type": "code",
   "execution_count": null,
   "metadata": {},
   "outputs": [],
   "source": [
    "#check Jeffs slack for removing punctuation"
   ]
  },
  {
   "cell_type": "markdown",
   "metadata": {},
   "source": [
    "### Sentiment Analysis"
   ]
  },
  {
   "cell_type": "code",
   "execution_count": null,
   "metadata": {},
   "outputs": [],
   "source": [
    "dft.info()"
   ]
  },
  {
   "cell_type": "code",
   "execution_count": null,
   "metadata": {},
   "outputs": [],
   "source": [
    "dft.shape"
   ]
  },
  {
   "cell_type": "markdown",
   "metadata": {},
   "source": [
    "### Subjectivity and Polarity"
   ]
  },
  {
   "cell_type": "markdown",
   "metadata": {},
   "source": [
    "Subjectivity: Subjectivity in sentiment analysis refers to expression of opinions, evaluations, feelings, and speculations and thus incorporates sentiment.\n",
    "\n",
    "Polarity: Polarity in sentiment analysis refers to identifying sentiment orientation (positive, neutral, and negative) in written or spoken language."
   ]
  },
  {
   "cell_type": "code",
   "execution_count": null,
   "metadata": {
    "scrolled": true
   },
   "outputs": [],
   "source": [
    "from textblob import TextBlob\n",
    "from IPython.display import Markdown, display"
   ]
  },
  {
   "cell_type": "code",
   "execution_count": null,
   "metadata": {},
   "outputs": [],
   "source": [
    "#Create a function to get the subjectivity\n",
    "def getSubjectivity(text):\n",
    "    return TextBlob(text).sentiment.subjectivity\n",
    "\n",
    "#Create a function to get the polarity\n",
    "def getPolarity(text):\n",
    "    return TextBlob(text).sentiment.polarity"
   ]
  },
  {
   "cell_type": "code",
   "execution_count": null,
   "metadata": {
    "scrolled": false
   },
   "outputs": [],
   "source": [
    "#Create two new columns \n",
    "dft['Subjectivity'] = dft['tweet'].apply(getSubjectivity)\n",
    "dft['Polarity'] = dft['tweet'].apply(getPolarity)\n",
    "\n",
    "#Show new dataframe \n",
    "dft.head()"
   ]
  },
  {
   "cell_type": "markdown",
   "metadata": {},
   "source": [
    "# EDA"
   ]
  },
  {
   "cell_type": "markdown",
   "metadata": {},
   "source": [
    "### WordCloud Visualization"
   ]
  },
  {
   "cell_type": "markdown",
   "metadata": {},
   "source": [
    "We will first be doing some visualizations into the types of sentences both positive and negative we have"
   ]
  },
  {
   "cell_type": "code",
   "execution_count": null,
   "metadata": {},
   "outputs": [],
   "source": [
    "from wordcloud import WordCloud\n",
    "import matplotlib.pyplot as plt\n"
   ]
  },
  {
   "cell_type": "code",
   "execution_count": null,
   "metadata": {},
   "outputs": [],
   "source": [
    "#Plot the worldcloud \n",
    "allwords = ' '.join([twts for twts in dft['tweet']])\n",
    "wordCloud = WordCloud(width = 500, height = 300, random_state = 21, max_font_size = 119).generate(allwords)\n",
    "\n",
    "plt.imshow(wordCloud, interpolation = \"bilinear\")\n",
    "plt.axis('off')\n",
    "plt.show()"
   ]
  },
  {
   "cell_type": "markdown",
   "metadata": {},
   "source": [
    "Some of the biggest words point to \"will\", \"price\", \"phone\", \"buy\", \"now\""
   ]
  },
  {
   "cell_type": "code",
   "execution_count": null,
   "metadata": {},
   "outputs": [],
   "source": [
    "#Create a function to compute the negative, neutral and positive analysis\n",
    "\n",
    "def getAnalysis(score):\n",
    "    if score < 0: \n",
    "        return 'Negative'\n",
    "    elif score == 0:\n",
    "        return 'Neutral'\n",
    "    elif score > 0:\n",
    "        return 'Positive'\n",
    "    \n",
    "dft['Analysis'] = dft['Polarity'].apply(getAnalysis)\n",
    "dft"
   ]
  },
  {
   "cell_type": "code",
   "execution_count": null,
   "metadata": {},
   "outputs": [],
   "source": [
    "#Print all the positive tweets\n",
    "j=1\n",
    "sortedDF = dft.sort_values(by=['Polarity'])\n",
    "for i in range(0, sortedDF.shape[0]):\n",
    "    if(sortedDF['Analysis'][i] == 'Positive'):\n",
    "        print(str(j) + ') '+sortedDF['tweet'][i])\n",
    "        print()\n",
    "        j = j+1"
   ]
  },
  {
   "cell_type": "code",
   "execution_count": null,
   "metadata": {},
   "outputs": [],
   "source": [
    "#Print all the negative tweets\n",
    "j=1\n",
    "sortedDF = dft.sort_values(by=['Polarity'], ascending=False)\n",
    "for i in range(0, sortedDF.shape[0]):\n",
    "    if(sortedDF['Analysis'][i] == 'Negative'):\n",
    "        print(str(j) + ') '+ sortedDF['tweet'][i])\n",
    "        print()\n",
    "        j = j+1"
   ]
  },
  {
   "cell_type": "code",
   "execution_count": null,
   "metadata": {},
   "outputs": [],
   "source": [
    "#plot the polarity and subjectivity\n",
    "plt.figure(figsize=(8,6))\n",
    "for i in range(0, dft.shape[0]):\n",
    "    plt.scatter(dft['Polarity'][i], dft['Subjectivity'][i], color= 'Blue')\n",
    "    \n",
    "plt.title('Sentiment Analysis')\n",
    "plt.xlabel('Polarity')\n",
    "plt.ylabel('Sujectivity')\n",
    "plt.show()\n",
    "    "
   ]
  },
  {
   "cell_type": "code",
   "execution_count": null,
   "metadata": {},
   "outputs": [],
   "source": [
    "import seaborn as sns\n",
    "#Bar graph to visualize sentiment\n",
    "\n",
    "y = dft[\"Analysis\"].value_counts()\n",
    "sns.barplot(y.index, y.values)\n",
    "y"
   ]
  },
  {
   "cell_type": "markdown",
   "metadata": {},
   "source": [
    "Predominately positive correlation of tweets"
   ]
  },
  {
   "cell_type": "code",
   "execution_count": null,
   "metadata": {
    "scrolled": true
   },
   "outputs": [],
   "source": [
    "from pylab import rcParams\n",
    "\n",
    "#Pie Chart shows a better visualization\n",
    "\n",
    "sizes = dft['Analysis'].value_counts(sort = True)\n",
    "colors = [\"blue\",\"orange\"] \n",
    "rcParams['figure.figsize'] = 5,5\n",
    "# Plot\n",
    "plt.pie(sizes, autopct='%1.1f%%', shadow=True, startangle=90)\n",
    "plt.title('Percentage of Tweet Sentiment')\n",
    "plt.show()"
   ]
  },
  {
   "cell_type": "code",
   "execution_count": null,
   "metadata": {
    "scrolled": true
   },
   "outputs": [],
   "source": [
    "# Join all the tweets into a single string\n",
    "all_words_string = ' '.join([str(dft.tweet) for tweet in dft.tweet])\n",
    "\n",
    "# Make a list of all the words in the dataframe\n",
    "all_words_list = all_words_string.split()\n",
    "\n",
    "# Plot word frequency distribution of first few words\n",
    "\n",
    "plt.figure(figsize=(12,5))\n",
    "plt.xticks(fontsize=13, rotation=90)\n",
    "freq_dist = nltk.FreqDist(all_words_list)\n",
    "freq_dist.plot(25,cumulative=False)"
   ]
  },
  {
   "cell_type": "code",
   "execution_count": null,
   "metadata": {},
   "outputs": [],
   "source": [
    "Breaking it down by total number of most popular words"
   ]
  },
  {
   "cell_type": "code",
   "execution_count": null,
   "metadata": {
    "scrolled": false
   },
   "outputs": [],
   "source": [
    "word_freq = nltk.FreqDist(all_words_list)\n",
    "freq_df = pd.DataFrame({'Word': list(word_freq.keys()), 'Count': list(word_freq.values())}).sort_values(by=['Count'], ascending=False)\n",
    "freq_df.head(15)"
   ]
  },
  {
   "cell_type": "code",
   "execution_count": null,
   "metadata": {},
   "outputs": [],
   "source": []
  },
  {
   "cell_type": "code",
   "execution_count": null,
   "metadata": {},
   "outputs": [],
   "source": []
  },
  {
   "cell_type": "markdown",
   "metadata": {},
   "source": [
    "### Combine Datasets"
   ]
  },
  {
   "cell_type": "markdown",
   "metadata": {},
   "source": [
    "Now that we have our two datasets finalized, its time to combine them in preparation for our time series. We will do so with an inner join"
   ]
  },
  {
   "cell_type": "code",
   "execution_count": null,
   "metadata": {
    "scrolled": true
   },
   "outputs": [],
   "source": [
    "#Average subjectivity and polarity scores based on day rather than time\n",
    "dft1 = dft[['date','Subjectivity','Polarity','Analysis']]\n",
    "dft1.head()"
   ]
  },
  {
   "cell_type": "code",
   "execution_count": null,
   "metadata": {
    "scrolled": false
   },
   "outputs": [],
   "source": [
    "dft1.info()"
   ]
  },
  {
   "cell_type": "code",
   "execution_count": null,
   "metadata": {
    "scrolled": true
   },
   "outputs": [],
   "source": [
    "dft1.date = pd.to_datetime(dft1.date)"
   ]
  },
  {
   "cell_type": "code",
   "execution_count": null,
   "metadata": {},
   "outputs": [],
   "source": [
    "#Average subjectivity and polarity scores based on day rather than time. Remove time. \n",
    "dft1 = dft1.resample('D', on='date').mean()\n",
    "dft1.head()"
   ]
  },
  {
   "cell_type": "code",
   "execution_count": null,
   "metadata": {
    "scrolled": false
   },
   "outputs": [],
   "source": [
    "dfs.head()"
   ]
  },
  {
   "cell_type": "markdown",
   "metadata": {},
   "source": [
    "Creating a new column below which identifies Open_Close Shift. The pupose of this is to more concretely see where the stock price went from start to end of the day. This gives us a eaiser visual into its comparision with polarity and subjectivity "
   ]
  },
  {
   "cell_type": "code",
   "execution_count": null,
   "metadata": {},
   "outputs": [],
   "source": [
    "# Create column to view the change in open prices from prior days close\n",
    "# Create a column that labels whether the open-close difference was positive or negative\n",
    "\n",
    "dfs['Open_Close_Shift'] = dfs.Close - dfs.Open\n",
    "dfs['Positive_Negative'] = dfs['Positive_Negative'] = dfs.Open_Close_Shift.apply(lambda x: 1 if (x > 0) else (-1 if x < 0 else 0))\n",
    "dfs.head()"
   ]
  },
  {
   "cell_type": "code",
   "execution_count": null,
   "metadata": {
    "scrolled": false
   },
   "outputs": [],
   "source": [
    "df = pd.merge(dfs, dft1, how='inner', left_index=True, right_index=True)\n",
    "df.head()"
   ]
  },
  {
   "cell_type": "code",
   "execution_count": null,
   "metadata": {
    "scrolled": false
   },
   "outputs": [],
   "source": [
    "#adding Analysis back into the dataframe\n",
    "df['Analysis'] = df['Polarity'].apply(getAnalysis)\n",
    "df.head()"
   ]
  },
  {
   "cell_type": "code",
   "execution_count": null,
   "metadata": {
    "scrolled": true
   },
   "outputs": [],
   "source": [
    "df.index.names = ['Date']\n",
    "df.head()"
   ]
  },
  {
   "cell_type": "code",
   "execution_count": null,
   "metadata": {},
   "outputs": [],
   "source": [
    "#drop unneccary columns\n",
    "df.drop(['Open','High','Low','Close','Adj Close','Volume'], axis=1, inplace=True)\n",
    "df.head()"
   ]
  },
  {
   "cell_type": "code",
   "execution_count": null,
   "metadata": {
    "scrolled": true
   },
   "outputs": [],
   "source": [
    "df.info()"
   ]
  },
  {
   "cell_type": "code",
   "execution_count": null,
   "metadata": {
    "scrolled": true
   },
   "outputs": [],
   "source": [
    "df.head()"
   ]
  },
  {
   "cell_type": "markdown",
   "metadata": {},
   "source": [
    "Visualization to show that negative tweets were the only places where we saw a negative analysis. This is a good sign for our model and correlation"
   ]
  },
  {
   "cell_type": "code",
   "execution_count": null,
   "metadata": {
    "scrolled": false
   },
   "outputs": [],
   "source": [
    "#Taking a look a visual look at sentiment and change in stock price\n",
    "df.groupby([\"Positive_Negative\", \"Analysis\"]).size().unstack().plot(kind='bar', stacked=True, figsize=(5,5))\n"
   ]
  },
  {
   "cell_type": "markdown",
   "metadata": {},
   "source": [
    "### Line Graphs of our columns"
   ]
  },
  {
   "cell_type": "markdown",
   "metadata": {},
   "source": [
    "Showing quick line graphs for each of our columns"
   ]
  },
  {
   "cell_type": "code",
   "execution_count": null,
   "metadata": {},
   "outputs": [],
   "source": [
    "#open_close_shift\n",
    "df['Open_Close_Shift'].plot(figsize=(12,6), linewidth=2, fontsize=10)\n",
    "plt.legend(ncol=2)\n",
    "plt.xlabel(\"Date\",fontsize=12)\n",
    "plt.ylabel(\"Stock Price Change\",fontsize=12)\n",
    "plt.title(\"Apple Stock Price Over Time\", fontsize=16);\n"
   ]
  },
  {
   "cell_type": "code",
   "execution_count": null,
   "metadata": {
    "scrolled": false
   },
   "outputs": [],
   "source": [
    "#Subjectivity \n",
    "df['Subjectivity'].plot(figsize=(12,6), linewidth=2, fontsize=10)\n",
    "plt.legend(ncol=2)\n",
    "plt.xlabel(\"Date\",fontsize=12)\n",
    "plt.ylabel(\"Subjectivity Rating\",fontsize=12)\n",
    "plt.title(\"Twitter Subjectivity Over Time\", fontsize=16);"
   ]
  },
  {
   "cell_type": "code",
   "execution_count": null,
   "metadata": {
    "scrolled": true
   },
   "outputs": [],
   "source": [
    "#Polarity\n",
    "df['Polarity'].plot(figsize=(12,6), linewidth=2, fontsize=10)\n",
    "plt.legend(ncol=2)\n",
    "plt.xlabel(\"Date\",fontsize=12)\n",
    "plt.ylabel(\"Polarity Rating\",fontsize=12)\n",
    "plt.title(\"Twitter Polarity Over Time\", fontsize=16);"
   ]
  },
  {
   "cell_type": "code",
   "execution_count": null,
   "metadata": {},
   "outputs": [],
   "source": [
    "df1 = df.copy()\n",
    "df1[\"Open_Close_Shift\"]=((df1[\"Open_Close_Shift\"]-df1[\"Open_Close_Shift\"].min())/(df1[\"Open_Close_Shift\"].max()-df1[\"Open_Close_Shift\"].min()))*.6\n",
    "df1[\"Polarity\"]=((df1[\"Polarity\"]-df1[\"Polarity\"].min())/(df1[\"Polarity\"].max()-df1[\"Polarity\"].min()))*.6"
   ]
  },
  {
   "cell_type": "code",
   "execution_count": null,
   "metadata": {},
   "outputs": [],
   "source": [
    "df1.drop(['Positive_Negative','Analysis','Subjectivity'], axis=1, inplace=True)"
   ]
  },
  {
   "cell_type": "code",
   "execution_count": null,
   "metadata": {},
   "outputs": [],
   "source": [
    "df1.to_csv('stocks-polarity.csv',index=True)"
   ]
  },
  {
   "cell_type": "markdown",
   "metadata": {},
   "source": [
    "Below we will explore the trajectory of Polarity vs Subjectivity in predicting stock price. Which one follows a more silmilar pattern"
   ]
  },
  {
   "cell_type": "code",
   "execution_count": null,
   "metadata": {
    "scrolled": false
   },
   "outputs": [],
   "source": [
    "from pandas import read_csv\n",
    "from pandas import datetime\n",
    "from matplotlib import pyplot\n",
    "def parser(x):\n",
    "    return datetime.strptime(x, '%Y-%m-%d')\n",
    "series = read_csv('stocks-polarity.csv', header=0, parse_dates=[0], index_col=0, squeeze=True, date_parser=parser)\n",
    "# summarize first few rows\n",
    "print(series.head())\n",
    "# line plot\n",
    "series.plot()\n",
    "plt.title(\"Polarity || Stock Trend\", fontsize=16);\n",
    "pyplot.show()\n",
    "plt.legend\n"
   ]
  },
  {
   "cell_type": "code",
   "execution_count": null,
   "metadata": {},
   "outputs": [],
   "source": [
    "df2=df.copy()\n",
    "df2[\"Open_Close_Shift\"]=((df2[\"Open_Close_Shift\"]-df2[\"Open_Close_Shift\"].min())/(df2[\"Open_Close_Shift\"].max()-df2[\"Open_Close_Shift\"].min()))*.6\n",
    "df2[\"Subjectivity\"]=((df2[\"Subjectivity\"]-df2[\"Subjectivity\"].min())/(df2[\"Subjectivity\"].max()-df2[\"Subjectivity\"].min()))*.6"
   ]
  },
  {
   "cell_type": "code",
   "execution_count": null,
   "metadata": {},
   "outputs": [],
   "source": [
    "df2.drop(['Polarity','Positive_Negative','Analysis'], axis=1, inplace=True)"
   ]
  },
  {
   "cell_type": "code",
   "execution_count": null,
   "metadata": {},
   "outputs": [],
   "source": [
    "df2.to_csv('stocks-subjectivity.csv',index=True)"
   ]
  },
  {
   "cell_type": "code",
   "execution_count": null,
   "metadata": {
    "scrolled": true
   },
   "outputs": [],
   "source": [
    "from pandas import read_csv\n",
    "from pandas import datetime\n",
    "from matplotlib import pyplot\n",
    "def parser(x):\n",
    "    return datetime.strptime(x, '%Y-%m-%d')\n",
    "series = read_csv('stocks-subjectivity.csv', header=0, parse_dates=[0], index_col=0, squeeze=True, date_parser=parser)\n",
    "# summarize first few rows\n",
    "print(series.head())\n",
    "# line plot\n",
    "series.plot()\n",
    "plt.title(\"Subjectivity || Stock Trend\", fontsize=16);\n",
    "pyplot.show()\n",
    "plt.legend"
   ]
  },
  {
   "cell_type": "markdown",
   "metadata": {},
   "source": [
    "Ultimately it is visually clear that Subjectivity more closely follows the curve of stock price than Polarity. We will use Subjectiviity as our predictive columnd alongside change in stock price below"
   ]
  },
  {
   "cell_type": "markdown",
   "metadata": {},
   "source": [
    "# Time Series Pediction Model"
   ]
  },
  {
   "cell_type": "code",
   "execution_count": null,
   "metadata": {},
   "outputs": [],
   "source": [
    "import pandas as pd\n",
    "import numpy as np\n",
    "import matplotlib.pyplot as plt\n",
    "from sklearn.preprocessing import MinMaxScaler\n",
    "from keras.preprocessing.sequence import TimeseriesGenerator\n",
    "from keras.models import Sequential\n",
    "from keras.layers import Dense,SimpleRNN,LSTM\n",
    "from keras.callbacks import EarlyStopping\n",
    "import tensorflow as tf\n",
    "import matplotlib as mpl\n",
    "import os"
   ]
  },
  {
   "cell_type": "code",
   "execution_count": null,
   "metadata": {},
   "outputs": [],
   "source": [
    "df.drop(['Positive_Negative','Analysis','Polarity'], axis=1, inplace=True)"
   ]
  },
  {
   "cell_type": "code",
   "execution_count": null,
   "metadata": {
    "scrolled": true
   },
   "outputs": [],
   "source": [
    "df.head()"
   ]
  },
  {
   "cell_type": "code",
   "execution_count": null,
   "metadata": {
    "scrolled": true
   },
   "outputs": [],
   "source": [
    "df.shape"
   ]
  },
  {
   "cell_type": "markdown",
   "metadata": {},
   "source": [
    "We are going to use a multivariate time series model to account for both subjectivity and stock price. Allows us to use two inputs and spit out 1 output (predicted stock price). \n"
   ]
  },
  {
   "cell_type": "code",
   "execution_count": null,
   "metadata": {},
   "outputs": [],
   "source": [
    "# multivariate data preparation\n",
    "from numpy import array\n",
    "from numpy import hstack\n",
    "\n",
    "# split a multivariate sequence into samples\n",
    "def split_sequences(sequences, n_steps):\n",
    "    X, y = list(), list()\n",
    "    for i in range(len(sequences)):\n",
    "        # find the end of this pattern\n",
    "        end_ix = i + n_steps\n",
    "        # check if we are beyond the dataset\n",
    "        if end_ix > len(sequences):\n",
    "            break\n",
    "        # gather input and output parts of the pattern\n",
    "        seq_x, seq_y = sequences[i:end_ix, :-1], sequences[end_ix-1, -1]\n",
    "        X.append(seq_x)\n",
    "        y.append(seq_y)\n",
    "    return array(X), array(y)\n",
    "\n",
    "# define input sequence\n",
    "in_seq1 = array(df['Subjectivity'])\n",
    "in_seq2 = array(df['Open_Close_Shift'])\n",
    "out_seq = array([in_seq1[i]+in_seq2[i] for i in range(len(in_seq1))])\n",
    "# convert to [rows, columns] structure\n",
    "in_seq1 = in_seq1.reshape((len(in_seq1), 1))\n",
    "in_seq2 = in_seq2.reshape((len(in_seq2), 1))\n",
    "out_seq = out_seq.reshape((len(out_seq), 1))\n",
    "# horizontally stack columns\n",
    "dataset = hstack((in_seq1, in_seq2, out_seq))\n",
    "# choose a number of time steps\n",
    "n_steps = 3\n",
    "# convert into input/output\n",
    "X, y = split_sequences(dataset, n_steps)\n",
    "print(X.shape, y.shape)\n",
    "# summarize the data\n",
    "for i in range(len(X)):\n",
    "    print(X[i], y[i])\n",
    "# multivariate data preparation\n",
    "from numpy import array\n",
    "from numpy import hstack\n",
    " \n",
    "# split a multivariate sequence into samples\n",
    "def split_sequences(sequences, n_steps):\n",
    "    X, y = list(), list()\n",
    "    for i in range(len(sequences)):\n",
    "        # find the end of this pattern\n",
    "        end_ix = i + n_steps\n",
    "        # check if we are beyond the dataset\n",
    "        if end_ix > len(sequences):\n",
    "            break\n",
    "        # gather input and output parts of the pattern\n",
    "        seq_x, seq_y = sequences[i:end_ix, :-1], sequences[end_ix-1, -1]\n",
    "        X.append(seq_x)\n",
    "        y.append(seq_y)\n",
    "    return array(X), array(y)\n",
    " "
   ]
  },
  {
   "cell_type": "markdown",
   "metadata": {},
   "source": [
    "Running the sample above first prints the shape of the X and y components. We can see that the X component has a three-dimensional structure.\n",
    "\n",
    "The first dimension is the number of samples, in this case 37. The second dimension is the number of time steps per sample, in this case 3, the value specified to the function. Finally, the last dimension specifies the number of parallel time series or the number of variables, in this case 2 for the two parallel series.\n",
    "\n",
    "We can then see that the input and output for each sample is printed, showing the three time steps for each of the two input series and the associated output for each sample."
   ]
  },
  {
   "cell_type": "code",
   "execution_count": null,
   "metadata": {
    "scrolled": true
   },
   "outputs": [],
   "source": [
    "from numpy import array\n",
    "from numpy import hstack\n",
    "from keras.models import Sequential\n",
    "from keras.layers import LSTM\n",
    "from keras.layers import Dense\n",
    " \n",
    "# split a multivariate sequence into samples\n",
    "def split_sequences(sequences, n_steps):\n",
    "    X, y = list(), list()\n",
    "    for i in range(len(sequences)):\n",
    "        # find the end of this pattern\n",
    "        end_ix = i + n_steps\n",
    "        # check if we are beyond the dataset\n",
    "        if end_ix > len(sequences):\n",
    "            break\n",
    "        # gather input and output parts of the pattern\n",
    "        seq_x, seq_y = sequences[i:end_ix, :-1], sequences[end_ix-1, -1]\n",
    "        X.append(seq_x)\n",
    "        y.append(seq_y)\n",
    "    return array(X), array(y)\n",
    " \n",
    "# define input sequence\n",
    "in_seq1 = array(df['Subjectivity'])\n",
    "in_seq2 = array(df['Open_Close_Shift'])\n",
    "out_seq = array([in_seq1[i]+in_seq2[i] for i in range(len(in_seq1))])\n",
    "# convert to [rows, columns] structure\n",
    "in_seq1 = in_seq1.reshape((len(in_seq1), 1))\n",
    "in_seq2 = in_seq2.reshape((len(in_seq2), 1))\n",
    "out_seq = out_seq.reshape((len(out_seq), 1))\n",
    "# horizontally stack columns\n",
    "dataset = hstack((in_seq1, in_seq2, out_seq))\n",
    "# choose a number of time steps\n",
    "n_steps = 3\n",
    "# convert into input/output\n",
    "X, y = split_sequences(dataset, n_steps)\n",
    "# the dataset knows the number of features, e.g. 2\n",
    "n_features = X.shape[2]\n",
    "# define model\n",
    "model = Sequential()\n",
    "model.add(LSTM(25, activation='relu', input_shape=(n_steps, n_features)))\n",
    "model.add(Dense(1))\n",
    "model.compile(optimizer='adam', loss='mse')\n",
    "# fit model\n",
    "model.fit(X, y, epochs=200, verbose=0)\n",
    "# demonstrate prediction\n",
    "x_input = array([[.39, .069], [.32, .61], [.17, 1.6]])\n",
    "x_input = x_input.reshape((1, n_steps, n_features))\n",
    "yhat = model.predict(x_input, verbose=0)\n",
    "print(yhat)"
   ]
  },
  {
   "cell_type": "markdown",
   "metadata": {},
   "source": [
    "When making a prediction, the model expects three time steps for two input time series.\n",
    "\n",
    "We can predict the next value in the output series proving the input values of subjectivity and stock price for the past 3 days\n",
    "\n"
   ]
  },
  {
   "cell_type": "code",
   "execution_count": null,
   "metadata": {},
   "outputs": [],
   "source": [
    "X.shape"
   ]
  },
  {
   "cell_type": "code",
   "execution_count": null,
   "metadata": {},
   "outputs": [],
   "source": [
    "X[-1].reshape(1,3,2)"
   ]
  },
  {
   "cell_type": "code",
   "execution_count": null,
   "metadata": {},
   "outputs": [],
   "source": [
    "x_input = array([[.2, .1], [-.4, -.3], [.1, -1]])\n",
    "x_input = x_input.reshape((1, n_steps, n_features))\n",
    "yhat = model.predict(x_input, verbose=0)\n",
    "print(yhat)"
   ]
  },
  {
   "cell_type": "markdown",
   "metadata": {},
   "source": [
    "Running the past three inputs above, fits the model, and makes a prediction.\n"
   ]
  },
  {
   "cell_type": "markdown",
   "metadata": {},
   "source": [
    "Now lets create a train and test set check out model"
   ]
  },
  {
   "cell_type": "code",
   "execution_count": null,
   "metadata": {},
   "outputs": [],
   "source": [
    "train_x = X[:30]\n",
    "\n",
    "train_y = y[:30]\n",
    "\n",
    "test_x = X[30:]\n",
    "\n",
    "test_y = y[30:]"
   ]
  },
  {
   "cell_type": "code",
   "execution_count": null,
   "metadata": {
    "scrolled": true
   },
   "outputs": [],
   "source": [
    "model_history = model.fit(train_x, train_y, epochs=200, verbose=1,validation_data=[test_x,test_y])\n",
    "model_history\n",
    "#loss ie MSE. Good that is getting smaller overtime "
   ]
  },
  {
   "cell_type": "markdown",
   "metadata": {},
   "source": [
    "Our loss and val_loss (MSE) is decreasing as our Epochs move forward. This is a good sign that our model is accurate."
   ]
  },
  {
   "cell_type": "code",
   "execution_count": null,
   "metadata": {},
   "outputs": [],
   "source": [
    "model.predict(X[-1].reshape(1,3,2))"
   ]
  },
  {
   "cell_type": "markdown",
   "metadata": {},
   "source": [
    "Our final product will be an input structure where we can plot in the past 3 days of inputs and it will spit our a predicted stock price"
   ]
  },
  {
   "cell_type": "code",
   "execution_count": null,
   "metadata": {},
   "outputs": [],
   "source": [
    "yesterday_stock = float(input(\"stock price change from yesterday = \"))\n",
    "yesterday_subjectivity = float(input(\"subjectivity  from yesterday = \"))\n",
    "two_days_ago_stock = float(input(\"stock price change from 2 days ago = \"))\n",
    "two_days_ago_subjectivity = float(input(\"subjectivity  from 2 days ago = \"))\n",
    "three_days_ago_stock = float(input(\"stock price change from 3 days ago = \"))\n",
    "three_days_ago_subjectivity = float(input(\"subjectivity  from 3 days ago = \"))\n",
    "\n",
    "x_input = array([[yesterday_stock,yesterday_subjectivity],[two_days_ago_stock, two_days_ago_subjectivity],\n",
    "                [three_days_ago_stock, three_days_ago_subjectivity]])\n",
    "x_input = x_input.reshape((1, n_steps, n_features))\n",
    "yhat = model.predict(x_input, verbose=0)\n",
    "print(yhat)"
   ]
  },
  {
   "cell_type": "markdown",
   "metadata": {},
   "source": [
    "# Conclusions"
   ]
  },
  {
   "cell_type": "markdown",
   "metadata": {},
   "source": [
    "There is a correlation between tweet subjectivity and stock price. Some places I would further examine: \n",
    "\n",
    "1) Recurring twitter patterns. Would be great to tap into the Twitter API and pull a model that updates with daily tweets\n",
    "\n",
    "2) Would be keen to run this model on other companies and see what the patterns look like\n",
    "\n",
    "3) Intertwine other factors into predicting stock price such as newspaper headlines or specific company data \n",
    "\n"
   ]
  }
 ],
 "metadata": {
  "kernelspec": {
   "display_name": "Python 3",
   "language": "python",
   "name": "python3"
  },
  "language_info": {
   "codemirror_mode": {
    "name": "ipython",
    "version": 3
   },
   "file_extension": ".py",
   "mimetype": "text/x-python",
   "name": "python",
   "nbconvert_exporter": "python",
   "pygments_lexer": "ipython3",
   "version": "3.6.6"
  }
 },
 "nbformat": 4,
 "nbformat_minor": 2
}
