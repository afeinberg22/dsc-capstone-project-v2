{
 "cells": [
  {
   "cell_type": "markdown",
   "metadata": {},
   "source": [
    "In this project, I test the correlation between twitter and stock price for Apple with the end goal aimed at creating a prediction model that can spit out a predicted change in stock price. My notebook is organized using the OSEMN process. \n",
    "\n",
    "Using Twint, I was able to gather 1000 tweets dating from Jan 1 - Feb 28 2019. After gathering these tweets I then clean and run a sentiment analayis on them to determine which tweets are positive, negative and/or somewhere in between. Along the way I show visualizations on the types of words and meaning of tweet sentences in our data. \n",
    "\n",
    "Using Yahoo finance I pull stock prices for Apple using the same dates as listed above. Ultimately I narrow this data into a single column that shows the change in price from when the market opened and closed that day. This demonstrates if the stock price was positive or negative. \n",
    "\n",
    "Finally I combine these two data sets and run a multivariate time series model to predict stock prices given subjectviity. \n"
   ]
  },
  {
   "cell_type": "code",
   "execution_count": null,
   "metadata": {},
   "outputs": [],
   "source": []
  }
 ],
 "metadata": {
  "kernelspec": {
   "display_name": "Python 3",
   "language": "python",
   "name": "python3"
  },
  "language_info": {
   "codemirror_mode": {
    "name": "ipython",
    "version": 3
   },
   "file_extension": ".py",
   "mimetype": "text/x-python",
   "name": "python",
   "nbconvert_exporter": "python",
   "pygments_lexer": "ipython3",
   "version": "3.6.6"
  }
 },
 "nbformat": 4,
 "nbformat_minor": 2
}
